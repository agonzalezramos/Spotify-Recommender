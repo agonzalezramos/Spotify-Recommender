{
  "nbformat": 4,
  "nbformat_minor": 0,
  "metadata": {
    "colab": {
      "provenance": [],
      "collapsed_sections": [
        "heFjU8ZNrCjH",
        "IWzelty-WQSg",
        "8XsheOkK2ELP",
        "o1G8WVbcupQ6",
        "661JVMjNpCHu",
        "l_uHmrvv7koy",
        "xR_5SSwgatKr",
        "2O4LjjeBZHMr"
      ]
    },
    "kernelspec": {
      "name": "python3",
      "display_name": "Python 3"
    },
    "language_info": {
      "name": "python"
    }
  },
  "cells": [
    {
      "cell_type": "markdown",
      "source": [
        "## Setting the Enviroment"
      ],
      "metadata": {
        "id": "JU4-zkCANVNc"
      }
    },
    {
      "cell_type": "code",
      "execution_count": null,
      "metadata": {
        "id": "BloqqUmUX0sO"
      },
      "outputs": [],
      "source": [
        "pip install spotipy"
      ]
    },
    {
      "cell_type": "code",
      "source": [
        "#Complete with your Credentials\n",
        "import os\n",
        "os.environ['SPOTIPY_CLIENT_ID'] = '' \n",
        "os.environ['SPOTIPY_CLIENT_SECRET'] = ''\n",
        "os.environ['SPOTIPY_REDIRECT_URI'] = 'https://google.com'\n",
        "\n"
      ],
      "metadata": {
        "id": "nUgPNkbbcjS4"
      },
      "execution_count": 1,
      "outputs": []
    },
    {
      "cell_type": "code",
      "source": [
        "import pandas as pd\n",
        "import numpy as np\n",
        "import spotipy\n",
        "from spotipy.oauth2 import SpotifyOAuth"
      ],
      "metadata": {
        "id": "-Zy7YiJVYKkl"
      },
      "execution_count": null,
      "outputs": []
    },
    {
      "cell_type": "code",
      "source": [
        "#Plotly\n",
        "!wget https://raw.githubusercontent.com/MicrosoftDocs/mslearn-introduction-to-machine-learning/main/graphing.py\n",
        "import graphing\n",
        "import plotly.express as px\n",
        "import plotly.graph_objects as go"
      ],
      "metadata": {
        "id": "LsSNhzDuraAO"
      },
      "execution_count": null,
      "outputs": []
    },
    {
      "cell_type": "markdown",
      "source": [
        "## Development of the df_SI (Songs that I like!)\n"
      ],
      "metadata": {
        "id": "lXhdAIo4q83O"
      }
    },
    {
      "cell_type": "markdown",
      "source": [
        "We are goint to create two DataFrames: one called df_SI, with the songs that I like, and another named df_NO with the ones that I do not like."
      ],
      "metadata": {
        "id": "7pjEdVJAo-Bs"
      }
    },
    {
      "cell_type": "markdown",
      "source": [
        "To extract the playlist, we need a DevAccount (check this link for more information: https://www.youtube.com/watch?v=cU8YH2rhN6A&t=1138s). After getting it, we execute the following code, that asks us for the obtained URL from the link below. We just copy and paste that URL into the box and click \"OK\"."
      ],
      "metadata": {
        "id": "Vu80HRZhpfRl"
      }
    },
    {
      "cell_type": "code",
      "source": [
        "#We are going to log to retrieve my personal Library.\n",
        "scope = \"user-library-read\"\n",
        "\n",
        "sp = spotipy.Spotify(auth_manager=SpotifyOAuth(scope=scope,open_browser=False))\n",
        "\n",
        "  "
      ],
      "metadata": {
        "id": "AiOe-UB2enx4"
      },
      "execution_count": null,
      "outputs": []
    },
    {
      "cell_type": "code",
      "source": [
        "#With the following code, we will create an array of all the IDs (URIS) of the songs that I have liked.\n",
        "saved_tracks_resp = sp.current_user_saved_tracks()\n",
        "\n",
        "number_of_tracks = saved_tracks_resp['total']\n",
        "print('%d tracks' % number_of_tracks)\n",
        "\n",
        "def save_only_some_fields(track_response):\n",
        "    return {        \n",
        "        'id': str(track_response['track']['id']),\n",
        "        'title': str(track_response['track']['name']),\n",
        "        'artists': [artist['name'] for artist in track_response['track']['artists']], \n",
        "        'popularity': track_response['track']['popularity'],\n",
        "        'release_date': track_response['track']['album']['release_date'],\n",
        "        'duration_ms': track_response['track']['duration_ms'],\n",
        "        #,'added_at': track_response['added_at']\n",
        "    }\n",
        "\n",
        "tracks = [save_only_some_fields(track) for track in saved_tracks_resp['items']]\n",
        "\n",
        "while saved_tracks_resp['next']:\n",
        "    saved_tracks_resp = sp.next(saved_tracks_resp)\n",
        "    tracks.extend([save_only_some_fields(track) for track in saved_tracks_resp['items']])"
      ],
      "metadata": {
        "id": "WB8xBB1zNiSl"
      },
      "execution_count": null,
      "outputs": []
    },
    {
      "cell_type": "code",
      "source": [
        "#Here we will get them into a proper dataframe and will make some few transformations to get the songs in seconds and not miliseconds.\n",
        "df_SI = pd.DataFrame(tracks)\n",
        "pd.set_option('display.max_rows', len(tracks))\n",
        "df_SI['duration_ms'] = df_SI['duration_ms'].apply(lambda duration: duration/1000)\n",
        "df_SI = df_SI.rename(columns = {'duration_ms':'duration_s'})\n",
        "df_SI.head()"
      ],
      "metadata": {
        "colab": {
          "base_uri": "https://localhost:8080/",
          "height": 458
        },
        "id": "Wn5OS0QBOgQ9",
        "outputId": "b73817da-8040-4d8a-8953-dad6f9819adf"
      },
      "execution_count": null,
      "outputs": [
        {
          "output_type": "execute_result",
          "data": {
            "text/plain": [
              "                       id                                      title  \\\n",
              "0  6OMjtuz1sYVsHpdeZPUR1n                         Sarà perché ti amo   \n",
              "1  1mfOVu9M9P4NfZZvotQ7NV                           Cruel to Be Kind   \n",
              "2  0J5xhsP8FsUCH5W6ZQLJJr                           Dancin' Til Dawn   \n",
              "3  4F1V29ygbAKbKCQDgt4z9f  The Secret Life of Arabia - 2017 Remaster   \n",
              "4  2EC9IJj7g0mN1Q5VrZkiYY                Rebel Rebel - 2016 Remaster   \n",
              "\n",
              "             artists  popularity release_date  duration_s  \n",
              "0  [Ricchi E Poveri]          58   1997-09-08     189.800  \n",
              "1        [Nick Lowe]           0   2011-03-13     210.106  \n",
              "2    [Lenny Kravitz]          29   2008-01-01     309.746  \n",
              "3      [David Bowie]          34         1977     226.906  \n",
              "4      [David Bowie]          70   1974-05-24     274.746  "
            ],
            "text/html": [
              "\n",
              "  <div id=\"df-6554fe69-82a9-422d-bc55-dc6ccab41e4c\">\n",
              "    <div class=\"colab-df-container\">\n",
              "      <div>\n",
              "<style scoped>\n",
              "    .dataframe tbody tr th:only-of-type {\n",
              "        vertical-align: middle;\n",
              "    }\n",
              "\n",
              "    .dataframe tbody tr th {\n",
              "        vertical-align: top;\n",
              "    }\n",
              "\n",
              "    .dataframe thead th {\n",
              "        text-align: right;\n",
              "    }\n",
              "</style>\n",
              "<table border=\"1\" class=\"dataframe\">\n",
              "  <thead>\n",
              "    <tr style=\"text-align: right;\">\n",
              "      <th></th>\n",
              "      <th>id</th>\n",
              "      <th>title</th>\n",
              "      <th>artists</th>\n",
              "      <th>popularity</th>\n",
              "      <th>release_date</th>\n",
              "      <th>duration_s</th>\n",
              "    </tr>\n",
              "  </thead>\n",
              "  <tbody>\n",
              "    <tr>\n",
              "      <th>0</th>\n",
              "      <td>6OMjtuz1sYVsHpdeZPUR1n</td>\n",
              "      <td>Sarà perché ti amo</td>\n",
              "      <td>[Ricchi E Poveri]</td>\n",
              "      <td>58</td>\n",
              "      <td>1997-09-08</td>\n",
              "      <td>189.800</td>\n",
              "    </tr>\n",
              "    <tr>\n",
              "      <th>1</th>\n",
              "      <td>1mfOVu9M9P4NfZZvotQ7NV</td>\n",
              "      <td>Cruel to Be Kind</td>\n",
              "      <td>[Nick Lowe]</td>\n",
              "      <td>0</td>\n",
              "      <td>2011-03-13</td>\n",
              "      <td>210.106</td>\n",
              "    </tr>\n",
              "    <tr>\n",
              "      <th>2</th>\n",
              "      <td>0J5xhsP8FsUCH5W6ZQLJJr</td>\n",
              "      <td>Dancin' Til Dawn</td>\n",
              "      <td>[Lenny Kravitz]</td>\n",
              "      <td>29</td>\n",
              "      <td>2008-01-01</td>\n",
              "      <td>309.746</td>\n",
              "    </tr>\n",
              "    <tr>\n",
              "      <th>3</th>\n",
              "      <td>4F1V29ygbAKbKCQDgt4z9f</td>\n",
              "      <td>The Secret Life of Arabia - 2017 Remaster</td>\n",
              "      <td>[David Bowie]</td>\n",
              "      <td>34</td>\n",
              "      <td>1977</td>\n",
              "      <td>226.906</td>\n",
              "    </tr>\n",
              "    <tr>\n",
              "      <th>4</th>\n",
              "      <td>2EC9IJj7g0mN1Q5VrZkiYY</td>\n",
              "      <td>Rebel Rebel - 2016 Remaster</td>\n",
              "      <td>[David Bowie]</td>\n",
              "      <td>70</td>\n",
              "      <td>1974-05-24</td>\n",
              "      <td>274.746</td>\n",
              "    </tr>\n",
              "  </tbody>\n",
              "</table>\n",
              "</div>\n",
              "      <button class=\"colab-df-convert\" onclick=\"convertToInteractive('df-6554fe69-82a9-422d-bc55-dc6ccab41e4c')\"\n",
              "              title=\"Convert this dataframe to an interactive table.\"\n",
              "              style=\"display:none;\">\n",
              "        \n",
              "  <svg xmlns=\"http://www.w3.org/2000/svg\" height=\"24px\"viewBox=\"0 0 24 24\"\n",
              "       width=\"24px\">\n",
              "    <path d=\"M0 0h24v24H0V0z\" fill=\"none\"/>\n",
              "    <path d=\"M18.56 5.44l.94 2.06.94-2.06 2.06-.94-2.06-.94-.94-2.06-.94 2.06-2.06.94zm-11 1L8.5 8.5l.94-2.06 2.06-.94-2.06-.94L8.5 2.5l-.94 2.06-2.06.94zm10 10l.94 2.06.94-2.06 2.06-.94-2.06-.94-.94-2.06-.94 2.06-2.06.94z\"/><path d=\"M17.41 7.96l-1.37-1.37c-.4-.4-.92-.59-1.43-.59-.52 0-1.04.2-1.43.59L10.3 9.45l-7.72 7.72c-.78.78-.78 2.05 0 2.83L4 21.41c.39.39.9.59 1.41.59.51 0 1.02-.2 1.41-.59l7.78-7.78 2.81-2.81c.8-.78.8-2.07 0-2.86zM5.41 20L4 18.59l7.72-7.72 1.47 1.35L5.41 20z\"/>\n",
              "  </svg>\n",
              "      </button>\n",
              "      \n",
              "  <style>\n",
              "    .colab-df-container {\n",
              "      display:flex;\n",
              "      flex-wrap:wrap;\n",
              "      gap: 12px;\n",
              "    }\n",
              "\n",
              "    .colab-df-convert {\n",
              "      background-color: #E8F0FE;\n",
              "      border: none;\n",
              "      border-radius: 50%;\n",
              "      cursor: pointer;\n",
              "      display: none;\n",
              "      fill: #1967D2;\n",
              "      height: 32px;\n",
              "      padding: 0 0 0 0;\n",
              "      width: 32px;\n",
              "    }\n",
              "\n",
              "    .colab-df-convert:hover {\n",
              "      background-color: #E2EBFA;\n",
              "      box-shadow: 0px 1px 2px rgba(60, 64, 67, 0.3), 0px 1px 3px 1px rgba(60, 64, 67, 0.15);\n",
              "      fill: #174EA6;\n",
              "    }\n",
              "\n",
              "    [theme=dark] .colab-df-convert {\n",
              "      background-color: #3B4455;\n",
              "      fill: #D2E3FC;\n",
              "    }\n",
              "\n",
              "    [theme=dark] .colab-df-convert:hover {\n",
              "      background-color: #434B5C;\n",
              "      box-shadow: 0px 1px 3px 1px rgba(0, 0, 0, 0.15);\n",
              "      filter: drop-shadow(0px 1px 2px rgba(0, 0, 0, 0.3));\n",
              "      fill: #FFFFFF;\n",
              "    }\n",
              "  </style>\n",
              "\n",
              "      <script>\n",
              "        const buttonEl =\n",
              "          document.querySelector('#df-6554fe69-82a9-422d-bc55-dc6ccab41e4c button.colab-df-convert');\n",
              "        buttonEl.style.display =\n",
              "          google.colab.kernel.accessAllowed ? 'block' : 'none';\n",
              "\n",
              "        async function convertToInteractive(key) {\n",
              "          const element = document.querySelector('#df-6554fe69-82a9-422d-bc55-dc6ccab41e4c');\n",
              "          const dataTable =\n",
              "            await google.colab.kernel.invokeFunction('convertToInteractive',\n",
              "                                                     [key], {});\n",
              "          if (!dataTable) return;\n",
              "\n",
              "          const docLinkHtml = 'Like what you see? Visit the ' +\n",
              "            '<a target=\"_blank\" href=https://colab.research.google.com/notebooks/data_table.ipynb>data table notebook</a>'\n",
              "            + ' to learn more about interactive tables.';\n",
              "          element.innerHTML = '';\n",
              "          dataTable['output_type'] = 'display_data';\n",
              "          await google.colab.output.renderOutput(dataTable, element);\n",
              "          const docLink = document.createElement('div');\n",
              "          docLink.innerHTML = docLinkHtml;\n",
              "          element.appendChild(docLink);\n",
              "        }\n",
              "      </script>\n",
              "    </div>\n",
              "  </div>\n",
              "  "
            ]
          },
          "metadata": {},
          "execution_count": 7
        }
      ]
    },
    {
      "cell_type": "code",
      "source": [
        "#Now we will add all the features with which we are going to make the project.\n",
        "audio_features = {}\n",
        "\n",
        "for idd in df_SI['id'].tolist():\n",
        "    audio_features[idd] = sp.audio_features(idd)[0]\n",
        "\n",
        "df_SI['danceability'] = df_SI['id'].apply(lambda idd: audio_features[idd]['danceability'])\n",
        "df_SI['energy'] = df_SI['id'].apply(lambda idd: audio_features[idd]['energy'])\n",
        "df_SI['key'] = df_SI['id'].apply(lambda idd: str(audio_features[idd]['key']))\n",
        "df_SI['loudness'] = df_SI['id'].apply(lambda idd: audio_features[idd]['loudness'])\n",
        "df_SI['mode'] = df_SI['id'].apply(lambda idd: audio_features[idd]['mode'])\n",
        "df_SI['acousticness'] = df_SI['id'].apply(lambda idd: audio_features[idd]['acousticness'])\n",
        "df_SI['instrumentalness'] = df_SI['id'].apply(lambda idd: audio_features[idd]['instrumentalness'])\n",
        "df_SI['speechiness'] = df_SI['id'].apply(lambda idd: audio_features[idd]['speechiness'])\n",
        "df_SI['liveness'] = df_SI['id'].apply(lambda idd: audio_features[idd]['liveness'])\n",
        "df_SI['valence'] = df_SI['id'].apply(lambda idd: audio_features[idd]['valence'])\n",
        "df_SI['tempo'] = df_SI['id'].apply(lambda idd: audio_features[idd]['tempo'])\n",
        "df_SI['time_signature'] = df_SI['id'].apply(lambda idd: audio_features[idd]['time_signature'])\n"
      ],
      "metadata": {
        "id": "XxWtGjQjPoDC"
      },
      "execution_count": null,
      "outputs": []
    },
    {
      "cell_type": "code",
      "source": [
        "#Column for differentiate the df_NO(0) from the df_SI(1)\n",
        "df_SI['label']=1"
      ],
      "metadata": {
        "id": "L7nsgYPXW4gt"
      },
      "execution_count": null,
      "outputs": []
    },
    {
      "cell_type": "markdown",
      "source": [
        "## Development of the df_NO (Songs that I don't like)"
      ],
      "metadata": {
        "id": "661JVMjNpCHu"
      }
    },
    {
      "cell_type": "markdown",
      "source": [
        "It will be based in public playlists of Reggeaton and Cumbia 420"
      ],
      "metadata": {
        "id": "sGpXsQyRrXc0"
      }
    },
    {
      "cell_type": "code",
      "source": [
        "# Here we define a function that allow us to extract the features from a playlist longer than 100 songs:\n",
        "def get_playlist_tracks_more_than_100_songs(username, playlist_id):\n",
        "    results = sp.user_playlist_tracks(username,playlist_id)\n",
        "    tracks = results['items']\n",
        "    while results['next']:\n",
        "        results = sp.next(results)\n",
        "        tracks.extend(results['items'])\n",
        "    results = tracks    \n",
        "\n",
        "    playlist_tracks_id = []\n",
        "    playlist_tracks_titles = []\n",
        "    playlist_tracks_artists = []\n",
        "    playlist_tracks_first_artists = []\n",
        "    playlist_tracks_first_release_date = []\n",
        "    playlist_tracks_popularity = []\n",
        "\n",
        "    for i in range(len(results)):\n",
        "        print(i) # Counter\n",
        "        if i == 0:\n",
        "            playlist_tracks_id = results[i]['track']['id']\n",
        "            playlist_tracks_titles = results[i]['track']['name']\n",
        "            playlist_tracks_first_release_date = results[i]['track']['album']['release_date']\n",
        "            playlist_tracks_popularity = results[i]['track']['popularity']\n",
        "\n",
        "            artist_list = []\n",
        "            for artist in results[i]['track']['artists']:\n",
        "                artist_list= artist['name']\n",
        "            playlist_tracks_artists = artist_list\n",
        "\n",
        "            features = sp.audio_features(playlist_tracks_id)\n",
        "            features_df = pd.DataFrame(data=features, columns=features[0].keys())\n",
        "            features_df['title'] = playlist_tracks_titles\n",
        "            features_df['artists'] = playlist_tracks_artists\n",
        "            features_df['popularity'] = playlist_tracks_popularity\n",
        "            features_df['release_date'] = playlist_tracks_first_release_date\n",
        "            features_df = features_df[['id', 'title', 'artists', 'popularity', 'release_date','duration_ms',\n",
        "                                       'danceability', 'energy', 'key', 'loudness',\n",
        "                                       'mode', 'acousticness', 'instrumentalness', 'speechiness',\n",
        "                                       'liveness', 'valence', 'tempo',\n",
        "                                        'time_signature']]\n",
        "            continue\n",
        "        else:\n",
        "            try:\n",
        "                playlist_tracks_id = results[i]['track']['id']\n",
        "                playlist_tracks_titles = results[i]['track']['name']\n",
        "                playlist_tracks_first_release_date = results[i]['track']['album']['release_date']\n",
        "                playlist_tracks_popularity = results[i]['track']['popularity']\n",
        "                artist_list = []\n",
        "                for artist in results[i]['track']['artists']:\n",
        "                    artist_list= artist['name']\n",
        "                playlist_tracks_artists = artist_list\n",
        "                features = sp.audio_features(playlist_tracks_id)\n",
        "                new_row = {'id':[playlist_tracks_id],\n",
        "               'title':[playlist_tracks_titles],\n",
        "               'artists':[playlist_tracks_artists],\n",
        "               'popularity':[playlist_tracks_popularity],\n",
        "               'release_date':[playlist_tracks_first_release_date],\n",
        "               'duration_ms':[features[0]['duration_ms']],\n",
        "               'danceability':[features[0]['danceability']],\n",
        "               'energy':[features[0]['energy']],\n",
        "               'key':[features[0]['key']],\n",
        "               'loudness':[features[0]['loudness']],\n",
        "               'mode':[features[0]['mode']],\n",
        "               'acousticness':[features[0]['acousticness']],\n",
        "               'instrumentalness':[features[0]['instrumentalness']],\n",
        "              'speechiness':[features[0]['speechiness']],\n",
        "                'liveness':[features[0]['liveness']],\n",
        "               'valence':[features[0]['valence']],\n",
        "               'tempo':[features[0]['tempo']],\n",
        "               'time_signature':[features[0]['time_signature']]\n",
        "               }\n",
        "\n",
        "                dfs = [features_df, pd.DataFrame(new_row)]\n",
        "                features_df = pd.concat(dfs, ignore_index = True)\n",
        "            except:\n",
        "                continue\n",
        "                \n",
        "    return features_df"
      ],
      "metadata": {
        "id": "IQYafU6VoGxZ"
      },
      "execution_count": null,
      "outputs": []
    },
    {
      "cell_type": "code",
      "source": [
        "#150 songs of a REGGEATON Playlist\n",
        "df_NO_1=get_playlist_tracks_more_than_100_songs(\"spotify\",\"4qmV1veTGtXVEmAPg9aPzs\") "
      ],
      "metadata": {
        "id": "L7y_bn4CoNU8"
      },
      "execution_count": null,
      "outputs": []
    },
    {
      "cell_type": "code",
      "source": [
        "#150 songs of a 'CUMBIA 420' Playlist\n",
        "df_NO_2=get_playlist_tracks_more_than_100_songs(\"spotify\",'0zBP5FKXBng0S8Yz5GUUD0').head(150)"
      ],
      "metadata": {
        "id": "LjTvv3Dko3MW"
      },
      "execution_count": null,
      "outputs": []
    },
    {
      "cell_type": "code",
      "source": [
        "#150 songs of a 'REGGEATON CLÁSICO' Playlist\n",
        "df_NO_3=get_playlist_tracks_more_than_100_songs(\"spotify\",'6v7CenqsUTh2TQNk1I848c').head(100)"
      ],
      "metadata": {
        "id": "F9q1qqflr0eT"
      },
      "execution_count": null,
      "outputs": []
    },
    {
      "cell_type": "code",
      "source": [
        "df_NO=pd.concat([df_NO_1, df_NO_2, df_NO_3])"
      ],
      "metadata": {
        "id": "381tXp3wsMoW"
      },
      "execution_count": null,
      "outputs": []
    },
    {
      "cell_type": "code",
      "source": [
        "df_NO.head()"
      ],
      "metadata": {
        "colab": {
          "base_uri": "https://localhost:8080/",
          "height": 409
        },
        "id": "FYNG4Tyx5n_g",
        "outputId": "cebe0c9b-43a2-419d-8223-7b9f00178eb4"
      },
      "execution_count": null,
      "outputs": [
        {
          "output_type": "execute_result",
          "data": {
            "text/plain": [
              "                       id                                  title  \\\n",
              "0  4nrPB8O7Y7wsOCJdgXkthe  Shakira: Bzrp Music Sessions, Vol. 53   \n",
              "1  2oiixB9QMIzhWaHGVlQx4g                             Yandel 150   \n",
              "2  5ww2BF9slyYgNOk37BlC4u                             La Bachata   \n",
              "3  1j4yhkxSCEDmiLVKjpYKWq                       LA HORA Y EL DÍA   \n",
              "4  5MxFWjuqQIsbNWbMdMdbli                               La Jumpa   \n",
              "\n",
              "         artists  popularity release_date  duration_ms  danceability  energy  \\\n",
              "0        Shakira          96   2023-01-11       218289         0.778   0.632   \n",
              "1           Feid          88   2022-12-20       216148         0.783   0.729   \n",
              "2  Manuel Turizo          92   2022-05-26       162638         0.835   0.679   \n",
              "3          Dalex          67   2023-02-16       217255         0.806   0.830   \n",
              "4      Bad Bunny          87   2022-11-30       255693         0.713   0.703   \n",
              "\n",
              "   key  loudness  mode  acousticness  instrumentalness  speechiness  liveness  \\\n",
              "0    2    -5.600     0        0.2740          0.000000       0.0493    0.0915   \n",
              "1    6    -3.549     0        0.0492          0.000272       0.0691    0.1000   \n",
              "2    7    -5.329     0        0.5830          0.000002       0.0364    0.2180   \n",
              "3    7    -3.767     0        0.1170          0.000000       0.0981    0.1010   \n",
              "4    8    -5.769     1        0.2980          0.000000       0.1940    0.3210   \n",
              "\n",
              "   valence    tempo  time_signature  \n",
              "0    0.498  122.104               4  \n",
              "1    0.580  167.968               4  \n",
              "2    0.850  124.980               4  \n",
              "3    0.663   81.010               4  \n",
              "4    0.576  123.060               4  "
            ],
            "text/html": [
              "\n",
              "  <div id=\"df-23dd420c-98ad-481a-a4b3-485181fb9e8d\">\n",
              "    <div class=\"colab-df-container\">\n",
              "      <div>\n",
              "<style scoped>\n",
              "    .dataframe tbody tr th:only-of-type {\n",
              "        vertical-align: middle;\n",
              "    }\n",
              "\n",
              "    .dataframe tbody tr th {\n",
              "        vertical-align: top;\n",
              "    }\n",
              "\n",
              "    .dataframe thead th {\n",
              "        text-align: right;\n",
              "    }\n",
              "</style>\n",
              "<table border=\"1\" class=\"dataframe\">\n",
              "  <thead>\n",
              "    <tr style=\"text-align: right;\">\n",
              "      <th></th>\n",
              "      <th>id</th>\n",
              "      <th>title</th>\n",
              "      <th>artists</th>\n",
              "      <th>popularity</th>\n",
              "      <th>release_date</th>\n",
              "      <th>duration_ms</th>\n",
              "      <th>danceability</th>\n",
              "      <th>energy</th>\n",
              "      <th>key</th>\n",
              "      <th>loudness</th>\n",
              "      <th>mode</th>\n",
              "      <th>acousticness</th>\n",
              "      <th>instrumentalness</th>\n",
              "      <th>speechiness</th>\n",
              "      <th>liveness</th>\n",
              "      <th>valence</th>\n",
              "      <th>tempo</th>\n",
              "      <th>time_signature</th>\n",
              "    </tr>\n",
              "  </thead>\n",
              "  <tbody>\n",
              "    <tr>\n",
              "      <th>0</th>\n",
              "      <td>4nrPB8O7Y7wsOCJdgXkthe</td>\n",
              "      <td>Shakira: Bzrp Music Sessions, Vol. 53</td>\n",
              "      <td>Shakira</td>\n",
              "      <td>96</td>\n",
              "      <td>2023-01-11</td>\n",
              "      <td>218289</td>\n",
              "      <td>0.778</td>\n",
              "      <td>0.632</td>\n",
              "      <td>2</td>\n",
              "      <td>-5.600</td>\n",
              "      <td>0</td>\n",
              "      <td>0.2740</td>\n",
              "      <td>0.000000</td>\n",
              "      <td>0.0493</td>\n",
              "      <td>0.0915</td>\n",
              "      <td>0.498</td>\n",
              "      <td>122.104</td>\n",
              "      <td>4</td>\n",
              "    </tr>\n",
              "    <tr>\n",
              "      <th>1</th>\n",
              "      <td>2oiixB9QMIzhWaHGVlQx4g</td>\n",
              "      <td>Yandel 150</td>\n",
              "      <td>Feid</td>\n",
              "      <td>88</td>\n",
              "      <td>2022-12-20</td>\n",
              "      <td>216148</td>\n",
              "      <td>0.783</td>\n",
              "      <td>0.729</td>\n",
              "      <td>6</td>\n",
              "      <td>-3.549</td>\n",
              "      <td>0</td>\n",
              "      <td>0.0492</td>\n",
              "      <td>0.000272</td>\n",
              "      <td>0.0691</td>\n",
              "      <td>0.1000</td>\n",
              "      <td>0.580</td>\n",
              "      <td>167.968</td>\n",
              "      <td>4</td>\n",
              "    </tr>\n",
              "    <tr>\n",
              "      <th>2</th>\n",
              "      <td>5ww2BF9slyYgNOk37BlC4u</td>\n",
              "      <td>La Bachata</td>\n",
              "      <td>Manuel Turizo</td>\n",
              "      <td>92</td>\n",
              "      <td>2022-05-26</td>\n",
              "      <td>162638</td>\n",
              "      <td>0.835</td>\n",
              "      <td>0.679</td>\n",
              "      <td>7</td>\n",
              "      <td>-5.329</td>\n",
              "      <td>0</td>\n",
              "      <td>0.5830</td>\n",
              "      <td>0.000002</td>\n",
              "      <td>0.0364</td>\n",
              "      <td>0.2180</td>\n",
              "      <td>0.850</td>\n",
              "      <td>124.980</td>\n",
              "      <td>4</td>\n",
              "    </tr>\n",
              "    <tr>\n",
              "      <th>3</th>\n",
              "      <td>1j4yhkxSCEDmiLVKjpYKWq</td>\n",
              "      <td>LA HORA Y EL DÍA</td>\n",
              "      <td>Dalex</td>\n",
              "      <td>67</td>\n",
              "      <td>2023-02-16</td>\n",
              "      <td>217255</td>\n",
              "      <td>0.806</td>\n",
              "      <td>0.830</td>\n",
              "      <td>7</td>\n",
              "      <td>-3.767</td>\n",
              "      <td>0</td>\n",
              "      <td>0.1170</td>\n",
              "      <td>0.000000</td>\n",
              "      <td>0.0981</td>\n",
              "      <td>0.1010</td>\n",
              "      <td>0.663</td>\n",
              "      <td>81.010</td>\n",
              "      <td>4</td>\n",
              "    </tr>\n",
              "    <tr>\n",
              "      <th>4</th>\n",
              "      <td>5MxFWjuqQIsbNWbMdMdbli</td>\n",
              "      <td>La Jumpa</td>\n",
              "      <td>Bad Bunny</td>\n",
              "      <td>87</td>\n",
              "      <td>2022-11-30</td>\n",
              "      <td>255693</td>\n",
              "      <td>0.713</td>\n",
              "      <td>0.703</td>\n",
              "      <td>8</td>\n",
              "      <td>-5.769</td>\n",
              "      <td>1</td>\n",
              "      <td>0.2980</td>\n",
              "      <td>0.000000</td>\n",
              "      <td>0.1940</td>\n",
              "      <td>0.3210</td>\n",
              "      <td>0.576</td>\n",
              "      <td>123.060</td>\n",
              "      <td>4</td>\n",
              "    </tr>\n",
              "  </tbody>\n",
              "</table>\n",
              "</div>\n",
              "      <button class=\"colab-df-convert\" onclick=\"convertToInteractive('df-23dd420c-98ad-481a-a4b3-485181fb9e8d')\"\n",
              "              title=\"Convert this dataframe to an interactive table.\"\n",
              "              style=\"display:none;\">\n",
              "        \n",
              "  <svg xmlns=\"http://www.w3.org/2000/svg\" height=\"24px\"viewBox=\"0 0 24 24\"\n",
              "       width=\"24px\">\n",
              "    <path d=\"M0 0h24v24H0V0z\" fill=\"none\"/>\n",
              "    <path d=\"M18.56 5.44l.94 2.06.94-2.06 2.06-.94-2.06-.94-.94-2.06-.94 2.06-2.06.94zm-11 1L8.5 8.5l.94-2.06 2.06-.94-2.06-.94L8.5 2.5l-.94 2.06-2.06.94zm10 10l.94 2.06.94-2.06 2.06-.94-2.06-.94-.94-2.06-.94 2.06-2.06.94z\"/><path d=\"M17.41 7.96l-1.37-1.37c-.4-.4-.92-.59-1.43-.59-.52 0-1.04.2-1.43.59L10.3 9.45l-7.72 7.72c-.78.78-.78 2.05 0 2.83L4 21.41c.39.39.9.59 1.41.59.51 0 1.02-.2 1.41-.59l7.78-7.78 2.81-2.81c.8-.78.8-2.07 0-2.86zM5.41 20L4 18.59l7.72-7.72 1.47 1.35L5.41 20z\"/>\n",
              "  </svg>\n",
              "      </button>\n",
              "      \n",
              "  <style>\n",
              "    .colab-df-container {\n",
              "      display:flex;\n",
              "      flex-wrap:wrap;\n",
              "      gap: 12px;\n",
              "    }\n",
              "\n",
              "    .colab-df-convert {\n",
              "      background-color: #E8F0FE;\n",
              "      border: none;\n",
              "      border-radius: 50%;\n",
              "      cursor: pointer;\n",
              "      display: none;\n",
              "      fill: #1967D2;\n",
              "      height: 32px;\n",
              "      padding: 0 0 0 0;\n",
              "      width: 32px;\n",
              "    }\n",
              "\n",
              "    .colab-df-convert:hover {\n",
              "      background-color: #E2EBFA;\n",
              "      box-shadow: 0px 1px 2px rgba(60, 64, 67, 0.3), 0px 1px 3px 1px rgba(60, 64, 67, 0.15);\n",
              "      fill: #174EA6;\n",
              "    }\n",
              "\n",
              "    [theme=dark] .colab-df-convert {\n",
              "      background-color: #3B4455;\n",
              "      fill: #D2E3FC;\n",
              "    }\n",
              "\n",
              "    [theme=dark] .colab-df-convert:hover {\n",
              "      background-color: #434B5C;\n",
              "      box-shadow: 0px 1px 3px 1px rgba(0, 0, 0, 0.15);\n",
              "      filter: drop-shadow(0px 1px 2px rgba(0, 0, 0, 0.3));\n",
              "      fill: #FFFFFF;\n",
              "    }\n",
              "  </style>\n",
              "\n",
              "      <script>\n",
              "        const buttonEl =\n",
              "          document.querySelector('#df-23dd420c-98ad-481a-a4b3-485181fb9e8d button.colab-df-convert');\n",
              "        buttonEl.style.display =\n",
              "          google.colab.kernel.accessAllowed ? 'block' : 'none';\n",
              "\n",
              "        async function convertToInteractive(key) {\n",
              "          const element = document.querySelector('#df-23dd420c-98ad-481a-a4b3-485181fb9e8d');\n",
              "          const dataTable =\n",
              "            await google.colab.kernel.invokeFunction('convertToInteractive',\n",
              "                                                     [key], {});\n",
              "          if (!dataTable) return;\n",
              "\n",
              "          const docLinkHtml = 'Like what you see? Visit the ' +\n",
              "            '<a target=\"_blank\" href=https://colab.research.google.com/notebooks/data_table.ipynb>data table notebook</a>'\n",
              "            + ' to learn more about interactive tables.';\n",
              "          element.innerHTML = '';\n",
              "          dataTable['output_type'] = 'display_data';\n",
              "          await google.colab.output.renderOutput(dataTable, element);\n",
              "          const docLink = document.createElement('div');\n",
              "          docLink.innerHTML = docLinkHtml;\n",
              "          element.appendChild(docLink);\n",
              "        }\n",
              "      </script>\n",
              "    </div>\n",
              "  </div>\n",
              "  "
            ]
          },
          "metadata": {},
          "execution_count": 15
        }
      ]
    },
    {
      "cell_type": "code",
      "source": [
        "#Few changes to alter from miliseconds to seconds.\n",
        "pd.set_option('display.max_rows', len(tracks))\n",
        "df_NO['duration_ms'] = df_NO['duration_ms'].apply(lambda duration: duration/1000)\n",
        "df_NO = df_NO.rename(columns = {'duration_ms':'duration_s'})\n"
      ],
      "metadata": {
        "id": "fG-vOwOI4hbx"
      },
      "execution_count": null,
      "outputs": []
    },
    {
      "cell_type": "code",
      "source": [
        "#Column for differentiate the df_NO(0) from the df_SI(1)\n",
        "df_NO['label']=0"
      ],
      "metadata": {
        "id": "NidaGzELXTNy"
      },
      "execution_count": null,
      "outputs": []
    },
    {
      "cell_type": "code",
      "source": [
        "df_SI.head()"
      ],
      "metadata": {
        "colab": {
          "base_uri": "https://localhost:8080/",
          "height": 478
        },
        "id": "nVyE9ZBTvHaE",
        "outputId": "e7af99e8-96c0-4b29-9172-4fbbd055827f"
      },
      "execution_count": null,
      "outputs": [
        {
          "output_type": "execute_result",
          "data": {
            "text/plain": [
              "                       id                                      title  \\\n",
              "0  6OMjtuz1sYVsHpdeZPUR1n                         Sarà perché ti amo   \n",
              "1  1mfOVu9M9P4NfZZvotQ7NV                           Cruel to Be Kind   \n",
              "2  0J5xhsP8FsUCH5W6ZQLJJr                           Dancin' Til Dawn   \n",
              "3  4F1V29ygbAKbKCQDgt4z9f  The Secret Life of Arabia - 2017 Remaster   \n",
              "4  2EC9IJj7g0mN1Q5VrZkiYY                Rebel Rebel - 2016 Remaster   \n",
              "\n",
              "             artists  popularity release_date  duration_s  danceability  \\\n",
              "0  [Ricchi E Poveri]          58   1997-09-08     189.800         0.825   \n",
              "1        [Nick Lowe]           0   2011-03-13     210.106         0.697   \n",
              "2    [Lenny Kravitz]          29   2008-01-01     309.746         0.897   \n",
              "3      [David Bowie]          34         1977     226.906         0.553   \n",
              "4      [David Bowie]          70   1974-05-24     274.746         0.635   \n",
              "\n",
              "   energy key  loudness  mode  acousticness  instrumentalness  speechiness  \\\n",
              "0   0.752   4    -8.134     1       0.12200          0.000000       0.0373   \n",
              "1   0.664   0   -10.406     1       0.05970          0.000003       0.0261   \n",
              "2   0.695   9    -6.384     0       0.19000          0.034900       0.0317   \n",
              "3   0.877   2    -7.752     0       0.00994          0.007510       0.0474   \n",
              "4   0.686   9   -15.648     1       0.20900          0.017600       0.0530   \n",
              "\n",
              "   liveness  valence    tempo  time_signature  label  \n",
              "0    0.0655    0.963  120.190               4      1  \n",
              "1    0.0427    0.811  131.686               4      1  \n",
              "2    0.0773    0.965  101.089               4      1  \n",
              "3    0.1110    0.912  104.752               4      1  \n",
              "4    0.2820    0.464  125.988               4      1  "
            ],
            "text/html": [
              "\n",
              "  <div id=\"df-6f005361-0a39-4c28-94e0-a629b32b125f\">\n",
              "    <div class=\"colab-df-container\">\n",
              "      <div>\n",
              "<style scoped>\n",
              "    .dataframe tbody tr th:only-of-type {\n",
              "        vertical-align: middle;\n",
              "    }\n",
              "\n",
              "    .dataframe tbody tr th {\n",
              "        vertical-align: top;\n",
              "    }\n",
              "\n",
              "    .dataframe thead th {\n",
              "        text-align: right;\n",
              "    }\n",
              "</style>\n",
              "<table border=\"1\" class=\"dataframe\">\n",
              "  <thead>\n",
              "    <tr style=\"text-align: right;\">\n",
              "      <th></th>\n",
              "      <th>id</th>\n",
              "      <th>title</th>\n",
              "      <th>artists</th>\n",
              "      <th>popularity</th>\n",
              "      <th>release_date</th>\n",
              "      <th>duration_s</th>\n",
              "      <th>danceability</th>\n",
              "      <th>energy</th>\n",
              "      <th>key</th>\n",
              "      <th>loudness</th>\n",
              "      <th>mode</th>\n",
              "      <th>acousticness</th>\n",
              "      <th>instrumentalness</th>\n",
              "      <th>speechiness</th>\n",
              "      <th>liveness</th>\n",
              "      <th>valence</th>\n",
              "      <th>tempo</th>\n",
              "      <th>time_signature</th>\n",
              "      <th>label</th>\n",
              "    </tr>\n",
              "  </thead>\n",
              "  <tbody>\n",
              "    <tr>\n",
              "      <th>0</th>\n",
              "      <td>6OMjtuz1sYVsHpdeZPUR1n</td>\n",
              "      <td>Sarà perché ti amo</td>\n",
              "      <td>[Ricchi E Poveri]</td>\n",
              "      <td>58</td>\n",
              "      <td>1997-09-08</td>\n",
              "      <td>189.800</td>\n",
              "      <td>0.825</td>\n",
              "      <td>0.752</td>\n",
              "      <td>4</td>\n",
              "      <td>-8.134</td>\n",
              "      <td>1</td>\n",
              "      <td>0.12200</td>\n",
              "      <td>0.000000</td>\n",
              "      <td>0.0373</td>\n",
              "      <td>0.0655</td>\n",
              "      <td>0.963</td>\n",
              "      <td>120.190</td>\n",
              "      <td>4</td>\n",
              "      <td>1</td>\n",
              "    </tr>\n",
              "    <tr>\n",
              "      <th>1</th>\n",
              "      <td>1mfOVu9M9P4NfZZvotQ7NV</td>\n",
              "      <td>Cruel to Be Kind</td>\n",
              "      <td>[Nick Lowe]</td>\n",
              "      <td>0</td>\n",
              "      <td>2011-03-13</td>\n",
              "      <td>210.106</td>\n",
              "      <td>0.697</td>\n",
              "      <td>0.664</td>\n",
              "      <td>0</td>\n",
              "      <td>-10.406</td>\n",
              "      <td>1</td>\n",
              "      <td>0.05970</td>\n",
              "      <td>0.000003</td>\n",
              "      <td>0.0261</td>\n",
              "      <td>0.0427</td>\n",
              "      <td>0.811</td>\n",
              "      <td>131.686</td>\n",
              "      <td>4</td>\n",
              "      <td>1</td>\n",
              "    </tr>\n",
              "    <tr>\n",
              "      <th>2</th>\n",
              "      <td>0J5xhsP8FsUCH5W6ZQLJJr</td>\n",
              "      <td>Dancin' Til Dawn</td>\n",
              "      <td>[Lenny Kravitz]</td>\n",
              "      <td>29</td>\n",
              "      <td>2008-01-01</td>\n",
              "      <td>309.746</td>\n",
              "      <td>0.897</td>\n",
              "      <td>0.695</td>\n",
              "      <td>9</td>\n",
              "      <td>-6.384</td>\n",
              "      <td>0</td>\n",
              "      <td>0.19000</td>\n",
              "      <td>0.034900</td>\n",
              "      <td>0.0317</td>\n",
              "      <td>0.0773</td>\n",
              "      <td>0.965</td>\n",
              "      <td>101.089</td>\n",
              "      <td>4</td>\n",
              "      <td>1</td>\n",
              "    </tr>\n",
              "    <tr>\n",
              "      <th>3</th>\n",
              "      <td>4F1V29ygbAKbKCQDgt4z9f</td>\n",
              "      <td>The Secret Life of Arabia - 2017 Remaster</td>\n",
              "      <td>[David Bowie]</td>\n",
              "      <td>34</td>\n",
              "      <td>1977</td>\n",
              "      <td>226.906</td>\n",
              "      <td>0.553</td>\n",
              "      <td>0.877</td>\n",
              "      <td>2</td>\n",
              "      <td>-7.752</td>\n",
              "      <td>0</td>\n",
              "      <td>0.00994</td>\n",
              "      <td>0.007510</td>\n",
              "      <td>0.0474</td>\n",
              "      <td>0.1110</td>\n",
              "      <td>0.912</td>\n",
              "      <td>104.752</td>\n",
              "      <td>4</td>\n",
              "      <td>1</td>\n",
              "    </tr>\n",
              "    <tr>\n",
              "      <th>4</th>\n",
              "      <td>2EC9IJj7g0mN1Q5VrZkiYY</td>\n",
              "      <td>Rebel Rebel - 2016 Remaster</td>\n",
              "      <td>[David Bowie]</td>\n",
              "      <td>70</td>\n",
              "      <td>1974-05-24</td>\n",
              "      <td>274.746</td>\n",
              "      <td>0.635</td>\n",
              "      <td>0.686</td>\n",
              "      <td>9</td>\n",
              "      <td>-15.648</td>\n",
              "      <td>1</td>\n",
              "      <td>0.20900</td>\n",
              "      <td>0.017600</td>\n",
              "      <td>0.0530</td>\n",
              "      <td>0.2820</td>\n",
              "      <td>0.464</td>\n",
              "      <td>125.988</td>\n",
              "      <td>4</td>\n",
              "      <td>1</td>\n",
              "    </tr>\n",
              "  </tbody>\n",
              "</table>\n",
              "</div>\n",
              "      <button class=\"colab-df-convert\" onclick=\"convertToInteractive('df-6f005361-0a39-4c28-94e0-a629b32b125f')\"\n",
              "              title=\"Convert this dataframe to an interactive table.\"\n",
              "              style=\"display:none;\">\n",
              "        \n",
              "  <svg xmlns=\"http://www.w3.org/2000/svg\" height=\"24px\"viewBox=\"0 0 24 24\"\n",
              "       width=\"24px\">\n",
              "    <path d=\"M0 0h24v24H0V0z\" fill=\"none\"/>\n",
              "    <path d=\"M18.56 5.44l.94 2.06.94-2.06 2.06-.94-2.06-.94-.94-2.06-.94 2.06-2.06.94zm-11 1L8.5 8.5l.94-2.06 2.06-.94-2.06-.94L8.5 2.5l-.94 2.06-2.06.94zm10 10l.94 2.06.94-2.06 2.06-.94-2.06-.94-.94-2.06-.94 2.06-2.06.94z\"/><path d=\"M17.41 7.96l-1.37-1.37c-.4-.4-.92-.59-1.43-.59-.52 0-1.04.2-1.43.59L10.3 9.45l-7.72 7.72c-.78.78-.78 2.05 0 2.83L4 21.41c.39.39.9.59 1.41.59.51 0 1.02-.2 1.41-.59l7.78-7.78 2.81-2.81c.8-.78.8-2.07 0-2.86zM5.41 20L4 18.59l7.72-7.72 1.47 1.35L5.41 20z\"/>\n",
              "  </svg>\n",
              "      </button>\n",
              "      \n",
              "  <style>\n",
              "    .colab-df-container {\n",
              "      display:flex;\n",
              "      flex-wrap:wrap;\n",
              "      gap: 12px;\n",
              "    }\n",
              "\n",
              "    .colab-df-convert {\n",
              "      background-color: #E8F0FE;\n",
              "      border: none;\n",
              "      border-radius: 50%;\n",
              "      cursor: pointer;\n",
              "      display: none;\n",
              "      fill: #1967D2;\n",
              "      height: 32px;\n",
              "      padding: 0 0 0 0;\n",
              "      width: 32px;\n",
              "    }\n",
              "\n",
              "    .colab-df-convert:hover {\n",
              "      background-color: #E2EBFA;\n",
              "      box-shadow: 0px 1px 2px rgba(60, 64, 67, 0.3), 0px 1px 3px 1px rgba(60, 64, 67, 0.15);\n",
              "      fill: #174EA6;\n",
              "    }\n",
              "\n",
              "    [theme=dark] .colab-df-convert {\n",
              "      background-color: #3B4455;\n",
              "      fill: #D2E3FC;\n",
              "    }\n",
              "\n",
              "    [theme=dark] .colab-df-convert:hover {\n",
              "      background-color: #434B5C;\n",
              "      box-shadow: 0px 1px 3px 1px rgba(0, 0, 0, 0.15);\n",
              "      filter: drop-shadow(0px 1px 2px rgba(0, 0, 0, 0.3));\n",
              "      fill: #FFFFFF;\n",
              "    }\n",
              "  </style>\n",
              "\n",
              "      <script>\n",
              "        const buttonEl =\n",
              "          document.querySelector('#df-6f005361-0a39-4c28-94e0-a629b32b125f button.colab-df-convert');\n",
              "        buttonEl.style.display =\n",
              "          google.colab.kernel.accessAllowed ? 'block' : 'none';\n",
              "\n",
              "        async function convertToInteractive(key) {\n",
              "          const element = document.querySelector('#df-6f005361-0a39-4c28-94e0-a629b32b125f');\n",
              "          const dataTable =\n",
              "            await google.colab.kernel.invokeFunction('convertToInteractive',\n",
              "                                                     [key], {});\n",
              "          if (!dataTable) return;\n",
              "\n",
              "          const docLinkHtml = 'Like what you see? Visit the ' +\n",
              "            '<a target=\"_blank\" href=https://colab.research.google.com/notebooks/data_table.ipynb>data table notebook</a>'\n",
              "            + ' to learn more about interactive tables.';\n",
              "          element.innerHTML = '';\n",
              "          dataTable['output_type'] = 'display_data';\n",
              "          await google.colab.output.renderOutput(dataTable, element);\n",
              "          const docLink = document.createElement('div');\n",
              "          docLink.innerHTML = docLinkHtml;\n",
              "          element.appendChild(docLink);\n",
              "        }\n",
              "      </script>\n",
              "    </div>\n",
              "  </div>\n",
              "  "
            ]
          },
          "metadata": {},
          "execution_count": 18
        }
      ]
    },
    {
      "cell_type": "code",
      "source": [
        "df_NO.info()"
      ],
      "metadata": {
        "colab": {
          "base_uri": "https://localhost:8080/"
        },
        "id": "-aXOwIaOvJiE",
        "outputId": "dfd012a0-0502-40be-c2b6-b21cdddd451f"
      },
      "execution_count": null,
      "outputs": [
        {
          "output_type": "stream",
          "name": "stdout",
          "text": [
            "<class 'pandas.core.frame.DataFrame'>\n",
            "Int64Index: 400 entries, 0 to 99\n",
            "Data columns (total 19 columns):\n",
            " #   Column            Non-Null Count  Dtype  \n",
            "---  ------            --------------  -----  \n",
            " 0   id                400 non-null    object \n",
            " 1   title             400 non-null    object \n",
            " 2   artists           400 non-null    object \n",
            " 3   popularity        400 non-null    int64  \n",
            " 4   release_date      400 non-null    object \n",
            " 5   duration_s        400 non-null    float64\n",
            " 6   danceability      400 non-null    float64\n",
            " 7   energy            400 non-null    float64\n",
            " 8   key               400 non-null    int64  \n",
            " 9   loudness          400 non-null    float64\n",
            " 10  mode              400 non-null    int64  \n",
            " 11  acousticness      400 non-null    float64\n",
            " 12  instrumentalness  400 non-null    float64\n",
            " 13  speechiness       400 non-null    float64\n",
            " 14  liveness          400 non-null    float64\n",
            " 15  valence           400 non-null    float64\n",
            " 16  tempo             400 non-null    float64\n",
            " 17  time_signature    400 non-null    int64  \n",
            " 18  label             400 non-null    int64  \n",
            "dtypes: float64(10), int64(5), object(4)\n",
            "memory usage: 62.5+ KB\n"
          ]
        }
      ]
    },
    {
      "cell_type": "code",
      "source": [
        "df_SI.info()"
      ],
      "metadata": {
        "colab": {
          "base_uri": "https://localhost:8080/"
        },
        "id": "4DPT3PkluyN9",
        "outputId": "af65da38-0f37-4a56-9f5b-316eb8a07be6"
      },
      "execution_count": null,
      "outputs": [
        {
          "output_type": "stream",
          "name": "stdout",
          "text": [
            "<class 'pandas.core.frame.DataFrame'>\n",
            "RangeIndex: 404 entries, 0 to 403\n",
            "Data columns (total 19 columns):\n",
            " #   Column            Non-Null Count  Dtype  \n",
            "---  ------            --------------  -----  \n",
            " 0   id                404 non-null    object \n",
            " 1   title             404 non-null    object \n",
            " 2   artists           404 non-null    object \n",
            " 3   popularity        404 non-null    int64  \n",
            " 4   release_date      404 non-null    object \n",
            " 5   duration_s        404 non-null    float64\n",
            " 6   danceability      404 non-null    float64\n",
            " 7   energy            404 non-null    float64\n",
            " 8   key               404 non-null    object \n",
            " 9   loudness          404 non-null    float64\n",
            " 10  mode              404 non-null    int64  \n",
            " 11  acousticness      404 non-null    float64\n",
            " 12  instrumentalness  404 non-null    float64\n",
            " 13  speechiness       404 non-null    float64\n",
            " 14  liveness          404 non-null    float64\n",
            " 15  valence           404 non-null    float64\n",
            " 16  tempo             404 non-null    float64\n",
            " 17  time_signature    404 non-null    int64  \n",
            " 18  label             404 non-null    int64  \n",
            "dtypes: float64(10), int64(4), object(5)\n",
            "memory usage: 60.1+ KB\n"
          ]
        }
      ]
    },
    {
      "cell_type": "markdown",
      "source": [
        "Now we are going to make some changes in the format that will allow us to match them and merge them."
      ],
      "metadata": {
        "id": "ElE_WekXr8L9"
      }
    },
    {
      "cell_type": "code",
      "source": [
        "df_SI[\"key\"] = df_SI['key'].astype('int')"
      ],
      "metadata": {
        "id": "HSonRxgZ6yav"
      },
      "execution_count": null,
      "outputs": []
    },
    {
      "cell_type": "code",
      "source": [
        "df_SI[\"release_date\"] = pd.to_datetime(df_SI[\"release_date\"])"
      ],
      "metadata": {
        "id": "9UBAPgH27YR8"
      },
      "execution_count": null,
      "outputs": []
    },
    {
      "cell_type": "code",
      "source": [
        "df_NO[\"release_date\"] = pd.to_datetime(df_NO[\"release_date\"])"
      ],
      "metadata": {
        "id": "mokxaxNV7hH6"
      },
      "execution_count": null,
      "outputs": []
    },
    {
      "cell_type": "code",
      "source": [
        "df_SI.head()"
      ],
      "metadata": {
        "colab": {
          "base_uri": "https://localhost:8080/",
          "height": 478
        },
        "id": "9cS_AHZGOqDV",
        "outputId": "4f548a66-4a78-49f6-f424-7fcf231596e1"
      },
      "execution_count": null,
      "outputs": [
        {
          "output_type": "execute_result",
          "data": {
            "text/plain": [
              "                       id                                      title  \\\n",
              "0  6OMjtuz1sYVsHpdeZPUR1n                         Sarà perché ti amo   \n",
              "1  1mfOVu9M9P4NfZZvotQ7NV                           Cruel to Be Kind   \n",
              "2  0J5xhsP8FsUCH5W6ZQLJJr                           Dancin' Til Dawn   \n",
              "3  4F1V29ygbAKbKCQDgt4z9f  The Secret Life of Arabia - 2017 Remaster   \n",
              "4  2EC9IJj7g0mN1Q5VrZkiYY                Rebel Rebel - 2016 Remaster   \n",
              "\n",
              "             artists  popularity release_date  duration_s  danceability  \\\n",
              "0  [Ricchi E Poveri]          58   1997-09-08     189.800         0.825   \n",
              "1        [Nick Lowe]           0   2011-03-13     210.106         0.697   \n",
              "2    [Lenny Kravitz]          29   2008-01-01     309.746         0.897   \n",
              "3      [David Bowie]          34   1977-01-01     226.906         0.553   \n",
              "4      [David Bowie]          70   1974-05-24     274.746         0.635   \n",
              "\n",
              "   energy  key  loudness  mode  acousticness  instrumentalness  speechiness  \\\n",
              "0   0.752    4    -8.134     1       0.12200          0.000000       0.0373   \n",
              "1   0.664    0   -10.406     1       0.05970          0.000003       0.0261   \n",
              "2   0.695    9    -6.384     0       0.19000          0.034900       0.0317   \n",
              "3   0.877    2    -7.752     0       0.00994          0.007510       0.0474   \n",
              "4   0.686    9   -15.648     1       0.20900          0.017600       0.0530   \n",
              "\n",
              "   liveness  valence    tempo  time_signature  label  \n",
              "0    0.0655    0.963  120.190               4      1  \n",
              "1    0.0427    0.811  131.686               4      1  \n",
              "2    0.0773    0.965  101.089               4      1  \n",
              "3    0.1110    0.912  104.752               4      1  \n",
              "4    0.2820    0.464  125.988               4      1  "
            ],
            "text/html": [
              "\n",
              "  <div id=\"df-b9d56be8-6fac-4147-8dc5-ac2d218902e9\">\n",
              "    <div class=\"colab-df-container\">\n",
              "      <div>\n",
              "<style scoped>\n",
              "    .dataframe tbody tr th:only-of-type {\n",
              "        vertical-align: middle;\n",
              "    }\n",
              "\n",
              "    .dataframe tbody tr th {\n",
              "        vertical-align: top;\n",
              "    }\n",
              "\n",
              "    .dataframe thead th {\n",
              "        text-align: right;\n",
              "    }\n",
              "</style>\n",
              "<table border=\"1\" class=\"dataframe\">\n",
              "  <thead>\n",
              "    <tr style=\"text-align: right;\">\n",
              "      <th></th>\n",
              "      <th>id</th>\n",
              "      <th>title</th>\n",
              "      <th>artists</th>\n",
              "      <th>popularity</th>\n",
              "      <th>release_date</th>\n",
              "      <th>duration_s</th>\n",
              "      <th>danceability</th>\n",
              "      <th>energy</th>\n",
              "      <th>key</th>\n",
              "      <th>loudness</th>\n",
              "      <th>mode</th>\n",
              "      <th>acousticness</th>\n",
              "      <th>instrumentalness</th>\n",
              "      <th>speechiness</th>\n",
              "      <th>liveness</th>\n",
              "      <th>valence</th>\n",
              "      <th>tempo</th>\n",
              "      <th>time_signature</th>\n",
              "      <th>label</th>\n",
              "    </tr>\n",
              "  </thead>\n",
              "  <tbody>\n",
              "    <tr>\n",
              "      <th>0</th>\n",
              "      <td>6OMjtuz1sYVsHpdeZPUR1n</td>\n",
              "      <td>Sarà perché ti amo</td>\n",
              "      <td>[Ricchi E Poveri]</td>\n",
              "      <td>58</td>\n",
              "      <td>1997-09-08</td>\n",
              "      <td>189.800</td>\n",
              "      <td>0.825</td>\n",
              "      <td>0.752</td>\n",
              "      <td>4</td>\n",
              "      <td>-8.134</td>\n",
              "      <td>1</td>\n",
              "      <td>0.12200</td>\n",
              "      <td>0.000000</td>\n",
              "      <td>0.0373</td>\n",
              "      <td>0.0655</td>\n",
              "      <td>0.963</td>\n",
              "      <td>120.190</td>\n",
              "      <td>4</td>\n",
              "      <td>1</td>\n",
              "    </tr>\n",
              "    <tr>\n",
              "      <th>1</th>\n",
              "      <td>1mfOVu9M9P4NfZZvotQ7NV</td>\n",
              "      <td>Cruel to Be Kind</td>\n",
              "      <td>[Nick Lowe]</td>\n",
              "      <td>0</td>\n",
              "      <td>2011-03-13</td>\n",
              "      <td>210.106</td>\n",
              "      <td>0.697</td>\n",
              "      <td>0.664</td>\n",
              "      <td>0</td>\n",
              "      <td>-10.406</td>\n",
              "      <td>1</td>\n",
              "      <td>0.05970</td>\n",
              "      <td>0.000003</td>\n",
              "      <td>0.0261</td>\n",
              "      <td>0.0427</td>\n",
              "      <td>0.811</td>\n",
              "      <td>131.686</td>\n",
              "      <td>4</td>\n",
              "      <td>1</td>\n",
              "    </tr>\n",
              "    <tr>\n",
              "      <th>2</th>\n",
              "      <td>0J5xhsP8FsUCH5W6ZQLJJr</td>\n",
              "      <td>Dancin' Til Dawn</td>\n",
              "      <td>[Lenny Kravitz]</td>\n",
              "      <td>29</td>\n",
              "      <td>2008-01-01</td>\n",
              "      <td>309.746</td>\n",
              "      <td>0.897</td>\n",
              "      <td>0.695</td>\n",
              "      <td>9</td>\n",
              "      <td>-6.384</td>\n",
              "      <td>0</td>\n",
              "      <td>0.19000</td>\n",
              "      <td>0.034900</td>\n",
              "      <td>0.0317</td>\n",
              "      <td>0.0773</td>\n",
              "      <td>0.965</td>\n",
              "      <td>101.089</td>\n",
              "      <td>4</td>\n",
              "      <td>1</td>\n",
              "    </tr>\n",
              "    <tr>\n",
              "      <th>3</th>\n",
              "      <td>4F1V29ygbAKbKCQDgt4z9f</td>\n",
              "      <td>The Secret Life of Arabia - 2017 Remaster</td>\n",
              "      <td>[David Bowie]</td>\n",
              "      <td>34</td>\n",
              "      <td>1977-01-01</td>\n",
              "      <td>226.906</td>\n",
              "      <td>0.553</td>\n",
              "      <td>0.877</td>\n",
              "      <td>2</td>\n",
              "      <td>-7.752</td>\n",
              "      <td>0</td>\n",
              "      <td>0.00994</td>\n",
              "      <td>0.007510</td>\n",
              "      <td>0.0474</td>\n",
              "      <td>0.1110</td>\n",
              "      <td>0.912</td>\n",
              "      <td>104.752</td>\n",
              "      <td>4</td>\n",
              "      <td>1</td>\n",
              "    </tr>\n",
              "    <tr>\n",
              "      <th>4</th>\n",
              "      <td>2EC9IJj7g0mN1Q5VrZkiYY</td>\n",
              "      <td>Rebel Rebel - 2016 Remaster</td>\n",
              "      <td>[David Bowie]</td>\n",
              "      <td>70</td>\n",
              "      <td>1974-05-24</td>\n",
              "      <td>274.746</td>\n",
              "      <td>0.635</td>\n",
              "      <td>0.686</td>\n",
              "      <td>9</td>\n",
              "      <td>-15.648</td>\n",
              "      <td>1</td>\n",
              "      <td>0.20900</td>\n",
              "      <td>0.017600</td>\n",
              "      <td>0.0530</td>\n",
              "      <td>0.2820</td>\n",
              "      <td>0.464</td>\n",
              "      <td>125.988</td>\n",
              "      <td>4</td>\n",
              "      <td>1</td>\n",
              "    </tr>\n",
              "  </tbody>\n",
              "</table>\n",
              "</div>\n",
              "      <button class=\"colab-df-convert\" onclick=\"convertToInteractive('df-b9d56be8-6fac-4147-8dc5-ac2d218902e9')\"\n",
              "              title=\"Convert this dataframe to an interactive table.\"\n",
              "              style=\"display:none;\">\n",
              "        \n",
              "  <svg xmlns=\"http://www.w3.org/2000/svg\" height=\"24px\"viewBox=\"0 0 24 24\"\n",
              "       width=\"24px\">\n",
              "    <path d=\"M0 0h24v24H0V0z\" fill=\"none\"/>\n",
              "    <path d=\"M18.56 5.44l.94 2.06.94-2.06 2.06-.94-2.06-.94-.94-2.06-.94 2.06-2.06.94zm-11 1L8.5 8.5l.94-2.06 2.06-.94-2.06-.94L8.5 2.5l-.94 2.06-2.06.94zm10 10l.94 2.06.94-2.06 2.06-.94-2.06-.94-.94-2.06-.94 2.06-2.06.94z\"/><path d=\"M17.41 7.96l-1.37-1.37c-.4-.4-.92-.59-1.43-.59-.52 0-1.04.2-1.43.59L10.3 9.45l-7.72 7.72c-.78.78-.78 2.05 0 2.83L4 21.41c.39.39.9.59 1.41.59.51 0 1.02-.2 1.41-.59l7.78-7.78 2.81-2.81c.8-.78.8-2.07 0-2.86zM5.41 20L4 18.59l7.72-7.72 1.47 1.35L5.41 20z\"/>\n",
              "  </svg>\n",
              "      </button>\n",
              "      \n",
              "  <style>\n",
              "    .colab-df-container {\n",
              "      display:flex;\n",
              "      flex-wrap:wrap;\n",
              "      gap: 12px;\n",
              "    }\n",
              "\n",
              "    .colab-df-convert {\n",
              "      background-color: #E8F0FE;\n",
              "      border: none;\n",
              "      border-radius: 50%;\n",
              "      cursor: pointer;\n",
              "      display: none;\n",
              "      fill: #1967D2;\n",
              "      height: 32px;\n",
              "      padding: 0 0 0 0;\n",
              "      width: 32px;\n",
              "    }\n",
              "\n",
              "    .colab-df-convert:hover {\n",
              "      background-color: #E2EBFA;\n",
              "      box-shadow: 0px 1px 2px rgba(60, 64, 67, 0.3), 0px 1px 3px 1px rgba(60, 64, 67, 0.15);\n",
              "      fill: #174EA6;\n",
              "    }\n",
              "\n",
              "    [theme=dark] .colab-df-convert {\n",
              "      background-color: #3B4455;\n",
              "      fill: #D2E3FC;\n",
              "    }\n",
              "\n",
              "    [theme=dark] .colab-df-convert:hover {\n",
              "      background-color: #434B5C;\n",
              "      box-shadow: 0px 1px 3px 1px rgba(0, 0, 0, 0.15);\n",
              "      filter: drop-shadow(0px 1px 2px rgba(0, 0, 0, 0.3));\n",
              "      fill: #FFFFFF;\n",
              "    }\n",
              "  </style>\n",
              "\n",
              "      <script>\n",
              "        const buttonEl =\n",
              "          document.querySelector('#df-b9d56be8-6fac-4147-8dc5-ac2d218902e9 button.colab-df-convert');\n",
              "        buttonEl.style.display =\n",
              "          google.colab.kernel.accessAllowed ? 'block' : 'none';\n",
              "\n",
              "        async function convertToInteractive(key) {\n",
              "          const element = document.querySelector('#df-b9d56be8-6fac-4147-8dc5-ac2d218902e9');\n",
              "          const dataTable =\n",
              "            await google.colab.kernel.invokeFunction('convertToInteractive',\n",
              "                                                     [key], {});\n",
              "          if (!dataTable) return;\n",
              "\n",
              "          const docLinkHtml = 'Like what you see? Visit the ' +\n",
              "            '<a target=\"_blank\" href=https://colab.research.google.com/notebooks/data_table.ipynb>data table notebook</a>'\n",
              "            + ' to learn more about interactive tables.';\n",
              "          element.innerHTML = '';\n",
              "          dataTable['output_type'] = 'display_data';\n",
              "          await google.colab.output.renderOutput(dataTable, element);\n",
              "          const docLink = document.createElement('div');\n",
              "          docLink.innerHTML = docLinkHtml;\n",
              "          element.appendChild(docLink);\n",
              "        }\n",
              "      </script>\n",
              "    </div>\n",
              "  </div>\n",
              "  "
            ]
          },
          "metadata": {},
          "execution_count": 24
        }
      ]
    },
    {
      "cell_type": "markdown",
      "source": [
        "## Dataframe Merge"
      ],
      "metadata": {
        "id": "l_uHmrvv7koy"
      }
    },
    {
      "cell_type": "markdown",
      "source": [
        "In this step, first we will merge both dataframes, and then, we will shuffle the rows, setting a random seed (random_state) equal 1 in order to be able to mantain the df sorted in the same way in case we want to repeat the experiment."
      ],
      "metadata": {
        "id": "H6l0m8F3NiNu"
      }
    },
    {
      "cell_type": "code",
      "source": [
        "df=pd.concat([df_NO, df_SI])"
      ],
      "metadata": {
        "id": "5fiTI_uT7pHa"
      },
      "execution_count": null,
      "outputs": []
    },
    {
      "cell_type": "code",
      "source": [
        "df.info()"
      ],
      "metadata": {
        "colab": {
          "base_uri": "https://localhost:8080/"
        },
        "id": "hkK_gtrG7s2W",
        "outputId": "4ae55c3e-8ced-4b3f-e109-fc5620096229"
      },
      "execution_count": null,
      "outputs": [
        {
          "output_type": "stream",
          "name": "stdout",
          "text": [
            "<class 'pandas.core.frame.DataFrame'>\n",
            "Int64Index: 804 entries, 0 to 403\n",
            "Data columns (total 19 columns):\n",
            " #   Column            Non-Null Count  Dtype         \n",
            "---  ------            --------------  -----         \n",
            " 0   id                804 non-null    object        \n",
            " 1   title             804 non-null    object        \n",
            " 2   artists           804 non-null    object        \n",
            " 3   popularity        804 non-null    int64         \n",
            " 4   release_date      804 non-null    datetime64[ns]\n",
            " 5   duration_s        804 non-null    float64       \n",
            " 6   danceability      804 non-null    float64       \n",
            " 7   energy            804 non-null    float64       \n",
            " 8   key               804 non-null    int64         \n",
            " 9   loudness          804 non-null    float64       \n",
            " 10  mode              804 non-null    int64         \n",
            " 11  acousticness      804 non-null    float64       \n",
            " 12  instrumentalness  804 non-null    float64       \n",
            " 13  speechiness       804 non-null    float64       \n",
            " 14  liveness          804 non-null    float64       \n",
            " 15  valence           804 non-null    float64       \n",
            " 16  tempo             804 non-null    float64       \n",
            " 17  time_signature    804 non-null    int64         \n",
            " 18  label             804 non-null    int64         \n",
            "dtypes: datetime64[ns](1), float64(10), int64(5), object(3)\n",
            "memory usage: 125.6+ KB\n"
          ]
        }
      ]
    },
    {
      "cell_type": "code",
      "source": [
        "#Mix\n",
        "from sklearn.utils import shuffle\n",
        "df = shuffle(df, random_state=1)"
      ],
      "metadata": {
        "id": "jAd6LMt6YBDU"
      },
      "execution_count": null,
      "outputs": []
    },
    {
      "cell_type": "code",
      "source": [
        "df=df.reset_index()"
      ],
      "metadata": {
        "id": "dmoYB39daIUw"
      },
      "execution_count": null,
      "outputs": []
    },
    {
      "cell_type": "code",
      "source": [
        " #df = df.drop('index', axis=1)"
      ],
      "metadata": {
        "id": "uS1qCdFLeFO0"
      },
      "execution_count": null,
      "outputs": []
    },
    {
      "cell_type": "code",
      "source": [
        "df.head()"
      ],
      "metadata": {
        "colab": {
          "base_uri": "https://localhost:8080/",
          "height": 426
        },
        "id": "7XGgsKKSZgam",
        "outputId": "ce832998-ea33-463a-8e7b-bb75f2843958"
      },
      "execution_count": null,
      "outputs": [
        {
          "output_type": "execute_result",
          "data": {
            "text/plain": [
              "   index                      id  \\\n",
              "0      8  1DxEbt6OSbrkRthk6pjZue   \n",
              "1    391  01jBLs7IZQzPt3dVdn5rDa   \n",
              "2    171  3Dik3Z6fZyHd0LozpXHYzP   \n",
              "3     74  5DEucyKzqSS0fqYGdT0JGL   \n",
              "4     98  5UXuombq8sj6a1QW5GUl4A   \n",
              "\n",
              "                                               title  \\\n",
              "0                                             MERCHO   \n",
              "1                                     True Faith '94   \n",
              "2                                   Corazón de Poeta   \n",
              "3                               Pegate - Turreo Edit   \n",
              "4  Chau... No Va Más...! (with Atilio Stampone y ...   \n",
              "\n",
              "                                             artists  popularity release_date  \\\n",
              "0                                         Nico Valdi          83   2022-12-16   \n",
              "1                                        [New Order]          54   1994-01-01   \n",
              "2                                         [Jeanette]          28   1992-05-25   \n",
              "3                                           DJ Mutha          47   2022-04-12   \n",
              "4  [Roberto Goyeneche, Atilio Stampone y su Orque...          13   2000-03-10   \n",
              "\n",
              "   duration_s  danceability  energy  key  loudness  mode  acousticness  \\\n",
              "0     161.452         0.838   0.790    6    -1.602     0        0.4310   \n",
              "1     335.533         0.605   0.907    0    -3.560     1        0.0158   \n",
              "2     280.000         0.697   0.486    6   -13.679     0        0.3600   \n",
              "3     171.856         0.780   0.463    7    -7.477     1        0.0807   \n",
              "4     221.226         0.416   0.402    3    -8.801     1        0.9160   \n",
              "\n",
              "   instrumentalness  speechiness  liveness  valence    tempo  time_signature  \\\n",
              "0          0.000003       0.1080    0.1840    0.962   92.927               4   \n",
              "1          0.015800       0.0330    0.0697    0.965  117.511               4   \n",
              "2          0.001600       0.0294    0.0795    0.678  115.197               4   \n",
              "3          0.000000       0.1100    0.0955    0.431  139.544               3   \n",
              "4          0.000193       0.0491    0.1930    0.467  104.308               4   \n",
              "\n",
              "   label  \n",
              "0      0  \n",
              "1      1  \n",
              "2      1  \n",
              "3      0  \n",
              "4      1  "
            ],
            "text/html": [
              "\n",
              "  <div id=\"df-87ac461a-2005-4dfc-afb0-8d054bfe5af5\">\n",
              "    <div class=\"colab-df-container\">\n",
              "      <div>\n",
              "<style scoped>\n",
              "    .dataframe tbody tr th:only-of-type {\n",
              "        vertical-align: middle;\n",
              "    }\n",
              "\n",
              "    .dataframe tbody tr th {\n",
              "        vertical-align: top;\n",
              "    }\n",
              "\n",
              "    .dataframe thead th {\n",
              "        text-align: right;\n",
              "    }\n",
              "</style>\n",
              "<table border=\"1\" class=\"dataframe\">\n",
              "  <thead>\n",
              "    <tr style=\"text-align: right;\">\n",
              "      <th></th>\n",
              "      <th>index</th>\n",
              "      <th>id</th>\n",
              "      <th>title</th>\n",
              "      <th>artists</th>\n",
              "      <th>popularity</th>\n",
              "      <th>release_date</th>\n",
              "      <th>duration_s</th>\n",
              "      <th>danceability</th>\n",
              "      <th>energy</th>\n",
              "      <th>key</th>\n",
              "      <th>loudness</th>\n",
              "      <th>mode</th>\n",
              "      <th>acousticness</th>\n",
              "      <th>instrumentalness</th>\n",
              "      <th>speechiness</th>\n",
              "      <th>liveness</th>\n",
              "      <th>valence</th>\n",
              "      <th>tempo</th>\n",
              "      <th>time_signature</th>\n",
              "      <th>label</th>\n",
              "    </tr>\n",
              "  </thead>\n",
              "  <tbody>\n",
              "    <tr>\n",
              "      <th>0</th>\n",
              "      <td>8</td>\n",
              "      <td>1DxEbt6OSbrkRthk6pjZue</td>\n",
              "      <td>MERCHO</td>\n",
              "      <td>Nico Valdi</td>\n",
              "      <td>83</td>\n",
              "      <td>2022-12-16</td>\n",
              "      <td>161.452</td>\n",
              "      <td>0.838</td>\n",
              "      <td>0.790</td>\n",
              "      <td>6</td>\n",
              "      <td>-1.602</td>\n",
              "      <td>0</td>\n",
              "      <td>0.4310</td>\n",
              "      <td>0.000003</td>\n",
              "      <td>0.1080</td>\n",
              "      <td>0.1840</td>\n",
              "      <td>0.962</td>\n",
              "      <td>92.927</td>\n",
              "      <td>4</td>\n",
              "      <td>0</td>\n",
              "    </tr>\n",
              "    <tr>\n",
              "      <th>1</th>\n",
              "      <td>391</td>\n",
              "      <td>01jBLs7IZQzPt3dVdn5rDa</td>\n",
              "      <td>True Faith '94</td>\n",
              "      <td>[New Order]</td>\n",
              "      <td>54</td>\n",
              "      <td>1994-01-01</td>\n",
              "      <td>335.533</td>\n",
              "      <td>0.605</td>\n",
              "      <td>0.907</td>\n",
              "      <td>0</td>\n",
              "      <td>-3.560</td>\n",
              "      <td>1</td>\n",
              "      <td>0.0158</td>\n",
              "      <td>0.015800</td>\n",
              "      <td>0.0330</td>\n",
              "      <td>0.0697</td>\n",
              "      <td>0.965</td>\n",
              "      <td>117.511</td>\n",
              "      <td>4</td>\n",
              "      <td>1</td>\n",
              "    </tr>\n",
              "    <tr>\n",
              "      <th>2</th>\n",
              "      <td>171</td>\n",
              "      <td>3Dik3Z6fZyHd0LozpXHYzP</td>\n",
              "      <td>Corazón de Poeta</td>\n",
              "      <td>[Jeanette]</td>\n",
              "      <td>28</td>\n",
              "      <td>1992-05-25</td>\n",
              "      <td>280.000</td>\n",
              "      <td>0.697</td>\n",
              "      <td>0.486</td>\n",
              "      <td>6</td>\n",
              "      <td>-13.679</td>\n",
              "      <td>0</td>\n",
              "      <td>0.3600</td>\n",
              "      <td>0.001600</td>\n",
              "      <td>0.0294</td>\n",
              "      <td>0.0795</td>\n",
              "      <td>0.678</td>\n",
              "      <td>115.197</td>\n",
              "      <td>4</td>\n",
              "      <td>1</td>\n",
              "    </tr>\n",
              "    <tr>\n",
              "      <th>3</th>\n",
              "      <td>74</td>\n",
              "      <td>5DEucyKzqSS0fqYGdT0JGL</td>\n",
              "      <td>Pegate - Turreo Edit</td>\n",
              "      <td>DJ Mutha</td>\n",
              "      <td>47</td>\n",
              "      <td>2022-04-12</td>\n",
              "      <td>171.856</td>\n",
              "      <td>0.780</td>\n",
              "      <td>0.463</td>\n",
              "      <td>7</td>\n",
              "      <td>-7.477</td>\n",
              "      <td>1</td>\n",
              "      <td>0.0807</td>\n",
              "      <td>0.000000</td>\n",
              "      <td>0.1100</td>\n",
              "      <td>0.0955</td>\n",
              "      <td>0.431</td>\n",
              "      <td>139.544</td>\n",
              "      <td>3</td>\n",
              "      <td>0</td>\n",
              "    </tr>\n",
              "    <tr>\n",
              "      <th>4</th>\n",
              "      <td>98</td>\n",
              "      <td>5UXuombq8sj6a1QW5GUl4A</td>\n",
              "      <td>Chau... No Va Más...! (with Atilio Stampone y ...</td>\n",
              "      <td>[Roberto Goyeneche, Atilio Stampone y su Orque...</td>\n",
              "      <td>13</td>\n",
              "      <td>2000-03-10</td>\n",
              "      <td>221.226</td>\n",
              "      <td>0.416</td>\n",
              "      <td>0.402</td>\n",
              "      <td>3</td>\n",
              "      <td>-8.801</td>\n",
              "      <td>1</td>\n",
              "      <td>0.9160</td>\n",
              "      <td>0.000193</td>\n",
              "      <td>0.0491</td>\n",
              "      <td>0.1930</td>\n",
              "      <td>0.467</td>\n",
              "      <td>104.308</td>\n",
              "      <td>4</td>\n",
              "      <td>1</td>\n",
              "    </tr>\n",
              "  </tbody>\n",
              "</table>\n",
              "</div>\n",
              "      <button class=\"colab-df-convert\" onclick=\"convertToInteractive('df-87ac461a-2005-4dfc-afb0-8d054bfe5af5')\"\n",
              "              title=\"Convert this dataframe to an interactive table.\"\n",
              "              style=\"display:none;\">\n",
              "        \n",
              "  <svg xmlns=\"http://www.w3.org/2000/svg\" height=\"24px\"viewBox=\"0 0 24 24\"\n",
              "       width=\"24px\">\n",
              "    <path d=\"M0 0h24v24H0V0z\" fill=\"none\"/>\n",
              "    <path d=\"M18.56 5.44l.94 2.06.94-2.06 2.06-.94-2.06-.94-.94-2.06-.94 2.06-2.06.94zm-11 1L8.5 8.5l.94-2.06 2.06-.94-2.06-.94L8.5 2.5l-.94 2.06-2.06.94zm10 10l.94 2.06.94-2.06 2.06-.94-2.06-.94-.94-2.06-.94 2.06-2.06.94z\"/><path d=\"M17.41 7.96l-1.37-1.37c-.4-.4-.92-.59-1.43-.59-.52 0-1.04.2-1.43.59L10.3 9.45l-7.72 7.72c-.78.78-.78 2.05 0 2.83L4 21.41c.39.39.9.59 1.41.59.51 0 1.02-.2 1.41-.59l7.78-7.78 2.81-2.81c.8-.78.8-2.07 0-2.86zM5.41 20L4 18.59l7.72-7.72 1.47 1.35L5.41 20z\"/>\n",
              "  </svg>\n",
              "      </button>\n",
              "      \n",
              "  <style>\n",
              "    .colab-df-container {\n",
              "      display:flex;\n",
              "      flex-wrap:wrap;\n",
              "      gap: 12px;\n",
              "    }\n",
              "\n",
              "    .colab-df-convert {\n",
              "      background-color: #E8F0FE;\n",
              "      border: none;\n",
              "      border-radius: 50%;\n",
              "      cursor: pointer;\n",
              "      display: none;\n",
              "      fill: #1967D2;\n",
              "      height: 32px;\n",
              "      padding: 0 0 0 0;\n",
              "      width: 32px;\n",
              "    }\n",
              "\n",
              "    .colab-df-convert:hover {\n",
              "      background-color: #E2EBFA;\n",
              "      box-shadow: 0px 1px 2px rgba(60, 64, 67, 0.3), 0px 1px 3px 1px rgba(60, 64, 67, 0.15);\n",
              "      fill: #174EA6;\n",
              "    }\n",
              "\n",
              "    [theme=dark] .colab-df-convert {\n",
              "      background-color: #3B4455;\n",
              "      fill: #D2E3FC;\n",
              "    }\n",
              "\n",
              "    [theme=dark] .colab-df-convert:hover {\n",
              "      background-color: #434B5C;\n",
              "      box-shadow: 0px 1px 3px 1px rgba(0, 0, 0, 0.15);\n",
              "      filter: drop-shadow(0px 1px 2px rgba(0, 0, 0, 0.3));\n",
              "      fill: #FFFFFF;\n",
              "    }\n",
              "  </style>\n",
              "\n",
              "      <script>\n",
              "        const buttonEl =\n",
              "          document.querySelector('#df-87ac461a-2005-4dfc-afb0-8d054bfe5af5 button.colab-df-convert');\n",
              "        buttonEl.style.display =\n",
              "          google.colab.kernel.accessAllowed ? 'block' : 'none';\n",
              "\n",
              "        async function convertToInteractive(key) {\n",
              "          const element = document.querySelector('#df-87ac461a-2005-4dfc-afb0-8d054bfe5af5');\n",
              "          const dataTable =\n",
              "            await google.colab.kernel.invokeFunction('convertToInteractive',\n",
              "                                                     [key], {});\n",
              "          if (!dataTable) return;\n",
              "\n",
              "          const docLinkHtml = 'Like what you see? Visit the ' +\n",
              "            '<a target=\"_blank\" href=https://colab.research.google.com/notebooks/data_table.ipynb>data table notebook</a>'\n",
              "            + ' to learn more about interactive tables.';\n",
              "          element.innerHTML = '';\n",
              "          dataTable['output_type'] = 'display_data';\n",
              "          await google.colab.output.renderOutput(dataTable, element);\n",
              "          const docLink = document.createElement('div');\n",
              "          docLink.innerHTML = docLinkHtml;\n",
              "          element.appendChild(docLink);\n",
              "        }\n",
              "      </script>\n",
              "    </div>\n",
              "  </div>\n",
              "  "
            ]
          },
          "metadata": {},
          "execution_count": 30
        }
      ]
    },
    {
      "cell_type": "code",
      "source": [
        "df.info()"
      ],
      "metadata": {
        "colab": {
          "base_uri": "https://localhost:8080/"
        },
        "id": "Y9VffuiLd84w",
        "outputId": "d8aa5ce6-fcf8-44e7-9ee5-aa332e8c42a2"
      },
      "execution_count": null,
      "outputs": [
        {
          "output_type": "stream",
          "name": "stdout",
          "text": [
            "<class 'pandas.core.frame.DataFrame'>\n",
            "RangeIndex: 804 entries, 0 to 803\n",
            "Data columns (total 20 columns):\n",
            " #   Column            Non-Null Count  Dtype         \n",
            "---  ------            --------------  -----         \n",
            " 0   index             804 non-null    int64         \n",
            " 1   id                804 non-null    object        \n",
            " 2   title             804 non-null    object        \n",
            " 3   artists           804 non-null    object        \n",
            " 4   popularity        804 non-null    int64         \n",
            " 5   release_date      804 non-null    datetime64[ns]\n",
            " 6   duration_s        804 non-null    float64       \n",
            " 7   danceability      804 non-null    float64       \n",
            " 8   energy            804 non-null    float64       \n",
            " 9   key               804 non-null    int64         \n",
            " 10  loudness          804 non-null    float64       \n",
            " 11  mode              804 non-null    int64         \n",
            " 12  acousticness      804 non-null    float64       \n",
            " 13  instrumentalness  804 non-null    float64       \n",
            " 14  speechiness       804 non-null    float64       \n",
            " 15  liveness          804 non-null    float64       \n",
            " 16  valence           804 non-null    float64       \n",
            " 17  tempo             804 non-null    float64       \n",
            " 18  time_signature    804 non-null    int64         \n",
            " 19  label             804 non-null    int64         \n",
            "dtypes: datetime64[ns](1), float64(10), int64(6), object(3)\n",
            "memory usage: 125.8+ KB\n"
          ]
        }
      ]
    },
    {
      "cell_type": "markdown",
      "source": [
        "##EDA"
      ],
      "metadata": {
        "id": "xR_5SSwgatKr"
      }
    },
    {
      "cell_type": "code",
      "source": [
        "#Setting up in \"positive\" the feature \"loudness\"\n",
        "df_SI['loudness']=df_SI['loudness']*-1\n",
        "df_NO['loudness']=df_NO['loudness']*-1\n",
        "df['loudness']=df['loudness']*-1"
      ],
      "metadata": {
        "id": "AssT4QqFpZsd"
      },
      "execution_count": null,
      "outputs": []
    },
    {
      "cell_type": "code",
      "source": [
        "#Main features of the DF SI\n",
        "df_SI_features_mean=(df_SI.describe().loc[['mean',\"max\",\"min\"],['danceability','energy','valence','acousticness','liveness','speechiness','instrumentalness']]).T.sort_values(\"mean\", ascending=False)"
      ],
      "metadata": {
        "id": "ECnGJX0nhX42"
      },
      "execution_count": null,
      "outputs": []
    },
    {
      "cell_type": "code",
      "source": [
        "fig1=px.bar(df_SI_features_mean, y='mean',title=\"Mean of Audio-Feautes in df_SI\",text_auto=True, width=700, height=400)\n",
        "fig1.update_layout(xaxis_title='Audio Features')\n",
        "fig1.update_traces(marker_color='#b20710', marker_line_color='rgb(8,48,107)',\n",
        "                  marker_line_width=1.5, opacity=0.6)\n",
        "fig1.show()\n",
        "print('')"
      ],
      "metadata": {
        "colab": {
          "base_uri": "https://localhost:8080/",
          "height": 454
        },
        "id": "xEgRSYL1qalG",
        "outputId": "f095a8a4-988b-4380-da17-be32eb667a7f"
      },
      "execution_count": null,
      "outputs": [
        {
          "output_type": "display_data",
          "data": {
            "text/html": [
              "<html>\n",
              "<head><meta charset=\"utf-8\" /></head>\n",
              "<body>\n",
              "    <div>            <script src=\"https://cdnjs.cloudflare.com/ajax/libs/mathjax/2.7.5/MathJax.js?config=TeX-AMS-MML_SVG\"></script><script type=\"text/javascript\">if (window.MathJax) {MathJax.Hub.Config({SVG: {font: \"STIX-Web\"}});}</script>                <script type=\"text/javascript\">window.PlotlyConfig = {MathJaxConfig: 'local'};</script>\n",
              "        <script src=\"https://cdn.plot.ly/plotly-2.8.3.min.js\"></script>                <div id=\"74f2eb6a-c3ae-4513-8749-1541205d8e60\" class=\"plotly-graph-div\" style=\"height:400px; width:700px;\"></div>            <script type=\"text/javascript\">                                    window.PLOTLYENV=window.PLOTLYENV || {};                                    if (document.getElementById(\"74f2eb6a-c3ae-4513-8749-1541205d8e60\")) {                    Plotly.newPlot(                        \"74f2eb6a-c3ae-4513-8749-1541205d8e60\",                        [{\"alignmentgroup\":\"True\",\"hovertemplate\":\"index=%{x}<br>mean=%{y}<extra></extra>\",\"legendgroup\":\"\",\"marker\":{\"color\":\"#b20710\",\"pattern\":{\"shape\":\"\"},\"line\":{\"color\":\"rgb(8,48,107)\",\"width\":1.5}},\"name\":\"\",\"offsetgroup\":\"\",\"orientation\":\"v\",\"showlegend\":false,\"textposition\":\"auto\",\"texttemplate\":\"%{y}\",\"x\":[\"danceability\",\"valence\",\"energy\",\"acousticness\",\"liveness\",\"instrumentalness\",\"speechiness\"],\"xaxis\":\"x\",\"y\":[0.5673415841584158,0.542709900990099,0.5113331188118811,0.34546058341584157,0.16859084158415844,0.09295268188118812,0.04033094059405941],\"yaxis\":\"y\",\"type\":\"bar\",\"opacity\":0.6}],                        {\"template\":{\"data\":{\"barpolar\":[{\"marker\":{\"line\":{\"color\":\"white\",\"width\":0.5},\"pattern\":{\"fillmode\":\"overlay\",\"size\":10,\"solidity\":0.2}},\"type\":\"barpolar\"}],\"bar\":[{\"error_x\":{\"color\":\"#2a3f5f\"},\"error_y\":{\"color\":\"#2a3f5f\"},\"marker\":{\"line\":{\"color\":\"white\",\"width\":0.5},\"pattern\":{\"fillmode\":\"overlay\",\"size\":10,\"solidity\":0.2}},\"type\":\"bar\"}],\"carpet\":[{\"aaxis\":{\"endlinecolor\":\"#2a3f5f\",\"gridcolor\":\"#C8D4E3\",\"linecolor\":\"#C8D4E3\",\"minorgridcolor\":\"#C8D4E3\",\"startlinecolor\":\"#2a3f5f\"},\"baxis\":{\"endlinecolor\":\"#2a3f5f\",\"gridcolor\":\"#C8D4E3\",\"linecolor\":\"#C8D4E3\",\"minorgridcolor\":\"#C8D4E3\",\"startlinecolor\":\"#2a3f5f\"},\"type\":\"carpet\"}],\"choropleth\":[{\"colorbar\":{\"outlinewidth\":0,\"ticks\":\"\"},\"type\":\"choropleth\"}],\"contourcarpet\":[{\"colorbar\":{\"outlinewidth\":0,\"ticks\":\"\"},\"type\":\"contourcarpet\"}],\"contour\":[{\"colorbar\":{\"outlinewidth\":0,\"ticks\":\"\"},\"colorscale\":[[0.0,\"#0d0887\"],[0.1111111111111111,\"#46039f\"],[0.2222222222222222,\"#7201a8\"],[0.3333333333333333,\"#9c179e\"],[0.4444444444444444,\"#bd3786\"],[0.5555555555555556,\"#d8576b\"],[0.6666666666666666,\"#ed7953\"],[0.7777777777777778,\"#fb9f3a\"],[0.8888888888888888,\"#fdca26\"],[1.0,\"#f0f921\"]],\"type\":\"contour\"}],\"heatmapgl\":[{\"colorbar\":{\"outlinewidth\":0,\"ticks\":\"\"},\"colorscale\":[[0.0,\"#0d0887\"],[0.1111111111111111,\"#46039f\"],[0.2222222222222222,\"#7201a8\"],[0.3333333333333333,\"#9c179e\"],[0.4444444444444444,\"#bd3786\"],[0.5555555555555556,\"#d8576b\"],[0.6666666666666666,\"#ed7953\"],[0.7777777777777778,\"#fb9f3a\"],[0.8888888888888888,\"#fdca26\"],[1.0,\"#f0f921\"]],\"type\":\"heatmapgl\"}],\"heatmap\":[{\"colorbar\":{\"outlinewidth\":0,\"ticks\":\"\"},\"colorscale\":[[0.0,\"#0d0887\"],[0.1111111111111111,\"#46039f\"],[0.2222222222222222,\"#7201a8\"],[0.3333333333333333,\"#9c179e\"],[0.4444444444444444,\"#bd3786\"],[0.5555555555555556,\"#d8576b\"],[0.6666666666666666,\"#ed7953\"],[0.7777777777777778,\"#fb9f3a\"],[0.8888888888888888,\"#fdca26\"],[1.0,\"#f0f921\"]],\"type\":\"heatmap\"}],\"histogram2dcontour\":[{\"colorbar\":{\"outlinewidth\":0,\"ticks\":\"\"},\"colorscale\":[[0.0,\"#0d0887\"],[0.1111111111111111,\"#46039f\"],[0.2222222222222222,\"#7201a8\"],[0.3333333333333333,\"#9c179e\"],[0.4444444444444444,\"#bd3786\"],[0.5555555555555556,\"#d8576b\"],[0.6666666666666666,\"#ed7953\"],[0.7777777777777778,\"#fb9f3a\"],[0.8888888888888888,\"#fdca26\"],[1.0,\"#f0f921\"]],\"type\":\"histogram2dcontour\"}],\"histogram2d\":[{\"colorbar\":{\"outlinewidth\":0,\"ticks\":\"\"},\"colorscale\":[[0.0,\"#0d0887\"],[0.1111111111111111,\"#46039f\"],[0.2222222222222222,\"#7201a8\"],[0.3333333333333333,\"#9c179e\"],[0.4444444444444444,\"#bd3786\"],[0.5555555555555556,\"#d8576b\"],[0.6666666666666666,\"#ed7953\"],[0.7777777777777778,\"#fb9f3a\"],[0.8888888888888888,\"#fdca26\"],[1.0,\"#f0f921\"]],\"type\":\"histogram2d\"}],\"histogram\":[{\"marker\":{\"pattern\":{\"fillmode\":\"overlay\",\"size\":10,\"solidity\":0.2},\"line\":{\"width\":1}},\"type\":\"histogram\"}],\"mesh3d\":[{\"colorbar\":{\"outlinewidth\":0,\"ticks\":\"\"},\"type\":\"mesh3d\"}],\"parcoords\":[{\"line\":{\"colorbar\":{\"outlinewidth\":0,\"ticks\":\"\"}},\"type\":\"parcoords\"}],\"pie\":[{\"automargin\":true,\"type\":\"pie\"}],\"scatter3d\":[{\"line\":{\"colorbar\":{\"outlinewidth\":0,\"ticks\":\"\"}},\"marker\":{\"colorbar\":{\"outlinewidth\":0,\"ticks\":\"\"},\"opacity\":0.8},\"type\":\"scatter3d\"}],\"scattercarpet\":[{\"marker\":{\"colorbar\":{\"outlinewidth\":0,\"ticks\":\"\"}},\"type\":\"scattercarpet\"}],\"scattergeo\":[{\"marker\":{\"colorbar\":{\"outlinewidth\":0,\"ticks\":\"\"}},\"type\":\"scattergeo\"}],\"scattergl\":[{\"marker\":{\"colorbar\":{\"outlinewidth\":0,\"ticks\":\"\"}},\"type\":\"scattergl\"}],\"scattermapbox\":[{\"marker\":{\"colorbar\":{\"outlinewidth\":0,\"ticks\":\"\"}},\"type\":\"scattermapbox\"}],\"scatterpolargl\":[{\"marker\":{\"colorbar\":{\"outlinewidth\":0,\"ticks\":\"\"}},\"type\":\"scatterpolargl\"}],\"scatterpolar\":[{\"marker\":{\"colorbar\":{\"outlinewidth\":0,\"ticks\":\"\"}},\"type\":\"scatterpolar\"}],\"scatter\":[{\"marker\":{\"colorbar\":{\"outlinewidth\":0,\"ticks\":\"\"},\"opacity\":0.8},\"type\":\"scatter\"}],\"scatterternary\":[{\"marker\":{\"colorbar\":{\"outlinewidth\":0,\"ticks\":\"\"}},\"type\":\"scatterternary\"}],\"surface\":[{\"colorbar\":{\"outlinewidth\":0,\"ticks\":\"\"},\"colorscale\":[[0.0,\"#0d0887\"],[0.1111111111111111,\"#46039f\"],[0.2222222222222222,\"#7201a8\"],[0.3333333333333333,\"#9c179e\"],[0.4444444444444444,\"#bd3786\"],[0.5555555555555556,\"#d8576b\"],[0.6666666666666666,\"#ed7953\"],[0.7777777777777778,\"#fb9f3a\"],[0.8888888888888888,\"#fdca26\"],[1.0,\"#f0f921\"]],\"type\":\"surface\"}],\"table\":[{\"cells\":{\"fill\":{\"color\":\"#EBF0F8\"},\"line\":{\"color\":\"white\"}},\"header\":{\"fill\":{\"color\":\"#C8D4E3\"},\"line\":{\"color\":\"white\"}},\"type\":\"table\"}],\"box\":[{\"boxpoints\":\"outliers\",\"notched\":false,\"type\":\"box\"}]},\"layout\":{\"annotationdefaults\":{\"arrowcolor\":\"#2a3f5f\",\"arrowhead\":0,\"arrowwidth\":1},\"autotypenumbers\":\"strict\",\"coloraxis\":{\"colorbar\":{\"outlinewidth\":0,\"ticks\":\"\"}},\"colorscale\":{\"diverging\":[[0,\"#8e0152\"],[0.1,\"#c51b7d\"],[0.2,\"#de77ae\"],[0.3,\"#f1b6da\"],[0.4,\"#fde0ef\"],[0.5,\"#f7f7f7\"],[0.6,\"#e6f5d0\"],[0.7,\"#b8e186\"],[0.8,\"#7fbc41\"],[0.9,\"#4d9221\"],[1,\"#276419\"]],\"sequential\":[[0.0,\"#0d0887\"],[0.1111111111111111,\"#46039f\"],[0.2222222222222222,\"#7201a8\"],[0.3333333333333333,\"#9c179e\"],[0.4444444444444444,\"#bd3786\"],[0.5555555555555556,\"#d8576b\"],[0.6666666666666666,\"#ed7953\"],[0.7777777777777778,\"#fb9f3a\"],[0.8888888888888888,\"#fdca26\"],[1.0,\"#f0f921\"]],\"sequentialminus\":[[0.0,\"#0d0887\"],[0.1111111111111111,\"#46039f\"],[0.2222222222222222,\"#7201a8\"],[0.3333333333333333,\"#9c179e\"],[0.4444444444444444,\"#bd3786\"],[0.5555555555555556,\"#d8576b\"],[0.6666666666666666,\"#ed7953\"],[0.7777777777777778,\"#fb9f3a\"],[0.8888888888888888,\"#fdca26\"],[1.0,\"#f0f921\"]]},\"colorway\":[\"#636efa\",\"#EF553B\",\"#00cc96\",\"#ab63fa\",\"#FFA15A\",\"#19d3f3\",\"#FF6692\",\"#B6E880\",\"#FF97FF\",\"#FECB52\"],\"font\":{\"color\":\"#2a3f5f\"},\"geo\":{\"bgcolor\":\"white\",\"lakecolor\":\"white\",\"landcolor\":\"white\",\"showlakes\":true,\"showland\":true,\"subunitcolor\":\"#C8D4E3\"},\"hoverlabel\":{\"align\":\"left\"},\"hovermode\":\"closest\",\"mapbox\":{\"style\":\"light\"},\"paper_bgcolor\":\"white\",\"plot_bgcolor\":\"white\",\"polar\":{\"angularaxis\":{\"gridcolor\":\"#EBF0F8\",\"linecolor\":\"#EBF0F8\",\"ticks\":\"\"},\"bgcolor\":\"white\",\"radialaxis\":{\"gridcolor\":\"#EBF0F8\",\"linecolor\":\"#EBF0F8\",\"ticks\":\"\"}},\"scene\":{\"xaxis\":{\"backgroundcolor\":\"white\",\"gridcolor\":\"#DFE8F3\",\"gridwidth\":2,\"linecolor\":\"#EBF0F8\",\"showbackground\":true,\"ticks\":\"\",\"zerolinecolor\":\"#EBF0F8\"},\"yaxis\":{\"backgroundcolor\":\"white\",\"gridcolor\":\"#DFE8F3\",\"gridwidth\":2,\"linecolor\":\"#EBF0F8\",\"showbackground\":true,\"ticks\":\"\",\"zerolinecolor\":\"#EBF0F8\"},\"zaxis\":{\"backgroundcolor\":\"white\",\"gridcolor\":\"#DFE8F3\",\"gridwidth\":2,\"linecolor\":\"#EBF0F8\",\"showbackground\":true,\"ticks\":\"\",\"zerolinecolor\":\"#EBF0F8\"},\"camera\":{\"eye\":{\"x\":1.5,\"y\":1.5,\"z\":0.1}}},\"shapedefaults\":{\"line\":{\"color\":\"#2a3f5f\"}},\"ternary\":{\"aaxis\":{\"gridcolor\":\"#DFE8F3\",\"linecolor\":\"#A2B1C6\",\"ticks\":\"\"},\"baxis\":{\"gridcolor\":\"#DFE8F3\",\"linecolor\":\"#A2B1C6\",\"ticks\":\"\"},\"bgcolor\":\"white\",\"caxis\":{\"gridcolor\":\"#DFE8F3\",\"linecolor\":\"#A2B1C6\",\"ticks\":\"\"}},\"title\":{\"x\":0.5},\"xaxis\":{\"automargin\":true,\"gridcolor\":\"#EBF0F8\",\"linecolor\":\"#EBF0F8\",\"ticks\":\"\",\"title\":{\"standoff\":15},\"zerolinecolor\":\"#EBF0F8\",\"zerolinewidth\":2,\"linewidth\":2,\"showline\":true},\"yaxis\":{\"automargin\":true,\"gridcolor\":\"#EBF0F8\",\"linecolor\":\"#EBF0F8\",\"ticks\":\"\",\"title\":{\"standoff\":15},\"zerolinecolor\":\"#EBF0F8\",\"zerolinewidth\":2,\"linewidth\":2,\"showline\":true},\"height\":400,\"margin\":{\"b\":2,\"l\":2,\"r\":2,\"t\":30}}},\"xaxis\":{\"anchor\":\"y\",\"domain\":[0.0,1.0],\"title\":{\"text\":\"Audio Features\"}},\"yaxis\":{\"anchor\":\"x\",\"domain\":[0.0,1.0],\"title\":{\"text\":\"mean\"}},\"legend\":{\"tracegroupgap\":0},\"title\":{\"text\":\"Mean of Audio-Feautes in df_SI\"},\"barmode\":\"relative\",\"height\":400,\"width\":700},                        {\"responsive\": true}                    ).then(function(){\n",
              "                            \n",
              "var gd = document.getElementById('74f2eb6a-c3ae-4513-8749-1541205d8e60');\n",
              "var x = new MutationObserver(function (mutations, observer) {{\n",
              "        var display = window.getComputedStyle(gd).display;\n",
              "        if (!display || display === 'none') {{\n",
              "            console.log([gd, 'removed!']);\n",
              "            Plotly.purge(gd);\n",
              "            observer.disconnect();\n",
              "        }}\n",
              "}});\n",
              "\n",
              "// Listen for the removal of the full notebook cells\n",
              "var notebookContainer = gd.closest('#notebook-container');\n",
              "if (notebookContainer) {{\n",
              "    x.observe(notebookContainer, {childList: true});\n",
              "}}\n",
              "\n",
              "// Listen for the clearing of the current output cell\n",
              "var outputEl = gd.closest('.output');\n",
              "if (outputEl) {{\n",
              "    x.observe(outputEl, {childList: true});\n",
              "}}\n",
              "\n",
              "                        })                };                            </script>        </div>\n",
              "</body>\n",
              "</html>"
            ]
          },
          "metadata": {}
        },
        {
          "output_type": "stream",
          "name": "stdout",
          "text": [
            "\n"
          ]
        }
      ]
    },
    {
      "cell_type": "code",
      "source": [
        "#Main features of the DF_NO\n",
        "df_NO_features_mean=(df_NO.describe().loc[['mean',\"max\",\"min\"],['danceability','energy','valence','acousticness','liveness','speechiness','instrumentalness']]).T.sort_values(\"mean\", ascending=False)"
      ],
      "metadata": {
        "id": "AzeLx-5jkrZQ"
      },
      "execution_count": null,
      "outputs": []
    },
    {
      "cell_type": "code",
      "source": [
        "fig1=px.bar(df_NO_features_mean, y='mean',title=\"Mean of Audio-Feautes in df_NO\",text_auto=True, width=700, height=400)\n",
        "fig1.update_layout(xaxis_title='Audio Features')\n",
        "fig1.show()\n",
        "print('')"
      ],
      "metadata": {
        "colab": {
          "base_uri": "https://localhost:8080/",
          "height": 454
        },
        "id": "LFt1C6sIsB7Q",
        "outputId": "deb5581e-5f18-44d8-dc43-8c15692fc4d7"
      },
      "execution_count": null,
      "outputs": [
        {
          "output_type": "display_data",
          "data": {
            "text/html": [
              "<html>\n",
              "<head><meta charset=\"utf-8\" /></head>\n",
              "<body>\n",
              "    <div>            <script src=\"https://cdnjs.cloudflare.com/ajax/libs/mathjax/2.7.5/MathJax.js?config=TeX-AMS-MML_SVG\"></script><script type=\"text/javascript\">if (window.MathJax) {MathJax.Hub.Config({SVG: {font: \"STIX-Web\"}});}</script>                <script type=\"text/javascript\">window.PlotlyConfig = {MathJaxConfig: 'local'};</script>\n",
              "        <script src=\"https://cdn.plot.ly/plotly-2.8.3.min.js\"></script>                <div id=\"29fbffd6-cad7-45dd-b2b5-49c3cf5fd4bf\" class=\"plotly-graph-div\" style=\"height:400px; width:700px;\"></div>            <script type=\"text/javascript\">                                    window.PLOTLYENV=window.PLOTLYENV || {};                                    if (document.getElementById(\"29fbffd6-cad7-45dd-b2b5-49c3cf5fd4bf\")) {                    Plotly.newPlot(                        \"29fbffd6-cad7-45dd-b2b5-49c3cf5fd4bf\",                        [{\"alignmentgroup\":\"True\",\"hovertemplate\":\"index=%{x}<br>mean=%{y}<extra></extra>\",\"legendgroup\":\"\",\"marker\":{\"color\":\"#636efa\",\"pattern\":{\"shape\":\"\"}},\"name\":\"\",\"offsetgroup\":\"\",\"orientation\":\"v\",\"showlegend\":false,\"textposition\":\"auto\",\"texttemplate\":\"%{y}\",\"x\":[\"danceability\",\"energy\",\"valence\",\"acousticness\",\"liveness\",\"speechiness\",\"instrumentalness\"],\"xaxis\":\"x\",\"y\":[0.7679900000000001,0.7135625,0.64897325,0.196697825,0.1759355,0.13632450000000002,0.0043520134250000005],\"yaxis\":\"y\",\"type\":\"bar\"}],                        {\"template\":{\"data\":{\"barpolar\":[{\"marker\":{\"line\":{\"color\":\"white\",\"width\":0.5},\"pattern\":{\"fillmode\":\"overlay\",\"size\":10,\"solidity\":0.2}},\"type\":\"barpolar\"}],\"bar\":[{\"error_x\":{\"color\":\"#2a3f5f\"},\"error_y\":{\"color\":\"#2a3f5f\"},\"marker\":{\"line\":{\"color\":\"white\",\"width\":0.5},\"pattern\":{\"fillmode\":\"overlay\",\"size\":10,\"solidity\":0.2}},\"type\":\"bar\"}],\"carpet\":[{\"aaxis\":{\"endlinecolor\":\"#2a3f5f\",\"gridcolor\":\"#C8D4E3\",\"linecolor\":\"#C8D4E3\",\"minorgridcolor\":\"#C8D4E3\",\"startlinecolor\":\"#2a3f5f\"},\"baxis\":{\"endlinecolor\":\"#2a3f5f\",\"gridcolor\":\"#C8D4E3\",\"linecolor\":\"#C8D4E3\",\"minorgridcolor\":\"#C8D4E3\",\"startlinecolor\":\"#2a3f5f\"},\"type\":\"carpet\"}],\"choropleth\":[{\"colorbar\":{\"outlinewidth\":0,\"ticks\":\"\"},\"type\":\"choropleth\"}],\"contourcarpet\":[{\"colorbar\":{\"outlinewidth\":0,\"ticks\":\"\"},\"type\":\"contourcarpet\"}],\"contour\":[{\"colorbar\":{\"outlinewidth\":0,\"ticks\":\"\"},\"colorscale\":[[0.0,\"#0d0887\"],[0.1111111111111111,\"#46039f\"],[0.2222222222222222,\"#7201a8\"],[0.3333333333333333,\"#9c179e\"],[0.4444444444444444,\"#bd3786\"],[0.5555555555555556,\"#d8576b\"],[0.6666666666666666,\"#ed7953\"],[0.7777777777777778,\"#fb9f3a\"],[0.8888888888888888,\"#fdca26\"],[1.0,\"#f0f921\"]],\"type\":\"contour\"}],\"heatmapgl\":[{\"colorbar\":{\"outlinewidth\":0,\"ticks\":\"\"},\"colorscale\":[[0.0,\"#0d0887\"],[0.1111111111111111,\"#46039f\"],[0.2222222222222222,\"#7201a8\"],[0.3333333333333333,\"#9c179e\"],[0.4444444444444444,\"#bd3786\"],[0.5555555555555556,\"#d8576b\"],[0.6666666666666666,\"#ed7953\"],[0.7777777777777778,\"#fb9f3a\"],[0.8888888888888888,\"#fdca26\"],[1.0,\"#f0f921\"]],\"type\":\"heatmapgl\"}],\"heatmap\":[{\"colorbar\":{\"outlinewidth\":0,\"ticks\":\"\"},\"colorscale\":[[0.0,\"#0d0887\"],[0.1111111111111111,\"#46039f\"],[0.2222222222222222,\"#7201a8\"],[0.3333333333333333,\"#9c179e\"],[0.4444444444444444,\"#bd3786\"],[0.5555555555555556,\"#d8576b\"],[0.6666666666666666,\"#ed7953\"],[0.7777777777777778,\"#fb9f3a\"],[0.8888888888888888,\"#fdca26\"],[1.0,\"#f0f921\"]],\"type\":\"heatmap\"}],\"histogram2dcontour\":[{\"colorbar\":{\"outlinewidth\":0,\"ticks\":\"\"},\"colorscale\":[[0.0,\"#0d0887\"],[0.1111111111111111,\"#46039f\"],[0.2222222222222222,\"#7201a8\"],[0.3333333333333333,\"#9c179e\"],[0.4444444444444444,\"#bd3786\"],[0.5555555555555556,\"#d8576b\"],[0.6666666666666666,\"#ed7953\"],[0.7777777777777778,\"#fb9f3a\"],[0.8888888888888888,\"#fdca26\"],[1.0,\"#f0f921\"]],\"type\":\"histogram2dcontour\"}],\"histogram2d\":[{\"colorbar\":{\"outlinewidth\":0,\"ticks\":\"\"},\"colorscale\":[[0.0,\"#0d0887\"],[0.1111111111111111,\"#46039f\"],[0.2222222222222222,\"#7201a8\"],[0.3333333333333333,\"#9c179e\"],[0.4444444444444444,\"#bd3786\"],[0.5555555555555556,\"#d8576b\"],[0.6666666666666666,\"#ed7953\"],[0.7777777777777778,\"#fb9f3a\"],[0.8888888888888888,\"#fdca26\"],[1.0,\"#f0f921\"]],\"type\":\"histogram2d\"}],\"histogram\":[{\"marker\":{\"pattern\":{\"fillmode\":\"overlay\",\"size\":10,\"solidity\":0.2},\"line\":{\"width\":1}},\"type\":\"histogram\"}],\"mesh3d\":[{\"colorbar\":{\"outlinewidth\":0,\"ticks\":\"\"},\"type\":\"mesh3d\"}],\"parcoords\":[{\"line\":{\"colorbar\":{\"outlinewidth\":0,\"ticks\":\"\"}},\"type\":\"parcoords\"}],\"pie\":[{\"automargin\":true,\"type\":\"pie\"}],\"scatter3d\":[{\"line\":{\"colorbar\":{\"outlinewidth\":0,\"ticks\":\"\"}},\"marker\":{\"colorbar\":{\"outlinewidth\":0,\"ticks\":\"\"},\"opacity\":0.8},\"type\":\"scatter3d\"}],\"scattercarpet\":[{\"marker\":{\"colorbar\":{\"outlinewidth\":0,\"ticks\":\"\"}},\"type\":\"scattercarpet\"}],\"scattergeo\":[{\"marker\":{\"colorbar\":{\"outlinewidth\":0,\"ticks\":\"\"}},\"type\":\"scattergeo\"}],\"scattergl\":[{\"marker\":{\"colorbar\":{\"outlinewidth\":0,\"ticks\":\"\"}},\"type\":\"scattergl\"}],\"scattermapbox\":[{\"marker\":{\"colorbar\":{\"outlinewidth\":0,\"ticks\":\"\"}},\"type\":\"scattermapbox\"}],\"scatterpolargl\":[{\"marker\":{\"colorbar\":{\"outlinewidth\":0,\"ticks\":\"\"}},\"type\":\"scatterpolargl\"}],\"scatterpolar\":[{\"marker\":{\"colorbar\":{\"outlinewidth\":0,\"ticks\":\"\"}},\"type\":\"scatterpolar\"}],\"scatter\":[{\"marker\":{\"colorbar\":{\"outlinewidth\":0,\"ticks\":\"\"},\"opacity\":0.8},\"type\":\"scatter\"}],\"scatterternary\":[{\"marker\":{\"colorbar\":{\"outlinewidth\":0,\"ticks\":\"\"}},\"type\":\"scatterternary\"}],\"surface\":[{\"colorbar\":{\"outlinewidth\":0,\"ticks\":\"\"},\"colorscale\":[[0.0,\"#0d0887\"],[0.1111111111111111,\"#46039f\"],[0.2222222222222222,\"#7201a8\"],[0.3333333333333333,\"#9c179e\"],[0.4444444444444444,\"#bd3786\"],[0.5555555555555556,\"#d8576b\"],[0.6666666666666666,\"#ed7953\"],[0.7777777777777778,\"#fb9f3a\"],[0.8888888888888888,\"#fdca26\"],[1.0,\"#f0f921\"]],\"type\":\"surface\"}],\"table\":[{\"cells\":{\"fill\":{\"color\":\"#EBF0F8\"},\"line\":{\"color\":\"white\"}},\"header\":{\"fill\":{\"color\":\"#C8D4E3\"},\"line\":{\"color\":\"white\"}},\"type\":\"table\"}],\"box\":[{\"boxpoints\":\"outliers\",\"notched\":false,\"type\":\"box\"}]},\"layout\":{\"annotationdefaults\":{\"arrowcolor\":\"#2a3f5f\",\"arrowhead\":0,\"arrowwidth\":1},\"autotypenumbers\":\"strict\",\"coloraxis\":{\"colorbar\":{\"outlinewidth\":0,\"ticks\":\"\"}},\"colorscale\":{\"diverging\":[[0,\"#8e0152\"],[0.1,\"#c51b7d\"],[0.2,\"#de77ae\"],[0.3,\"#f1b6da\"],[0.4,\"#fde0ef\"],[0.5,\"#f7f7f7\"],[0.6,\"#e6f5d0\"],[0.7,\"#b8e186\"],[0.8,\"#7fbc41\"],[0.9,\"#4d9221\"],[1,\"#276419\"]],\"sequential\":[[0.0,\"#0d0887\"],[0.1111111111111111,\"#46039f\"],[0.2222222222222222,\"#7201a8\"],[0.3333333333333333,\"#9c179e\"],[0.4444444444444444,\"#bd3786\"],[0.5555555555555556,\"#d8576b\"],[0.6666666666666666,\"#ed7953\"],[0.7777777777777778,\"#fb9f3a\"],[0.8888888888888888,\"#fdca26\"],[1.0,\"#f0f921\"]],\"sequentialminus\":[[0.0,\"#0d0887\"],[0.1111111111111111,\"#46039f\"],[0.2222222222222222,\"#7201a8\"],[0.3333333333333333,\"#9c179e\"],[0.4444444444444444,\"#bd3786\"],[0.5555555555555556,\"#d8576b\"],[0.6666666666666666,\"#ed7953\"],[0.7777777777777778,\"#fb9f3a\"],[0.8888888888888888,\"#fdca26\"],[1.0,\"#f0f921\"]]},\"colorway\":[\"#636efa\",\"#EF553B\",\"#00cc96\",\"#ab63fa\",\"#FFA15A\",\"#19d3f3\",\"#FF6692\",\"#B6E880\",\"#FF97FF\",\"#FECB52\"],\"font\":{\"color\":\"#2a3f5f\"},\"geo\":{\"bgcolor\":\"white\",\"lakecolor\":\"white\",\"landcolor\":\"white\",\"showlakes\":true,\"showland\":true,\"subunitcolor\":\"#C8D4E3\"},\"hoverlabel\":{\"align\":\"left\"},\"hovermode\":\"closest\",\"mapbox\":{\"style\":\"light\"},\"paper_bgcolor\":\"white\",\"plot_bgcolor\":\"white\",\"polar\":{\"angularaxis\":{\"gridcolor\":\"#EBF0F8\",\"linecolor\":\"#EBF0F8\",\"ticks\":\"\"},\"bgcolor\":\"white\",\"radialaxis\":{\"gridcolor\":\"#EBF0F8\",\"linecolor\":\"#EBF0F8\",\"ticks\":\"\"}},\"scene\":{\"xaxis\":{\"backgroundcolor\":\"white\",\"gridcolor\":\"#DFE8F3\",\"gridwidth\":2,\"linecolor\":\"#EBF0F8\",\"showbackground\":true,\"ticks\":\"\",\"zerolinecolor\":\"#EBF0F8\"},\"yaxis\":{\"backgroundcolor\":\"white\",\"gridcolor\":\"#DFE8F3\",\"gridwidth\":2,\"linecolor\":\"#EBF0F8\",\"showbackground\":true,\"ticks\":\"\",\"zerolinecolor\":\"#EBF0F8\"},\"zaxis\":{\"backgroundcolor\":\"white\",\"gridcolor\":\"#DFE8F3\",\"gridwidth\":2,\"linecolor\":\"#EBF0F8\",\"showbackground\":true,\"ticks\":\"\",\"zerolinecolor\":\"#EBF0F8\"},\"camera\":{\"eye\":{\"x\":1.5,\"y\":1.5,\"z\":0.1}}},\"shapedefaults\":{\"line\":{\"color\":\"#2a3f5f\"}},\"ternary\":{\"aaxis\":{\"gridcolor\":\"#DFE8F3\",\"linecolor\":\"#A2B1C6\",\"ticks\":\"\"},\"baxis\":{\"gridcolor\":\"#DFE8F3\",\"linecolor\":\"#A2B1C6\",\"ticks\":\"\"},\"bgcolor\":\"white\",\"caxis\":{\"gridcolor\":\"#DFE8F3\",\"linecolor\":\"#A2B1C6\",\"ticks\":\"\"}},\"title\":{\"x\":0.5},\"xaxis\":{\"automargin\":true,\"gridcolor\":\"#EBF0F8\",\"linecolor\":\"#EBF0F8\",\"ticks\":\"\",\"title\":{\"standoff\":15},\"zerolinecolor\":\"#EBF0F8\",\"zerolinewidth\":2,\"linewidth\":2,\"showline\":true},\"yaxis\":{\"automargin\":true,\"gridcolor\":\"#EBF0F8\",\"linecolor\":\"#EBF0F8\",\"ticks\":\"\",\"title\":{\"standoff\":15},\"zerolinecolor\":\"#EBF0F8\",\"zerolinewidth\":2,\"linewidth\":2,\"showline\":true},\"height\":400,\"margin\":{\"b\":2,\"l\":2,\"r\":2,\"t\":30}}},\"xaxis\":{\"anchor\":\"y\",\"domain\":[0.0,1.0],\"title\":{\"text\":\"Audio Features\"}},\"yaxis\":{\"anchor\":\"x\",\"domain\":[0.0,1.0],\"title\":{\"text\":\"mean\"}},\"legend\":{\"tracegroupgap\":0},\"title\":{\"text\":\"Mean of Audio-Feautes in df_NO\"},\"barmode\":\"relative\",\"height\":400,\"width\":700},                        {\"responsive\": true}                    ).then(function(){\n",
              "                            \n",
              "var gd = document.getElementById('29fbffd6-cad7-45dd-b2b5-49c3cf5fd4bf');\n",
              "var x = new MutationObserver(function (mutations, observer) {{\n",
              "        var display = window.getComputedStyle(gd).display;\n",
              "        if (!display || display === 'none') {{\n",
              "            console.log([gd, 'removed!']);\n",
              "            Plotly.purge(gd);\n",
              "            observer.disconnect();\n",
              "        }}\n",
              "}});\n",
              "\n",
              "// Listen for the removal of the full notebook cells\n",
              "var notebookContainer = gd.closest('#notebook-container');\n",
              "if (notebookContainer) {{\n",
              "    x.observe(notebookContainer, {childList: true});\n",
              "}}\n",
              "\n",
              "// Listen for the clearing of the current output cell\n",
              "var outputEl = gd.closest('.output');\n",
              "if (outputEl) {{\n",
              "    x.observe(outputEl, {childList: true});\n",
              "}}\n",
              "\n",
              "                        })                };                            </script>        </div>\n",
              "</body>\n",
              "</html>"
            ]
          },
          "metadata": {}
        },
        {
          "output_type": "stream",
          "name": "stdout",
          "text": [
            "\n"
          ]
        }
      ]
    },
    {
      "cell_type": "code",
      "source": [
        "#Comparing the difference between both dataframes\n",
        "df_features_mean=df.groupby('label')[['danceability','energy','valence','acousticness','liveness','speechiness','instrumentalness']].mean().T\n",
        "df_features_mean.head()"
      ],
      "metadata": {
        "colab": {
          "base_uri": "https://localhost:8080/",
          "height": 206
        },
        "id": "RhVIRjd3N8M6",
        "outputId": "5d046a8b-c8d3-492d-d732-2c75152eaa76"
      },
      "execution_count": null,
      "outputs": [
        {
          "output_type": "execute_result",
          "data": {
            "text/plain": [
              "label                0         1\n",
              "danceability  0.767990  0.567342\n",
              "energy        0.713562  0.511333\n",
              "valence       0.648973  0.542710\n",
              "acousticness  0.196698  0.345461\n",
              "liveness      0.175935  0.168591"
            ],
            "text/html": [
              "\n",
              "  <div id=\"df-ba3f2e29-40c5-47a2-915c-0000fcb95c43\">\n",
              "    <div class=\"colab-df-container\">\n",
              "      <div>\n",
              "<style scoped>\n",
              "    .dataframe tbody tr th:only-of-type {\n",
              "        vertical-align: middle;\n",
              "    }\n",
              "\n",
              "    .dataframe tbody tr th {\n",
              "        vertical-align: top;\n",
              "    }\n",
              "\n",
              "    .dataframe thead th {\n",
              "        text-align: right;\n",
              "    }\n",
              "</style>\n",
              "<table border=\"1\" class=\"dataframe\">\n",
              "  <thead>\n",
              "    <tr style=\"text-align: right;\">\n",
              "      <th>label</th>\n",
              "      <th>0</th>\n",
              "      <th>1</th>\n",
              "    </tr>\n",
              "  </thead>\n",
              "  <tbody>\n",
              "    <tr>\n",
              "      <th>danceability</th>\n",
              "      <td>0.767990</td>\n",
              "      <td>0.567342</td>\n",
              "    </tr>\n",
              "    <tr>\n",
              "      <th>energy</th>\n",
              "      <td>0.713562</td>\n",
              "      <td>0.511333</td>\n",
              "    </tr>\n",
              "    <tr>\n",
              "      <th>valence</th>\n",
              "      <td>0.648973</td>\n",
              "      <td>0.542710</td>\n",
              "    </tr>\n",
              "    <tr>\n",
              "      <th>acousticness</th>\n",
              "      <td>0.196698</td>\n",
              "      <td>0.345461</td>\n",
              "    </tr>\n",
              "    <tr>\n",
              "      <th>liveness</th>\n",
              "      <td>0.175935</td>\n",
              "      <td>0.168591</td>\n",
              "    </tr>\n",
              "  </tbody>\n",
              "</table>\n",
              "</div>\n",
              "      <button class=\"colab-df-convert\" onclick=\"convertToInteractive('df-ba3f2e29-40c5-47a2-915c-0000fcb95c43')\"\n",
              "              title=\"Convert this dataframe to an interactive table.\"\n",
              "              style=\"display:none;\">\n",
              "        \n",
              "  <svg xmlns=\"http://www.w3.org/2000/svg\" height=\"24px\"viewBox=\"0 0 24 24\"\n",
              "       width=\"24px\">\n",
              "    <path d=\"M0 0h24v24H0V0z\" fill=\"none\"/>\n",
              "    <path d=\"M18.56 5.44l.94 2.06.94-2.06 2.06-.94-2.06-.94-.94-2.06-.94 2.06-2.06.94zm-11 1L8.5 8.5l.94-2.06 2.06-.94-2.06-.94L8.5 2.5l-.94 2.06-2.06.94zm10 10l.94 2.06.94-2.06 2.06-.94-2.06-.94-.94-2.06-.94 2.06-2.06.94z\"/><path d=\"M17.41 7.96l-1.37-1.37c-.4-.4-.92-.59-1.43-.59-.52 0-1.04.2-1.43.59L10.3 9.45l-7.72 7.72c-.78.78-.78 2.05 0 2.83L4 21.41c.39.39.9.59 1.41.59.51 0 1.02-.2 1.41-.59l7.78-7.78 2.81-2.81c.8-.78.8-2.07 0-2.86zM5.41 20L4 18.59l7.72-7.72 1.47 1.35L5.41 20z\"/>\n",
              "  </svg>\n",
              "      </button>\n",
              "      \n",
              "  <style>\n",
              "    .colab-df-container {\n",
              "      display:flex;\n",
              "      flex-wrap:wrap;\n",
              "      gap: 12px;\n",
              "    }\n",
              "\n",
              "    .colab-df-convert {\n",
              "      background-color: #E8F0FE;\n",
              "      border: none;\n",
              "      border-radius: 50%;\n",
              "      cursor: pointer;\n",
              "      display: none;\n",
              "      fill: #1967D2;\n",
              "      height: 32px;\n",
              "      padding: 0 0 0 0;\n",
              "      width: 32px;\n",
              "    }\n",
              "\n",
              "    .colab-df-convert:hover {\n",
              "      background-color: #E2EBFA;\n",
              "      box-shadow: 0px 1px 2px rgba(60, 64, 67, 0.3), 0px 1px 3px 1px rgba(60, 64, 67, 0.15);\n",
              "      fill: #174EA6;\n",
              "    }\n",
              "\n",
              "    [theme=dark] .colab-df-convert {\n",
              "      background-color: #3B4455;\n",
              "      fill: #D2E3FC;\n",
              "    }\n",
              "\n",
              "    [theme=dark] .colab-df-convert:hover {\n",
              "      background-color: #434B5C;\n",
              "      box-shadow: 0px 1px 3px 1px rgba(0, 0, 0, 0.15);\n",
              "      filter: drop-shadow(0px 1px 2px rgba(0, 0, 0, 0.3));\n",
              "      fill: #FFFFFF;\n",
              "    }\n",
              "  </style>\n",
              "\n",
              "      <script>\n",
              "        const buttonEl =\n",
              "          document.querySelector('#df-ba3f2e29-40c5-47a2-915c-0000fcb95c43 button.colab-df-convert');\n",
              "        buttonEl.style.display =\n",
              "          google.colab.kernel.accessAllowed ? 'block' : 'none';\n",
              "\n",
              "        async function convertToInteractive(key) {\n",
              "          const element = document.querySelector('#df-ba3f2e29-40c5-47a2-915c-0000fcb95c43');\n",
              "          const dataTable =\n",
              "            await google.colab.kernel.invokeFunction('convertToInteractive',\n",
              "                                                     [key], {});\n",
              "          if (!dataTable) return;\n",
              "\n",
              "          const docLinkHtml = 'Like what you see? Visit the ' +\n",
              "            '<a target=\"_blank\" href=https://colab.research.google.com/notebooks/data_table.ipynb>data table notebook</a>'\n",
              "            + ' to learn more about interactive tables.';\n",
              "          element.innerHTML = '';\n",
              "          dataTable['output_type'] = 'display_data';\n",
              "          await google.colab.output.renderOutput(dataTable, element);\n",
              "          const docLink = document.createElement('div');\n",
              "          docLink.innerHTML = docLinkHtml;\n",
              "          element.appendChild(docLink);\n",
              "        }\n",
              "      </script>\n",
              "    </div>\n",
              "  </div>\n",
              "  "
            ]
          },
          "metadata": {},
          "execution_count": 37
        }
      ]
    },
    {
      "cell_type": "code",
      "source": [
        "df_features_mean['difference_mean']=(df_features_mean[1]-df_features_mean[0]).round(3)\n",
        "df_features_mean['positive'] = (df_features_mean['difference_mean']>=0)"
      ],
      "metadata": {
        "id": "l4_8P2aDOxN3"
      },
      "execution_count": null,
      "outputs": []
    },
    {
      "cell_type": "code",
      "source": [
        "df_features_mean=df_features_mean.sort_values('difference_mean', ascending=False)"
      ],
      "metadata": {
        "id": "r1hk2YWlO60p"
      },
      "execution_count": null,
      "outputs": []
    },
    {
      "cell_type": "code",
      "source": [
        "fig1=px.bar(df_features_mean, y='difference_mean',title=\"Mean differences between df_SI and df_NO\",text_auto=True, width=700, height=400, color='positive',\n",
        "                color_discrete_map={\n",
        "                    True: '#b20710',\n",
        "                    False: 'blue'\n",
        "                    },opacity=0.6\n",
        ")\n",
        "\n",
        "newnames = {'True':'df_SI', 'False': 'df_NO'}\n",
        "fig1.for_each_trace(lambda t: t.update(name = newnames[t.name],\n",
        "                                      legendgroup = newnames[t.name],\n",
        "                                      hovertemplate = t.hovertemplate.replace(t.name, newnames[t.name])\n",
        "                                     ))\n",
        "\n",
        "fig1.update_layout(\n",
        "    legend_title=\"\")\n",
        "\n",
        "fig1.show()\n",
        "print('')"
      ],
      "metadata": {
        "colab": {
          "base_uri": "https://localhost:8080/",
          "height": 454
        },
        "id": "efLhxOFSPeJI",
        "outputId": "669a9160-8af6-4dee-e71a-881ad8beb89e"
      },
      "execution_count": null,
      "outputs": [
        {
          "output_type": "display_data",
          "data": {
            "text/html": [
              "<html>\n",
              "<head><meta charset=\"utf-8\" /></head>\n",
              "<body>\n",
              "    <div>            <script src=\"https://cdnjs.cloudflare.com/ajax/libs/mathjax/2.7.5/MathJax.js?config=TeX-AMS-MML_SVG\"></script><script type=\"text/javascript\">if (window.MathJax) {MathJax.Hub.Config({SVG: {font: \"STIX-Web\"}});}</script>                <script type=\"text/javascript\">window.PlotlyConfig = {MathJaxConfig: 'local'};</script>\n",
              "        <script src=\"https://cdn.plot.ly/plotly-2.8.3.min.js\"></script>                <div id=\"5d252a79-e98d-4c9c-9686-6a6f08309874\" class=\"plotly-graph-div\" style=\"height:400px; width:700px;\"></div>            <script type=\"text/javascript\">                                    window.PLOTLYENV=window.PLOTLYENV || {};                                    if (document.getElementById(\"5d252a79-e98d-4c9c-9686-6a6f08309874\")) {                    Plotly.newPlot(                        \"5d252a79-e98d-4c9c-9686-6a6f08309874\",                        [{\"alignmentgroup\":\"True\",\"hovertemplate\":\"positive=df_SI<br>index=%{x}<br>difference_mean=%{y}<extra></extra>\",\"legendgroup\":\"df_SI\",\"marker\":{\"color\":\"#b20710\",\"opacity\":0.6,\"pattern\":{\"shape\":\"\"}},\"name\":\"df_SI\",\"offsetgroup\":\"True\",\"orientation\":\"v\",\"showlegend\":true,\"textposition\":\"auto\",\"texttemplate\":\"%{y}\",\"x\":[\"acousticness\",\"instrumentalness\"],\"xaxis\":\"x\",\"y\":[0.149,0.089],\"yaxis\":\"y\",\"type\":\"bar\"},{\"alignmentgroup\":\"True\",\"hovertemplate\":\"positive=df_NO<br>index=%{x}<br>difference_mean=%{y}<extra></extra>\",\"legendgroup\":\"df_NO\",\"marker\":{\"color\":\"blue\",\"opacity\":0.6,\"pattern\":{\"shape\":\"\"}},\"name\":\"df_NO\",\"offsetgroup\":\"False\",\"orientation\":\"v\",\"showlegend\":true,\"textposition\":\"auto\",\"texttemplate\":\"%{y}\",\"x\":[\"liveness\",\"speechiness\",\"valence\",\"danceability\",\"energy\"],\"xaxis\":\"x\",\"y\":[-0.007,-0.096,-0.106,-0.201,-0.202],\"yaxis\":\"y\",\"type\":\"bar\"}],                        {\"template\":{\"data\":{\"barpolar\":[{\"marker\":{\"line\":{\"color\":\"white\",\"width\":0.5},\"pattern\":{\"fillmode\":\"overlay\",\"size\":10,\"solidity\":0.2}},\"type\":\"barpolar\"}],\"bar\":[{\"error_x\":{\"color\":\"#2a3f5f\"},\"error_y\":{\"color\":\"#2a3f5f\"},\"marker\":{\"line\":{\"color\":\"white\",\"width\":0.5},\"pattern\":{\"fillmode\":\"overlay\",\"size\":10,\"solidity\":0.2}},\"type\":\"bar\"}],\"carpet\":[{\"aaxis\":{\"endlinecolor\":\"#2a3f5f\",\"gridcolor\":\"#C8D4E3\",\"linecolor\":\"#C8D4E3\",\"minorgridcolor\":\"#C8D4E3\",\"startlinecolor\":\"#2a3f5f\"},\"baxis\":{\"endlinecolor\":\"#2a3f5f\",\"gridcolor\":\"#C8D4E3\",\"linecolor\":\"#C8D4E3\",\"minorgridcolor\":\"#C8D4E3\",\"startlinecolor\":\"#2a3f5f\"},\"type\":\"carpet\"}],\"choropleth\":[{\"colorbar\":{\"outlinewidth\":0,\"ticks\":\"\"},\"type\":\"choropleth\"}],\"contourcarpet\":[{\"colorbar\":{\"outlinewidth\":0,\"ticks\":\"\"},\"type\":\"contourcarpet\"}],\"contour\":[{\"colorbar\":{\"outlinewidth\":0,\"ticks\":\"\"},\"colorscale\":[[0.0,\"#0d0887\"],[0.1111111111111111,\"#46039f\"],[0.2222222222222222,\"#7201a8\"],[0.3333333333333333,\"#9c179e\"],[0.4444444444444444,\"#bd3786\"],[0.5555555555555556,\"#d8576b\"],[0.6666666666666666,\"#ed7953\"],[0.7777777777777778,\"#fb9f3a\"],[0.8888888888888888,\"#fdca26\"],[1.0,\"#f0f921\"]],\"type\":\"contour\"}],\"heatmapgl\":[{\"colorbar\":{\"outlinewidth\":0,\"ticks\":\"\"},\"colorscale\":[[0.0,\"#0d0887\"],[0.1111111111111111,\"#46039f\"],[0.2222222222222222,\"#7201a8\"],[0.3333333333333333,\"#9c179e\"],[0.4444444444444444,\"#bd3786\"],[0.5555555555555556,\"#d8576b\"],[0.6666666666666666,\"#ed7953\"],[0.7777777777777778,\"#fb9f3a\"],[0.8888888888888888,\"#fdca26\"],[1.0,\"#f0f921\"]],\"type\":\"heatmapgl\"}],\"heatmap\":[{\"colorbar\":{\"outlinewidth\":0,\"ticks\":\"\"},\"colorscale\":[[0.0,\"#0d0887\"],[0.1111111111111111,\"#46039f\"],[0.2222222222222222,\"#7201a8\"],[0.3333333333333333,\"#9c179e\"],[0.4444444444444444,\"#bd3786\"],[0.5555555555555556,\"#d8576b\"],[0.6666666666666666,\"#ed7953\"],[0.7777777777777778,\"#fb9f3a\"],[0.8888888888888888,\"#fdca26\"],[1.0,\"#f0f921\"]],\"type\":\"heatmap\"}],\"histogram2dcontour\":[{\"colorbar\":{\"outlinewidth\":0,\"ticks\":\"\"},\"colorscale\":[[0.0,\"#0d0887\"],[0.1111111111111111,\"#46039f\"],[0.2222222222222222,\"#7201a8\"],[0.3333333333333333,\"#9c179e\"],[0.4444444444444444,\"#bd3786\"],[0.5555555555555556,\"#d8576b\"],[0.6666666666666666,\"#ed7953\"],[0.7777777777777778,\"#fb9f3a\"],[0.8888888888888888,\"#fdca26\"],[1.0,\"#f0f921\"]],\"type\":\"histogram2dcontour\"}],\"histogram2d\":[{\"colorbar\":{\"outlinewidth\":0,\"ticks\":\"\"},\"colorscale\":[[0.0,\"#0d0887\"],[0.1111111111111111,\"#46039f\"],[0.2222222222222222,\"#7201a8\"],[0.3333333333333333,\"#9c179e\"],[0.4444444444444444,\"#bd3786\"],[0.5555555555555556,\"#d8576b\"],[0.6666666666666666,\"#ed7953\"],[0.7777777777777778,\"#fb9f3a\"],[0.8888888888888888,\"#fdca26\"],[1.0,\"#f0f921\"]],\"type\":\"histogram2d\"}],\"histogram\":[{\"marker\":{\"pattern\":{\"fillmode\":\"overlay\",\"size\":10,\"solidity\":0.2},\"line\":{\"width\":1}},\"type\":\"histogram\"}],\"mesh3d\":[{\"colorbar\":{\"outlinewidth\":0,\"ticks\":\"\"},\"type\":\"mesh3d\"}],\"parcoords\":[{\"line\":{\"colorbar\":{\"outlinewidth\":0,\"ticks\":\"\"}},\"type\":\"parcoords\"}],\"pie\":[{\"automargin\":true,\"type\":\"pie\"}],\"scatter3d\":[{\"line\":{\"colorbar\":{\"outlinewidth\":0,\"ticks\":\"\"}},\"marker\":{\"colorbar\":{\"outlinewidth\":0,\"ticks\":\"\"},\"opacity\":0.8},\"type\":\"scatter3d\"}],\"scattercarpet\":[{\"marker\":{\"colorbar\":{\"outlinewidth\":0,\"ticks\":\"\"}},\"type\":\"scattercarpet\"}],\"scattergeo\":[{\"marker\":{\"colorbar\":{\"outlinewidth\":0,\"ticks\":\"\"}},\"type\":\"scattergeo\"}],\"scattergl\":[{\"marker\":{\"colorbar\":{\"outlinewidth\":0,\"ticks\":\"\"}},\"type\":\"scattergl\"}],\"scattermapbox\":[{\"marker\":{\"colorbar\":{\"outlinewidth\":0,\"ticks\":\"\"}},\"type\":\"scattermapbox\"}],\"scatterpolargl\":[{\"marker\":{\"colorbar\":{\"outlinewidth\":0,\"ticks\":\"\"}},\"type\":\"scatterpolargl\"}],\"scatterpolar\":[{\"marker\":{\"colorbar\":{\"outlinewidth\":0,\"ticks\":\"\"}},\"type\":\"scatterpolar\"}],\"scatter\":[{\"marker\":{\"colorbar\":{\"outlinewidth\":0,\"ticks\":\"\"},\"opacity\":0.8},\"type\":\"scatter\"}],\"scatterternary\":[{\"marker\":{\"colorbar\":{\"outlinewidth\":0,\"ticks\":\"\"}},\"type\":\"scatterternary\"}],\"surface\":[{\"colorbar\":{\"outlinewidth\":0,\"ticks\":\"\"},\"colorscale\":[[0.0,\"#0d0887\"],[0.1111111111111111,\"#46039f\"],[0.2222222222222222,\"#7201a8\"],[0.3333333333333333,\"#9c179e\"],[0.4444444444444444,\"#bd3786\"],[0.5555555555555556,\"#d8576b\"],[0.6666666666666666,\"#ed7953\"],[0.7777777777777778,\"#fb9f3a\"],[0.8888888888888888,\"#fdca26\"],[1.0,\"#f0f921\"]],\"type\":\"surface\"}],\"table\":[{\"cells\":{\"fill\":{\"color\":\"#EBF0F8\"},\"line\":{\"color\":\"white\"}},\"header\":{\"fill\":{\"color\":\"#C8D4E3\"},\"line\":{\"color\":\"white\"}},\"type\":\"table\"}],\"box\":[{\"boxpoints\":\"outliers\",\"notched\":false,\"type\":\"box\"}]},\"layout\":{\"annotationdefaults\":{\"arrowcolor\":\"#2a3f5f\",\"arrowhead\":0,\"arrowwidth\":1},\"autotypenumbers\":\"strict\",\"coloraxis\":{\"colorbar\":{\"outlinewidth\":0,\"ticks\":\"\"}},\"colorscale\":{\"diverging\":[[0,\"#8e0152\"],[0.1,\"#c51b7d\"],[0.2,\"#de77ae\"],[0.3,\"#f1b6da\"],[0.4,\"#fde0ef\"],[0.5,\"#f7f7f7\"],[0.6,\"#e6f5d0\"],[0.7,\"#b8e186\"],[0.8,\"#7fbc41\"],[0.9,\"#4d9221\"],[1,\"#276419\"]],\"sequential\":[[0.0,\"#0d0887\"],[0.1111111111111111,\"#46039f\"],[0.2222222222222222,\"#7201a8\"],[0.3333333333333333,\"#9c179e\"],[0.4444444444444444,\"#bd3786\"],[0.5555555555555556,\"#d8576b\"],[0.6666666666666666,\"#ed7953\"],[0.7777777777777778,\"#fb9f3a\"],[0.8888888888888888,\"#fdca26\"],[1.0,\"#f0f921\"]],\"sequentialminus\":[[0.0,\"#0d0887\"],[0.1111111111111111,\"#46039f\"],[0.2222222222222222,\"#7201a8\"],[0.3333333333333333,\"#9c179e\"],[0.4444444444444444,\"#bd3786\"],[0.5555555555555556,\"#d8576b\"],[0.6666666666666666,\"#ed7953\"],[0.7777777777777778,\"#fb9f3a\"],[0.8888888888888888,\"#fdca26\"],[1.0,\"#f0f921\"]]},\"colorway\":[\"#636efa\",\"#EF553B\",\"#00cc96\",\"#ab63fa\",\"#FFA15A\",\"#19d3f3\",\"#FF6692\",\"#B6E880\",\"#FF97FF\",\"#FECB52\"],\"font\":{\"color\":\"#2a3f5f\"},\"geo\":{\"bgcolor\":\"white\",\"lakecolor\":\"white\",\"landcolor\":\"white\",\"showlakes\":true,\"showland\":true,\"subunitcolor\":\"#C8D4E3\"},\"hoverlabel\":{\"align\":\"left\"},\"hovermode\":\"closest\",\"mapbox\":{\"style\":\"light\"},\"paper_bgcolor\":\"white\",\"plot_bgcolor\":\"white\",\"polar\":{\"angularaxis\":{\"gridcolor\":\"#EBF0F8\",\"linecolor\":\"#EBF0F8\",\"ticks\":\"\"},\"bgcolor\":\"white\",\"radialaxis\":{\"gridcolor\":\"#EBF0F8\",\"linecolor\":\"#EBF0F8\",\"ticks\":\"\"}},\"scene\":{\"xaxis\":{\"backgroundcolor\":\"white\",\"gridcolor\":\"#DFE8F3\",\"gridwidth\":2,\"linecolor\":\"#EBF0F8\",\"showbackground\":true,\"ticks\":\"\",\"zerolinecolor\":\"#EBF0F8\"},\"yaxis\":{\"backgroundcolor\":\"white\",\"gridcolor\":\"#DFE8F3\",\"gridwidth\":2,\"linecolor\":\"#EBF0F8\",\"showbackground\":true,\"ticks\":\"\",\"zerolinecolor\":\"#EBF0F8\"},\"zaxis\":{\"backgroundcolor\":\"white\",\"gridcolor\":\"#DFE8F3\",\"gridwidth\":2,\"linecolor\":\"#EBF0F8\",\"showbackground\":true,\"ticks\":\"\",\"zerolinecolor\":\"#EBF0F8\"},\"camera\":{\"eye\":{\"x\":1.5,\"y\":1.5,\"z\":0.1}}},\"shapedefaults\":{\"line\":{\"color\":\"#2a3f5f\"}},\"ternary\":{\"aaxis\":{\"gridcolor\":\"#DFE8F3\",\"linecolor\":\"#A2B1C6\",\"ticks\":\"\"},\"baxis\":{\"gridcolor\":\"#DFE8F3\",\"linecolor\":\"#A2B1C6\",\"ticks\":\"\"},\"bgcolor\":\"white\",\"caxis\":{\"gridcolor\":\"#DFE8F3\",\"linecolor\":\"#A2B1C6\",\"ticks\":\"\"}},\"title\":{\"x\":0.5},\"xaxis\":{\"automargin\":true,\"gridcolor\":\"#EBF0F8\",\"linecolor\":\"#EBF0F8\",\"ticks\":\"\",\"title\":{\"standoff\":15},\"zerolinecolor\":\"#EBF0F8\",\"zerolinewidth\":2,\"linewidth\":2,\"showline\":true},\"yaxis\":{\"automargin\":true,\"gridcolor\":\"#EBF0F8\",\"linecolor\":\"#EBF0F8\",\"ticks\":\"\",\"title\":{\"standoff\":15},\"zerolinecolor\":\"#EBF0F8\",\"zerolinewidth\":2,\"linewidth\":2,\"showline\":true},\"height\":400,\"margin\":{\"b\":2,\"l\":2,\"r\":2,\"t\":30}}},\"xaxis\":{\"anchor\":\"y\",\"domain\":[0.0,1.0],\"title\":{\"text\":\"index\"}},\"yaxis\":{\"anchor\":\"x\",\"domain\":[0.0,1.0],\"title\":{\"text\":\"difference_mean\"}},\"legend\":{\"title\":{\"text\":\"\"},\"tracegroupgap\":0},\"title\":{\"text\":\"Mean differences between df_SI and df_NO\"},\"barmode\":\"relative\",\"height\":400,\"width\":700},                        {\"responsive\": true}                    ).then(function(){\n",
              "                            \n",
              "var gd = document.getElementById('5d252a79-e98d-4c9c-9686-6a6f08309874');\n",
              "var x = new MutationObserver(function (mutations, observer) {{\n",
              "        var display = window.getComputedStyle(gd).display;\n",
              "        if (!display || display === 'none') {{\n",
              "            console.log([gd, 'removed!']);\n",
              "            Plotly.purge(gd);\n",
              "            observer.disconnect();\n",
              "        }}\n",
              "}});\n",
              "\n",
              "// Listen for the removal of the full notebook cells\n",
              "var notebookContainer = gd.closest('#notebook-container');\n",
              "if (notebookContainer) {{\n",
              "    x.observe(notebookContainer, {childList: true});\n",
              "}}\n",
              "\n",
              "// Listen for the clearing of the current output cell\n",
              "var outputEl = gd.closest('.output');\n",
              "if (outputEl) {{\n",
              "    x.observe(outputEl, {childList: true});\n",
              "}}\n",
              "\n",
              "                        })                };                            </script>        </div>\n",
              "</body>\n",
              "</html>"
            ]
          },
          "metadata": {}
        },
        {
          "output_type": "stream",
          "name": "stdout",
          "text": [
            "\n"
          ]
        }
      ]
    },
    {
      "cell_type": "markdown",
      "source": [
        "## ¿Can we Cluster the songs?"
      ],
      "metadata": {
        "id": "2O4LjjeBZHMr"
      }
    },
    {
      "cell_type": "markdown",
      "source": [
        "In the meantime, I was also interested in checking if we can make a K means Cluster that would classify properly between the 2 datasets. However, I didn't go too far in this approach as it wasn't the main aim of this project, but as we can see, if we divide them in 2 clusters (as the dfs), the model divides the songs pretty decently, although it's not too precise. \n",
        "\n",
        "In order to improve the model (specially around 0 in x-axis), an adjustment in the hyperparameters would be definitely necessary."
      ],
      "metadata": {
        "id": "mgQuyNN2O2s-"
      }
    },
    {
      "cell_type": "code",
      "source": [
        "from sklearn.cluster import KMeans\n",
        "from sklearn.preprocessing import StandardScaler\n",
        "from sklearn.pipeline import Pipeline\n"
      ],
      "metadata": {
        "id": "P91GX8iCZQeq"
      },
      "execution_count": null,
      "outputs": []
    },
    {
      "cell_type": "code",
      "source": [
        "#Songs Cluster\n",
        "song_cluster_pipeline = Pipeline([('scaler', StandardScaler()), \n",
        "                                  ('kmeans', KMeans(n_clusters=2, \n",
        "                                   verbose=False))\n",
        "                                 ], verbose=False)\n",
        "\n",
        "X = (df.select_dtypes(np.number)).drop('label', axis=1)\n",
        "number_cols = list(X.columns)\n",
        "song_cluster_pipeline.fit(X)\n",
        "song_cluster_labels = song_cluster_pipeline.predict(X)\n",
        "df['cluster_label'] = song_cluster_labels"
      ],
      "metadata": {
        "id": "TXaqxAvcZNhq"
      },
      "execution_count": null,
      "outputs": []
    },
    {
      "cell_type": "code",
      "source": [
        "# Visualizing the Clusters with PCA\n",
        "\n",
        "from sklearn.decomposition import PCA\n",
        "\n",
        "pca_pipeline = Pipeline([('scaler', StandardScaler()), ('PCA', PCA(n_components=2))])\n",
        "song_embedding = pca_pipeline.fit_transform(X)\n",
        "projection = pd.DataFrame(columns=['x', 'y'], data=song_embedding)\n",
        "projection['title'] = df['title']\n",
        "projection['cluster'] = df['cluster_label']\n",
        "\n",
        "fig = px.scatter(\n",
        "    projection, x='x', y='y', color='cluster', hover_data=['x', 'y', 'title'])\n",
        "fig.show()"
      ],
      "metadata": {
        "colab": {
          "base_uri": "https://localhost:8080/",
          "height": 417
        },
        "id": "FgEDC3QNZXoO",
        "outputId": "e27e346d-caf6-4990-df9a-0a75daba3ede"
      },
      "execution_count": null,
      "outputs": [
        {
          "output_type": "display_data",
          "data": {
            "text/html": [
              "<html>\n",
              "<head><meta charset=\"utf-8\" /></head>\n",
              "<body>\n",
              "    <div>            <script src=\"https://cdnjs.cloudflare.com/ajax/libs/mathjax/2.7.5/MathJax.js?config=TeX-AMS-MML_SVG\"></script><script type=\"text/javascript\">if (window.MathJax) {MathJax.Hub.Config({SVG: {font: \"STIX-Web\"}});}</script>                <script type=\"text/javascript\">window.PlotlyConfig = {MathJaxConfig: 'local'};</script>\n",
              "        <script src=\"https://cdn.plot.ly/plotly-2.8.3.min.js\"></script>                <div id=\"568db518-b191-4edd-a79c-9e22fe8428d6\" class=\"plotly-graph-div\" style=\"height:400px; width:100%;\"></div>            <script type=\"text/javascript\">                                    window.PLOTLYENV=window.PLOTLYENV || {};                                    if (document.getElementById(\"568db518-b191-4edd-a79c-9e22fe8428d6\")) {                    Plotly.newPlot(                        \"568db518-b191-4edd-a79c-9e22fe8428d6\",                        [{\"customdata\":[[\"MERCHO\"],[\"True Faith '94\"],[\"Coraz\\u00f3n de Poeta\"],[\"Pegate - Turreo Edit\"],[\"Chau... No Va M\\u00e1s...! (with Atilio Stampone y su Orquesta Tipica)\"],[\"Una Noche en Medell\\u00edn (Me Puse las Balenciagas) - Remix\"],[\"CLOSE FRIENDS\"],[\"Shangri-La\"],[\"Young Hearts Run Free\"],[\"Living On An Island\"],[\"Graveyard Train\"],[\"Se Le Ve\"],[\"PATADA\"],[\"Dancing In the Dark - Live at the Walter Kerr Theatre, New York, NY - July 2018\"],[\"Kodachrome\"],[\"La Mordidita (feat. Yotuel)\"],[\"The Edge of Heaven\"],[\"Fool (If You Think It's Over)\"],[\"Fool If You Think It's Over\"],[\"Sandungueo Rkt\"],[\"Time Passages\"],[\"Fan\\u00e1tica Sensual - Remix\"],[\"Loco Enamorado\"],[\"P\\u00e9gate\"],[\"Desconocidos\"],[\"Pasarela\"],[\"Un homme et une femme\"],[\"My Girl\"],[\"Ride Like the Wind\"],[\"KESI - Remix\"],[\"One - Single Version\"],[\"Yo Me Monto\"],[\"Bellakeo - Remix\"],[\"Tit\\u00ed Me Pregunt\\u00f3\"],[\"Pr\\u00e9lude N\\u00b04 in E minor, opus 28 - Largo\"],[\"Anatom\\u00eda\"],[\"Para Amarnos M\\u00e1s\"],[\"Hace Calor\"],[\"LA JOAQUI | Mission 08\"],[\"(Love Is) Thicker Than Water\"],[\"C'est en septembre - Remasteris\\u00e9 en 2011\"],[\"Borinquen Bella (feat. Zion & Lennox)\"],[\"Si Vens\"],[\"Sleepy Shores\"],[\"Love Train\"],[\"Deseo Mutuo - Remix\"],[\"Sesion 11 Alejo Isakk - Remix\"],[\"My Kind Of Lady\"],[\"Air Force\"],[\"Feel The Need In Me\"],[\"C'est La Vie - 2017 Remastered Version\"],[\"Si Te La Encuentras Por Ah\\u00ed\"],[\"You'll Never Know\"],[\"Loco (Tu Forma de Ser) [Ft. Rub\\u00e9n Albarr\\u00e1n] - MTV Unplugged\"],[\"Yandel 150 (Turreo Edit) - Remix\"],[\"Summertime\"],[\"Chillax (feat. Ky-Mani Marley)\"],[\"Edge Of Town\"],[\"P\\u00e9gate M\\u00e1s\"],[\"Mediterranean Sundance\"],[\"Calma - Remix\"],[\"Coraz\\u00f3n\"],[\"Sadness Theme\"],[\"X \\u00daLTIMA VEZ\"],[\"Canzoni alla radio\"],[\"P rreo\"],[\"An Empty Glass\"],[\"Lobo Lopez\"],[\"When You Love a Woman\"],[\"Spring Rain\"],[\"This Time Around\"],[\"Mellow - Remastered 2017\"],[\"Criminal\"],[\"The \\\"In\\\" Crowd - Live (1965/Bohemian Caverns)\"],[\"Gift Of Freedom\"],[\"Cuando Te Bes\\u00e9\"],[\"Into The Night\"],[\"Maybe One Day - Original Mix\"],[\"Heavy Cloud No Rain\"],[\"Uva Bombom\"],[\"Algo en especial\"],[\"Villano Antillano: Bzrp Music Sessions, Vol. 51\"],[\"La Temperatura (feat. Eli Palacios)\"],[\"LA HORA Y EL D\\u00cdA\"],[\"TITAN\"],[\"Marisola - Remix\"],[\"Un grosso no - Remastered 2021\"],[\"\\u00c9xtasis\"],[\"Te Robar\\u00e9\"],[\"Tranka\"],[\"I Hate Myself for Loving You\"],[\"Kakaroto - El Noba - RKT\"],[\"Save Me a Dream\"],[\"Gatita\"],[\"Al Gendarme\"],[\"Diablo & Bellaco\"],[\"Strange Way\"],[\"MECHA\"],[\"C'est si bon / That's the Way I Love You\"],[\"TO' ESTO ES TUYO\"],[\"Only You (And You Alone)\"],[\"Luz Prend\\u00eda\"],[\"Lily Was Here\"],[\"The Last to Know\"],[\"El Anillo\"],[\"RKTEANDO (Turreo Edit) - Remix\"],[\"Session en el Barrio #4\"],[\"Masterpiece\"],[\"And I Love You So\"],[\"Emoji of a Wave\"],[\"Poor Man's Moody Blues\"],[\"Duki: Bzrp Music Sessions, Vol. 50 - Turreo Edit\"],[\"Nights Over Egypt\"],[\"DE LA PIPA\"],[\"Todo De Ti\"],[\"Summer Wind\"],[\"El Taxi\"],[\"Paix\\u00e3o\"],[\"AHORA QU\\u00c9\"],[\"Oregano (Remix)\"],[\"Grease - 2007 Remaster\"],[\"Numero 1\"],[\"In the Mood\"],[\"Lotta Love\"],[\"Anonimo Veneziano\"],[\"Je reviens te chercher\"],[\"Mentira\"],[\"LA INOCENTE\"],[\"The Power Of Love\"],[\"I'd Really Love to See You Tonight\"],[\"Un homme et une femme - Instrumental\"],[\"Lookin' for Love\"],[\"Hoy Me Voy de Party\"],[\"SUBEME LA RADIO (feat. Descemer Bueno & Zion & Lennox)\"],[\"Mercy Street\"],[\"Por el Momento (feat. Plan B)\"],[\"This Never Happened Before\"],[\"Poblado - Remix\"],[\"RKT Volumen 4\"],[\"Rin Tin Tin\"],[\"Pareja Del A\\u00f1o\"],[\"Classical Salsa\"],[\"Tiago PZK: Bzrp Music Sessions, Vol. 48\"],[\"The Bluest Blues - Remastered\"],[\"DOMINGO DE BOTE\"],[\"I'm On Fire\"],[\"Turraka - Remix\"],[\"Pegale Suave\"],[\"INDIQUEN | E3\"],[\"Are You Ready?\"],[\"Somebody\"],[\"All American Girls\"],[\"Lazy - Remastered 2012\"],[\"Chi Te L'Ha Detto ?\"],[\"RON COLA\"],[\"Girlfriend Is Better - 2005 Remaster\"],[\"By The Time I Get To Phoenix - Remastered 2001\"],[\"DUELE EL CORAZON (feat. Wisin)\"],[\"The Big Blue - Overture\"],[\"Te Felicito\"],[\"It's A Long Way There - 2010 Digital Remaster\"],[\"Gasolina\"],[\"Sexy Girl\"],[\"Letter From My Heart - Original 12\\\" Version\"],[\"Loco Por Perrearte - Remix\"],[\"Loving You's a Dirty Job (But Somebody's Gotta Do It) - Long Version\"],[\"Amanh\\u00e3 Talvez\"],[\"I Know You're Out There Somewhere\"],[\"Shakira: Bzrp Music Sessions, Vol. 53\"],[\"Bless You - Remastered 2010\"],[\"Lover Boy\"],[\"VISTA AL MAR\"],[\"Elegy - 2004 Remaster\"],[\"Cool Night\"],[\"MAMIII\"],[\"My Father's Eyes - Acoustic; Live at MTV Unplugged, Bray Film Studios, Windsor, England, UK, 1/16/1992; Take 2\"],[\"Vaina Loca\"],[\"Nights on Broadway\"],[\"Need Your Love So Bad\"],[\"GUSTY DJ I Alejo Isakk Session en el Barrio #5\"],[\"More, More, More\"],[\"Headed for a Heartbreak\"],[\"M.A (Mejores Amigos) - Rkt Chill\"],[\"L'Important c'est la rose\"],[\"CALLEJERO FINO | DJ TAO Turreo Sessions #723\"],[\"Magic Man\"],[\"La Gozadera (feat. Marc Anthony)\"],[\"Fan\\u00e1tica Sensual\"],[\"You (Unplugged)\"],[\"El Mambo\"],[\"Summer Lightning\"],[\"Modo Incognito Rkt\"],[\"Heaven In Your Eyes\"],[\"Never Thought (That I Could Love)\"],[\"Coctel De Fruta - prod. by Cuban Deejays, Ernesto Losa\"],[\"Una Vaina Loca\"],[\"Medallo\"],[\"Jump\"],[\"Isabel - Vivo\"],[\"Coqueta Remix\"],[\"Tamo Chelo - Remix\"],[\"Hold On\"],[\"Beware My Love - 2014 Remaster\"],[\"You Can't Play The Blues (In An Air-Conditioned Room)\"],[\"Caile (Turreo Edit) - Remix\"],[\"El Indio\"],[\"EXPERIMENTO\"],[\"Pierdo la Cabeza - Official Remix\"],[\"La Trampa Es Ley - REMIX\"],[\"Get on Top\"],[\"Borro Cassette\"],[\"Le rital\"],[\"Donde Estan las Gatas\"],[\"La Rumba\"],[\"COMO HAS ESTAU?\"],[\"You and I\"],[\"I Loved You\"],[\"Desesperados\"],[\"CALENT\\u00d3N\"],[\"Punto 40 - Remix\"],[\"CHAO BEBE\"],[\"The Secret Life of Arabia - 2017 Remaster\"],[\"Qu\\u00e9 M\\u00e1s Pues?\"],[\"Deborah\"],[\"Passion\"],[\"Neverita\"],[\"Carolina Carol Bela\"],[\"Castigar\"],[\"Don't Expect Me to Be Your Friend\"],[\"Hasta Que Se Seque el Malec\\u00f3n (feat. Farruko) - Remix\"],[\"V16\"],[\"APA\"],[\"Sembrando el Terror - Remix\"],[\"DALE DALE\"],[\"It's My House\"],[\"Sad Eyes - Studio Outtake - 1990\"],[\"Sesi\\u00f3n - 6\"],[\"Le coeur grenadine\"],[\"Never Again\"],[\"ULALA (OOH LA LA)\"],[\"Hombre Lobo\"],[\"TUS L\\u00c1GRIMAS\"],[\"Pantysito\"],[\"Il mio canto libero\"],[\"Bohemio\"],[\"Se Me Hizo Tarde\"],[\"Memphis Soul Stew\"],[\"Diferente\"],[\"Yonaguni\"],[\"Clickiamos\"],[\"Con Altura\"],[\"Bandido: Locura Mix / La Clande Ubicacion 2\"],[\"Bizarre Love Triangle '94\"],[\"Se Prepar\\u00f3\"],[\"Tu Turrito\"],[\"Usted (feat. Vicentico) - MTV Unplugged\"],[\"Someone Like You\"],[\"CAIRO\"],[\"EIA\"],[\"Spacer\"],[\"Our Day Will Come\"],[\"DESPECH\\u00c1\"],[\"Malianteo 420 (Volumen 3)\"],[\"Cama y Mesa - Cama e Mesa\"],[\"1, 2, 3 (feat. Jason Derulo & De La Ghetto)\"],[\"Todo A Pulm\\u00f3n\"],[\"Te Bot\\u00e9 - Remix\"],[\"Bumpin' On Sunset\"],[\"Sin Contrato\"],[\"Butakera\"],[\"She\\u2019s My Baby - 2014 Remaster\"],[\"Una Noche En Medell\\u00edn - Turreo Edit\"],[\"Monoton\\u00eda\"],[\"Stranger In My House\"],[\"Una Lady Como T\\u00fa\"],[\"Break It To Me Gently\"],[\"Felices los 4\"],[\"Someone Saved My Life Tonight\"],[\"El Party\"],[\"I'm So Excited\"],[\"Ojitos Lindos\"],[\"From East to West\"],[\"Polic\\u00eda\"],[\"Chantaje\"],[\"Baila Baila Baila\"],[\"Lost in France\"],[\"Rebel Rebel - 2016 Remaster\"],[\"Moscow Mule\"],[\"Somebody Special\"],[\"Whatcha Gonna Do?\"],[\"El \\u00daltimo Rom\\u00e1ntico\"],[\"La Llevo Al Cielo (Ft. \\u00d1engo Flow)\"],[\"What Love Can Be\"],[\"No Podr\\u00e1s\"],[\"Gonna Get Along Without You Now - Extended\"],[\"Como Sabes\"],[\"La M\\u00e1quina\"],[\"Agachate\"],[\"Summer In The City\"],[\"Quien Dijo Amigos\"],[\"D\\u00c1KITI\"],[\"Wish I Knew You - Single Mix\"],[\"Sentimental Lady\"],[\"I Believe\"],[\"Guilty - Radio Edit\"],[\"I Wasn't Born Yesterday\"],[\"Como Chilla Ella - Remix\"],[\"Faro de los Ahogados\"],[\"Delincuente\"],[\"Ma quale idea\"],[\"Reggaet\\u00f3n Lento (Bailemos)\"],[\"RAM PAM PAM\"],[\"Quevedo: Bzrp Music Sessions, Vol. 52\"],[\"Unchained Melody\"],[\"Esclavo de Tus Besos\"],[\"Valentine\"],[\"Party Y Alcohol - Remix\"],[\"PROVENZA\"],[\"Ella Quiere Beber - Remix\"],[\"Se Le Ve (Turreo Edit) - Remix\"],[\"Adrenalina (feat. Jennifer Lopez & Ricky Martin)\"],[\"Besos Moja2\"],[\"Givenchy Rkt\"],[\"Summertime\"],[\"Give Up Your Guns\"],[\"Captain Of Industry (Overture)\"],[\"Yendo No, Llegando\"],[\"Robarte un Beso\"],[\"The Theme from \\\"A Summer Place\\\"\"],[\"Rock Me - Live\"],[\"Envolver\"],[\"Genesis Ch.1. V.32\"],[\"Music and Lights\"],[\"El Amante\"],[\"\\u00bfY pa la Wacha Loca? (con Salastkbron) - Remix\"],[\"ULTRA SOLO\"],[\"Real\"],[\"Solo $exo\"],[\"La Jumpa\"],[\"Tres\"],[\"B\\u00fascate Otro\"],[\"Chameleon - Remastered 2017\"],[\"La Despedida\"],[\"MESITA | Mission 05\"],[\"Don\\u2019t Dream It\\u2019s Over - Home Demo\"],[\"AIRBNB\"],[\"Love Me Like There's No Tomorrow - Special Edition\"],[\"The Good Life\"],[\"Chocopop RKT - Remix\"],[\"A Woman Needs Love (Just Like You Do)\"],[\"More Love\"],[\"The Letter\"],[\"Veo Veo\"],[\"Amarillo By Morning\"],[\"The Millionaire\"],[\"Un homme et une femme\"],[\"Vente Pa' Ca (feat. Maluma)\"],[\"Watermelon In Easter Hay\"],[\"Oh! Sweet Nuthin' - 2015 Remaster\"],[\"Feliz Cumplea\\u00f1os Ferxxo\"],[\"Culo\"],[\"Estallando Desde el Oc\\u00e9ano\"],[\"Missing You\"],[\"How? - Remastered 2010\"],[\"Pinta\"],[\"Cheia de Charme\"],[\"Moviendo Caderas (feat. Daddy Yankee)\"],[\"Inestable\"],[\"Piano In The Dark\"],[\"Diles\"],[\"Los Aparatos RKT - Remix\"],[\"Che bella idea\"],[\"Little Green Apples\"],[\"Despu\\u00e9s de la Playa\"],[\"Una Vaina Loca\"],[\"Oh Yoko! - Remastered 2010\"],[\"Over & Over - 2015 Remaster\"],[\"En La De Ella\"],[\"Gonna Get Over You\"],[\"Volando - Remix\"],[\"Down With My Baby\"],[\"You Keep Me Hangin' On\"],[\"Really Want to Know You - Remastered Version\"],[\"Matatan - Remix\"],[\"Lie To Me\"],[\"Wishing\"],[\"Gold Dust Woman - 2004 Remaster\"],[\"PR Sessions #2\"],[\"Trucho - Remix\"],[\"Live to Tell\"],[\"Take Your Time (Do It Right)\"],[\"Lujon\"],[\"PUNTO G\"],[\"I Wanna Hear It From Your Lips\"],[\"I'm Easy\"],[\"You Make Me Feel Like Dancing\"],[\"Morito y Panas, Vol.8\"],[\"Love Is A Lonely Song\"],[\"Saoco RKT - Remix\"],[\"Everybody's Got To Learn Sometime\"],[\"Voyage Of No Return\"],[\"X\"],[\"Long Goodbyes\"],[\"Looking for the Summer\"],[\"Prohibidox\"],[\"Caile\"],[\"M\\u00edo No Tuyo (feat. Julianno Sosa)\"],[\"Head Over Heels\"],[\"Dancin' Til Dawn\"],[\"Arrow Through Me - Remastered 1993\"],[\"BABY OTAKU\"],[\"Aire Libre\"],[\"In Da Getto\"],[\"Noche De Sexo\"],[\"ECKO | Mission 12\"],[\"Culo\"],[\"Ella - Remix\"],[\"Orchard Road\"],[\"El Perd\\u00f3n (with Enrique Iglesias)\"],[\"Tu Turrito\"],[\"30 A\\u00f1os\"],[\"Shower the People - 2019 Remaster\"],[\"Dale Don Dale\"],[\"This Must Be the Place (Naive Melody) - 2005 Remaster\"],[\"Loco\"],[\"When Will You (Make My Telephone Ring)?\"],[\"Hey Mor\"],[\"Este Seu Olhar\"],[\"#1 PLAKATA\"],[\"Bakerman\"],[\"Requisito 420\"],[\"Stop Draggin' My Heart Around (with Tom Petty and The Heartbreakers) - 2016 Remaster\"],[\"Sar\\u00e0 perch\\u00e9 ti amo\"],[\"Cristina (feat. Shelow Shaq)\"],[\"3AM\"],[\"Farem que Surti el Sol\"],[\"De Lao A Lao: Turreo Sessions #5 - Remix\"],[\"Give Me Your Love (Love Song)\"],[\"Estoy Azulado - Remasterizado 2007\"],[\"Me Porto Bonito - Turreo Rkt\"],[\"Love Is Love - Remastered 2003\"],[\"Versace Givenchy Dior - Remix\"],[\"C\\u00farame\"],[\"La Bachata\"],[\"I Love You Too Much\"],[\"Precious to Me\"],[\"#2 CANDELA\"],[\"Como Yo\"],[\"CHORRITO PA LAS ANIMAS\"],[\"Fly Me To The Moon (In Other Words)\"],[\"Fallin' in Love\"],[\"Cochinae - Remix\"],[\"Mu\\u00f1ecas\"],[\"Ey Loco\"],[\"KALEB DI MASI | Mission 07\"],[\"Malianteo 420 (Volumen 2)\"],[\"Carnaval\"],[\"Mil Horas\"],[\"Bailando por Ahi\"],[\"Los Malvekes\"],[\"How You Gonna See Me Now\"],[\"Glass Off\"],[\"Perro Fiel (feat. Nicky Jam)\"],[\"AL RITMO | E2\"],[\"Cool Cat - Remastered 2011\"],[\"The Good Life - 2008 Remastered\"],[\"Missing You\"],[\"The Road - Remastered\"],[\"Noche de Teteo\"],[\"Nos Comemos (Turreo Rkt)\"],[\"CAZZU | DJ TAO Turreo Sessions #9\"],[\"Danza Kuduro\"],[\"I Want You\"],[\"BICI - Remix\"],[\"Dove\"],[\"Clouds Across the Moon\"],[\"Si Quieren Frontear\"],[\"Sensual Beb\\u00e9\"],[\"Og kush\"],[\"Yesterday Once More\"],[\"Bora Bora\"],[\"Me Porto Bonito\"],[\"Soltera\"],[\"Dura\"],[\"Clandestino\"],[\"Autumn Leaves\"],[\"BHAVI | Mission 09\"],[\"SUSY 420\"],[\"Jungle RKT - Remix\"],[\"Engafado\"],[\"Angelito Sin Alas (feat. Juan Mag\\u00e1n) - Remix\"],[\"Ella No Sigue Modas\"],[\"The Crying Game\"],[\"Dancin' Shoes\"],[\"Mich\\u00e8le\"],[\"Gun\"],[\"Encantadora\"],[\"New Light of Tomorrow\"],[\"Cayo La Noche - Remix\"],[\"Where Did Your Heart Go?\"],[\"La Dif\\u00edcil\"],[\"Faust\"],[\"Blues de Cris\"],[\"Don't Look Back\"],[\"3 En 1\"],[\"I Can't Tell You Why - 2013 Remaster\"],[\"Por honor y gloria\"],[\"Do Me, Baby\"],[\"Stray Cat Strut\"],[\"Bzrp Music Session: Vol. 23 - Remix\"],[\"DE CAROLINA\"],[\"Por Honor y Gloria\"],[\"Don Omar RKT - Remix\"],[\"LACONE\"],[\"Live For Today\"],[\"Baby\"],[\"If You Think You're Lonely Now\"],[\"Ram Pam Pam\"],[\"Everybody Loves The Sunshine\"],[\"Yandel 150\"],[\"Love Too Good\"],[\"El Perdedor\"],[\"Extranjero\"],[\"Rompe RKT - Remix\"],[\"My Melancholy Blues - Remastered 2011\"],[\"The World We Knew (Over And Over)\"],[\"I'm Specialized in You\"],[\"Gardel / Arr. Carli: Mi Buenos Aires querido\"],[\"Volume III - (Star Wars and other hits) - Original Single Edit\"],[\"Sensualidad\"],[\"Atr\\u00e9vete-Te-Te\"],[\"I Just Wanna Stop\"],[\"You Can't Get What You Want (Till You Know What You Want)\"],[\"Granada\"],[\"Mirror, Mirror\"],[\"PEPPER | DJ TAO Turreo Sessions #15\"],[\"Greatest Love of All\"],[\"The Promise\"],[\"Going Back To My Roots (Original Radio Version)\"],[\"Problema\"],[\"Disco Shy - Extended Promo Mix\"],[\"Into The Night - Re-Recorded In Stereo\"],[\"Blam\"],[\"Le vent, le cri (Premier th\\u00e8me)\"],[\"AM Remix\"],[\"No Me Acuerdo\"],[\"Mu\\u00f1ecas RKT - Remix\"],[\"Otro Muerto\"],[\"Pa Tra Rkt\"],[\"Lonely People\"],[\"Ripples - 2007 - Remaster\"],[\"Pegao\"],[\"Mi\\u00e9nteme\"],[\"HASTA LUEGO\"],[\"Desesperados - Remix\"],[\"Something to Remember\"],[\"Rakata\"],[\"Toma Tussi - Turreo Edit\"],[\"CUMBIA MAFIA 420\"],[\"El Amante (feat. Ozuna & Bad Bunny) - Remix\"],[\"In And Out Of Love\"],[\"FERNET\"],[\"Fuleteo\"],[\"Ponle\"],[\"Eva\"],[\"Turn To Me\"],[\"Dos Besitos\"],[\"Que Te Vaya Bien\"],[\"FULANITO\"],[\"MDQ 2 RKT - Remix\"],[\"Magic Dance\"],[\"Vo' Quien Sos\"],[\"Mayores\"],[\"Three Times A Lady\"],[\"Is This Love\"],[\"Cuando Acaba el Placer (Depois do Prazer)\"],[\"DURO\"],[\"Ei Sei Que Vou Te Amar\"],[\"Ladies' Nite in Buffalo? (Noche de Ronda en la Ciudad)\"],[\"Nos Comemos Vivos (Turreo Edit) - Remix\"],[\"Love... Thy Will Be Done\"],[\"Efecto\"],[\"OREGANO | E1\"],[\"The Four Horsemen\"],[\"The Love I Lost (feat. Teddy Pendergrass)\"],[\"GAT\\u00daBELA\"],[\"Despacito (Featuring Daddy Yankee)\"],[\"This Used to Be My Playground\"],[\"I've Seen That Movie Too - Remastered 2014\"],[\"KU\\u00b4 - Remix\"],[\"Minha Namorada\"],[\"You Were in My Heart\"],[\"Remix RKT - Remix\"],[\"CORAZ\\u00d3N DESPEINADO\"],[\"Nost\\u00e1lgico\"],[\"PANTIES Y BRASIERES\"],[\"Entro al Party - Turreo Edit\"],[\"CALLEJERO FINO | Mission 10\"],[\"Cabin Down Below - 2014 Remaster\"],[\"Sabato pomeriggio\"],[\"Hate It When You Leave\"],[\"I Love You More Than You'll Ever Know\"],[\"Whiskey y Coco\"],[\"Tendencia Global\"],[\"LA FAMA (with The Weeknd)\"],[\"Cuatro Babys (feat. Trap Capos, Noriel, Bryant Myers & Juhn)\"],[\"L-GANTE | DJ TAO Turreo Session #10\"],[\"PUNTO 40\"],[\"Salimo de Noche Turreo Edit\"],[\"Toi Ready Pa La Disco\"],[\"You and I, Pt. II - Full Version; 2017 Remaster\"],[\"She's Not There\"],[\"Una Noche en Medell\\u00edn\"],[\"#9 Dream - Remastered 2010\"],[\"Trouble\"],[\"Her Town Too (with J.D. Souther)\"],[\"Heart (Stop Beating in Time)\"],[\"Lowdown\"],[\"AUTOM\\u00c1TICO\"],[\"Cat People (Putting Out Fire) - 2018 Remaster\"],[\"Mi Gente\"],[\"Senza fine\"],[\"Solita\"],[\"You Don't Know Me\"],[\"Et si tu n'existais pas\"],[\"Pa Tra Rkt - Remix\"],[\"Caught by Surprise - 2009 Digital Remaster\"],[\"It's in the Way That You Use It - 1999 Remaster\"],[\"Cabildo y Juramento\"],[\"Eminence Front\"],[\"Sin Pijama\"],[\"Farem que Surti el Sol\"],[\"Ahi Ahi Ahi (RKT) - Remix\"],[\"A Matter of Time\"],[\"TRUCHO\"],[\"Letan\\u00eda\"],[\"I Need You\"],[\"S\\u00edguelo Bailando\"],[\"Pechito Partido\"],[\"Lady in Black\"],[\"El Momento\"],[\"Here Comes The Flood\"],[\"You and Me\"],[\"TEKA | E6\"],[\"Crazy for You\"],[\"Keeping the Love Alive\"],[\"Reality\"],[\"Cosa Sei\"],[\"13 Jours En France\"],[\"MDQ RKT - Remix\"],[\"Inspector Mills\"],[\"I Don't Care\"],[\"Me Niego (feat. Ozuna & Wisin)\"],[\"Le doy perreo\"],[\"Wherever I Go\"],[\"Into The Night\"],[\"Cities On Flame with Rock and Roll\"],[\"Driver's Seat\"],[\"Say It Ain't True\"],[\"EL TIRRI | DJ TAO Turreo Sessions #8\"],[\"What You Won't Do for Love\"],[\"X SI VOLVEMOS\"],[\"Doncella - Turreo Rkt\"],[\"Cruel to Be Kind\"],[\"Your Song - Demo Version\"],[\"La radio\"],[\"TORO RKT - Remix\"],[\"No Sigue Modas\"],[\"CHOCOLATE RKT - Remix\"],[\"Wham Bam Shang-A-Lang\"],[\"Ruthless Queen\"],[\"CARANCHO\"],[\"Bad News\"],[\"Waiting for a Star to Fall\"],[\"Tab\\u00fa\"],[\"Extra\\u00f1\\u00e1ndote\"],[\"Let The Sunshine In (From The Musical Production \\\"Hair\\\")\"],[\"Buongiorno anche a te - 2016 Remastered\"],[\"Eterna Soledad\"],[\"Tell Me What You Dream\"],[\"Baila Para Mi (Turreo Edit) - Remix\"],[\"Fiel - Remix\"],[\"Canzoni Stonate\"],[\"Laughing\"],[\"La Hora del Insomnio\"],[\"Tirri 23\"],[\"Your Own Sweet Way\"],[\"SJU\"],[\"Chetos Vs. Turros\"],[\"Pepas\"],[\"Red Bull Red Label\"],[\"Blue Monday '88\"],[\"Song For Guy\"],[\"How Much I Feel\"],[\"New York Minute\"],[\"La Declaraci\\u00f3n\"],[\"Ho Capito Che Ti Amo\"],[\"Qui\\u00e9reme (feat. Abraham Mateo & Lary Over) - Remix\"],[\"Normal\"],[\"Matemos las Ganas\"],[\"TURROMANTIKO\"],[\"Ella No Es Tuya - Remix\"],[\"Tune Down\"],[\"Ainsi soit-il\"],[\"Reflections Of My Life - Original recording\"],[\"Moby Dick\"],[\"Closest Thing to Heaven\"],[\"Working in a Goldmine\"],[\"Pide - Remix\"],[\"Duro y Suave\"],[\"Hasta el Amanecer\"],[\"All For A Reason\"],[\"Mensajitos\"],[\"Dame Algo\"],[\"ALEJO ISAKK | DJ TAO Turreo Sessions #14\"],[\"V\\u00e1monos de Viaje\"],[\"3G (feat. Jon Z, Don Chezina, Chencho Corleone & Myke Towers) - Remix\"],[\"Que Le Den\"],[\"Mujeriego\"],[\"Bona Nit\"],[\"A Song For You\"],[\"Talk to Me\"],[\"Salimo en Caravana\"],[\"Desire\"],[\"Ma Que Ta' Buscando RKT (Azote) - Remix\"],[\"Heaven\"],[\"Bayou\"],[\"Gusty DJ | Ecko - Session en el Barrio #7\"],[\"Ella Y Yo - Featuring Don Omar\"],[\"Rica y Apretadita (feat. Anayka)\"],[\"KALEB DI MASI | DJ TAO Turreo Sessions #5\"],[\"Ley Seca\"],[\"Isn't It Midnight - 2017 Remaster\"],[\"PLAYA DEL INGL\\u00c9S\"],[\"Another Lonely Night In New York\"],[\"Captured by the Moment\"],[\"Tamo Chelo - Remix\"],[\"Circle Of Love\"],[\"Tired of Toein' the Line\"],[\"Soy Peor\"],[\"Esta Lloviendo\"],[\"No Es Normal (Turreo Rkt)\"],[\"Fuera del mercado\"],[\"LOKERA\"],[\"Picture Book\"],[\"Pal Cache\"],[\"Patos\"],[\"La Bicicleta\"],[\"Gato de Noche\"],[\"She Is Michelle\"],[\"Quiero Comerte\"],[\"Luces de alcohol\"],[\"Con il nastro rosa\"],[\"Adios Nonino\"],[\"You Are a Danger\"],[\"Intruder\"],[\"La Bicicleta (feat. Maluma) - Remix\"],[\"Tacones Rojos\"],[\"That Girl Is Gone\"],[\"Holiday - 2015 Remaster\"],[\"A Remark You Made\"],[\"The Shuffle\"],[\"Cellophane City\"],[\"Plus fort que nous - Instrumental\"],[\"One Day (At A Time) - Remastered 2010\"],[\"Takiti RKT - Remix\"],[\"SALAS | DJ TAO Turreo Session #12\"],[\"Encantadora (feat. Farruko & Zion & Lennox) - Remix\"],[\"When Love Is The Missing Word\"],[\"Esc\\u00e1pate Conmigo\"],[\"If You Really Want To Be My Friend - Remastered\"],[\"El Farsante\"],[\"LE DOY 20 MIL\"],[\"Es Un Secreto\"],[\"MEMORIAS\"],[\"Nos Comemos (feat. Ozuna)\"],[\"Vasos Vac\\u00edos\"],[\"Cry to Me\"],[\"Like A Fool\"],[\"Ahora Que Est\\u00e1 Soltera\"],[\"Lucky In Love\"],[\"Midnight Blues\"],[\"Picky\"],[\"In a Lifetime - Remastered\"],[\"Call Me - Stereo\"],[\"Bellakeo Rosa - Remix\"],[\"Volver a M\\u00ed\"],[\"Hasta el Amanecer (feat. Daddy Yankee) - The Remix\"],[\"ALLA\"],[\"P\\u00e9gate (Rkt Intro) - REMIX\"],[\"Mega Marisola (Que Paso, Te Asustaste - TikTok) 2.0 - Remix\"],[\"NE\\u00d3N RKT\"],[\"Una Lady Como T\\u00fa (feat. Nicky Jam) - Remix\"],[\"More Than One Way to Love a Woman\"],[\"Beast Of Burden - Remastered 1994\"],[\"Stop, Look, Listen (To Your Heart)\"],[\"Mon Amour - Remix\"],[\"SIN SE\\u00d1AL\"],[\"Melancholy Man\"],[\"Balada para un Loco\"],[\"Hold Me 'Til The Morning Comes (with Peter Cetera)\"],[\"Traductor\"],[\"Jordan (Turreo Edit) - Remix\"],[\"BIEN PEGAO\"]],\"hovertemplate\":\"x=%{x}<br>y=%{y}<br>title=%{customdata[0]}<br>cluster=%{marker.color}<extra></extra>\",\"legendgroup\":\"\",\"marker\":{\"color\":[1,1,0,1,0,1,1,0,1,0,0,1,1,0,1,1,1,1,0,1,0,1,1,1,1,1,0,0,1,1,0,1,1,1,0,1,0,1,1,0,0,1,1,0,1,1,1,0,1,0,0,1,1,0,1,0,1,0,1,0,1,1,0,1,0,1,0,0,0,1,1,0,1,0,0,1,0,0,1,1,1,1,1,1,1,1,1,1,1,1,1,1,0,1,1,1,0,1,0,1,0,1,1,0,1,1,1,1,0,0,0,1,0,1,1,0,1,0,1,1,1,1,0,0,0,0,0,1,0,0,0,0,1,1,0,1,0,1,1,1,1,0,1,0,1,0,1,1,1,1,0,1,0,1,1,1,0,1,0,1,0,1,1,1,1,0,0,0,1,0,0,1,0,0,1,0,1,1,0,1,1,0,1,0,1,0,1,1,0,1,1,1,0,0,1,1,1,0,1,1,1,0,0,1,1,1,1,1,1,1,1,0,1,1,1,0,0,1,1,1,1,1,1,0,0,1,0,1,0,1,1,1,1,1,1,0,1,0,0,1,1,1,1,0,1,1,1,1,1,1,1,1,1,1,1,1,1,1,1,1,1,1,1,1,1,0,1,0,1,1,0,1,1,0,1,0,1,0,1,1,1,1,1,1,1,0,1,1,1,1,1,1,0,1,0,1,1,1,0,1,1,1,0,0,1,1,1,0,1,1,1,1,1,0,1,0,1,1,1,1,1,1,1,0,0,0,1,1,0,1,1,0,0,1,1,1,1,1,1,1,1,0,1,1,0,1,0,0,1,0,0,1,1,0,0,0,1,0,0,1,1,1,1,0,1,0,1,0,0,1,1,0,0,1,1,0,0,1,1,1,0,0,0,1,0,0,0,1,1,0,1,0,1,1,0,1,1,0,1,0,0,1,0,0,1,1,1,1,1,1,1,0,1,1,1,1,1,0,1,1,1,0,1,1,1,0,1,0,1,1,1,1,1,1,1,0,1,1,0,1,0,1,1,1,0,1,1,1,1,0,1,1,1,1,1,1,1,1,1,1,0,0,1,1,1,0,0,0,1,1,1,1,1,1,0,0,1,1,1,0,1,1,1,1,1,0,1,1,1,1,1,1,0,0,0,1,1,0,1,0,1,0,0,0,1,0,0,0,0,1,1,0,1,1,1,0,0,1,0,1,0,1,1,1,0,0,1,0,1,1,1,0,1,1,0,1,0,1,1,1,1,0,1,0,1,1,1,0,1,1,0,1,1,1,1,0,1,1,1,1,0,1,1,1,0,1,1,1,1,1,1,1,1,0,0,0,1,0,0,1,0,1,1,0,0,1,1,0,0,1,0,0,1,1,1,1,1,1,1,0,0,0,1,1,0,1,1,1,1,1,0,0,1,0,0,0,0,1,1,1,1,0,1,0,1,1,1,1,1,0,1,0,1,0,1,1,1,1,1,1,1,0,0,1,1,0,0,1,0,1,0,1,1,1,0,0,1,1,0,1,0,1,1,1,0,0,1,1,1,1,0,1,1,1,1,1,0,0,0,0,1,1,0,0,1,1,0,1,1,1,1,1,0,0,0,1,0,1,1,1,1,1,0,0,0,1,1,0,1,1,1,0,1,1,1,1,1,1,1,0,0,1,1,1,1,0,0,1,1,1,1,1,0,1,0,0,1,0,0,1,1,1,1,1,0,1,1,1,1,0,1,0,1,0,1,1,1,1,1,0,0,1,0,0,0,1,1,1,0,1,0,1,1,1,1,1,0,0,0,1,1,0,1,0,0,1,1,1,1,1,1,1,1,1,1,0,1,1,0,0,0,1,1,1],\"coloraxis\":\"coloraxis\",\"symbol\":\"circle\"},\"mode\":\"markers\",\"name\":\"\",\"orientation\":\"v\",\"showlegend\":false,\"x\":[-2.8361734656410005,-0.5749083810410374,1.1837289209881985,-0.08547975616600823,2.293974915645021,-0.6624436098706362,-0.8997576672554304,3.363382743143686,-0.22178268075264415,0.4982638285634792,2.7426101333378488,-1.013260825893698,-0.8693546401309914,2.6110589177539474,-0.7453383262949342,-2.357499968268043,0.009425728029272657,0.20631126514289244,1.6698542228582187,-0.9363447868371283,1.0685770967640214,-1.8005313907349467,-1.6224790318735787,-1.1996260560284806,-1.8937999416747244,-0.8140781995198039,2.267283547516273,2.3749709651005277,-0.19754832684180643,-2.0236529203905045,1.943048238924648,-2.503110218316744,-2.5212669498312037,-1.4803605409176595,7.068548584568752,-0.8238100519279264,1.048927190357419,-0.5215334949857624,-0.4941477830314731,0.7071961804131496,1.201981095041425,-1.1691210762440176,-0.09119208396277276,5.28537160248631,-0.6794340599109021,-1.6886616338037017,-2.356488208323701,1.6129978316220506,-0.3600530678836409,0.7925183635824217,3.211879628734577,-1.2580554631403271,-0.026008762359623194,0.5335861235512309,-0.6820279951925714,7.554432511288414,-1.4846324319108941,2.117478288886282,-2.052584001014599,4.21970941806824,-1.7845840096452004,-1.4764535725178507,0.7841180410602118,-1.9721387279995102,4.19718556790318,-1.7301552226525625,1.6467639606832831,0.6789504590889845,0.8869981047257871,0.5206998194496947,-0.01577392809159273,2.360891912238154,-1.7227506537649522,1.186689048586792,0.7180408393057698,-1.3937321454817082,0.7232881356592598,0.7469088232250095,0.03368633730400055,-3.420720416775331,0.5206469342694405,-1.4834153969041763,-1.970943134557648,-2.3279862483937603,-0.7927858779987125,-1.8903983706127168,0.07543530874898349,-1.942153046063816,-1.4811844309688391,-2.7348393223645013,-0.7105027365509085,-2.3076927329054735,3.9390183314784513,-1.8323979846787073,-2.517547684395171,-1.1629649200069043,1.6555697808188148,-1.5128243753504564,2.6668621768935794,-1.2982550296517115,1.2478902050335645,-2.6009008670238147,0.21522808423847883,1.7074629539127648,-1.9750045208693827,-0.7176629880940789,-2.188148612348375,0.14501557938503445,4.111160266544626,2.5597164160086656,3.8670939240882705,-0.40736279058714486,1.5533769103591561,-0.7151484341994832,-1.0702766740329834,2.3648272250443796,-1.4331344741558447,1.2974624817084885,-0.4815730490014935,-0.639280800573256,-0.26054229084031494,-2.2238547943300198,1.2457638244797575,0.5819993958932959,2.765293392169997,1.0723234864330056,1.9178070912442788,-1.570647998922272,3.577138663335966,2.16966797522273,1.8068973306101048,1.2223034373567576,-1.7676170381923852,-1.688646026156404,3.584146375164896,-1.099411234112982,1.6612255283125759,-1.14011100847526,-3.5776889723597707,-1.7314269806231344,-1.2074637133336288,1.0195571774186962,-1.8054593262429446,2.844990309199656,-1.6817964874678113,1.3553004743938364,-0.7582976761186117,-1.3955939671619064,0.00463915888343165,0.2553714198834972,3.172511589753272,-0.5591385225999412,2.0434134653275198,-0.14658757105876913,-1.1775294505532197,-1.6802053479223034,2.0633291820947024,-2.530772740355818,2.618431886356659,-2.010988607908631,3.259740652067628,-1.1574989673371445,0.3776404146145176,0.27907688250090246,-1.5361427661914573,2.513142453316463,1.5252181561600335,1.9363768873214933,-1.298280530810465,3.917915363047922,1.2191431055052329,-0.25419718127517843,4.716551832952935,0.560997862692852,-2.2833457574635987,2.8474453688851873,-1.6116201150221285,-0.4817396816259173,4.035314183360061,-2.0616526080513675,-0.1082455369826699,1.7080479058373244,-0.8332703896888257,2.257813389865843,-2.530557761488905,2.3513715128620603,-2.459790470655023,-2.149022808227531,3.2235576452859407,-1.4859701489482633,0.12007783180381165,-0.8308938974165936,2.730903691880953,1.9390777274566262,-2.2363518898694044,-1.0800484693866275,-1.1809149568458546,0.7043967138313887,0.050933516837056436,-1.3854222324784522,-2.1749979977576133,1.6438726403337955,2.0142477855831213,0.056809437825442885,-0.10895397671250853,0.37944104471111545,-1.8101341972347906,-0.5523389469856982,-1.7449565105308273,0.1202688419243154,-1.8393716379360243,1.2627877477546439,-1.5483019323006522,-2.8353465539079212,-1.827317076188761,2.886934920194121,3.8681915828004807,-1.4473640265984158,-0.3393734731476471,-1.3296933357658887,-1.1977770839419346,-1.3691209803600686,-2.3293536652671696,5.193823787003454,1.1771488326323118,-0.9421908569635237,0.9755126283867283,-2.7016462619405703,2.2969953504700222,-1.4933232662669,-2.130402832054035,-1.6851915350249527,-0.5400812042100063,-1.2964465857761593,-0.40947939536905414,2.2999212711613306,-2.653188151508261,2.9717788848007407,1.6573046819577328,-2.102143812493177,-0.09378645518626223,-1.450940165006545,-1.6439905819507137,2.8485122291914524,-0.1986158088689524,-0.7587355080329936,-0.029564566203124885,-1.4606420407730092,-0.7532346051498638,-1.2122343526125339,-1.9746497106753629,-2.412256234198839,-0.44039990769601833,-1.9066324192933308,-1.1431357832437177,-0.31874173663197714,0.24270912486713087,-2.272965659463463,-1.6457237031577605,-0.34601619983367493,0.3804868225137422,-2.1630500592751996,-1.4067545012188936,0.04108838870618848,-2.0496075940806313,4.927575814358648,-1.165260155361451,2.8337698296782023,-2.2806246538733665,-0.7957944028367985,1.3439228618863173,0.09598064042415269,-2.0123857991712755,0.8537881326431299,-0.6428779196466591,1.8680706473842958,-1.4454667531586614,2.885646017188968,-1.564420295428925,-1.1405285894782031,-0.6315646926369715,0.6315152567764964,0.3475056321431296,-1.9359777692942743,-1.8033380910817736,1.011616651149119,0.24431810837439627,-0.8016962846559895,0.3809285134826112,0.1614695630266746,-0.8259234012530978,-2.3471262522768974,3.2296571585615332,-1.251385744352743,1.0948820399669965,-1.2888904491821132,-1.6518271536937286,-1.7168021581732764,3.178100668808886,-1.478466730187349,0.5002478500220202,-1.0901032499073924,1.3168608717075643,0.5056864248449557,-0.2355265633123987,-0.5418507172400295,-1.6380332645435776,1.007757545377409,-1.3607144867372583,-2.047291262901036,-1.818718874261516,-1.74581222720605,-1.5484702616819255,4.5962754672835775,-1.2652810262773515,3.292476605825758,-2.661566842987424,-0.3455131224174522,-1.0616796394494552,-0.015471802814720489,-2.200248986239693,-1.3723425691875224,-0.9687823115030615,6.786473991438965,2.1506514404957002,3.332388401863742,-1.2622686527632372,-1.9178246742345464,3.584601511884105,0.224334056194563,-1.5417283926182026,2.917637076897629,1.5010880829477737,-1.1633144232122763,-2.4589008961907934,-1.6347594171374644,-1.2800904271025928,-0.587424859386919,-1.6087601061440915,-2.4749214753648023,-1.257579871180366,2.551894041243803,-2.206195760773167,-0.5833180540486478,0.7665703642295539,-1.1752393574652167,1.1351169121296183,3.462218065165116,-2.4658645435776974,0.9286866955170965,0.8596275773891839,0.3006868315483948,-1.244494041929459,1.2399014481242598,1.8749131067603126,2.9474688712231676,-2.3064387004644096,3.045854139944293,2.0999586040948137,-1.7445951331978828,-1.6164409238479236,-0.5784143908604499,-0.6564738400395576,3.412853669850412,-2.427406664689838,0.6310324816919027,-1.7302383475491507,0.9746524133357253,1.1746180006489475,-0.8214852345142653,-0.9134771325355519,1.6837926444186295,2.173795604219235,-1.9748883511978983,-0.2303003167960873,1.065208737250603,2.2177051975499986,-1.799005596911722,-1.2301616552836392,-0.7951381400786055,3.198622393584338,2.6072574268321684,1.656406305506324,-1.9808397471224095,1.390376439895028,2.8975707373333432,0.6315958003052536,-1.4367703617287937,-0.9920881945389973,1.8223267041107993,0.03779753193954063,3.9030603750292747,-2.1862563654108027,0.3857917418081619,1.9712585950574324,-1.4256638550613623,0.40401274656397856,0.5971763152045975,-0.04044988704942386,4.109938685547094,1.2339046718293603,-1.2390233923803298,4.279508156042631,1.9473963529840737,-2.2029730132968846,-1.8952853820480688,-1.5117295239878286,0.241064741991237,-1.4511798293431246,-0.03024077474809278,-1.7448156288759922,3.855653461180797,-2.1738345503032623,-1.246879176374852,-1.8610051633170477,-2.7673543317941602,-1.4082480239828266,2.2072585919601284,-0.6183345900874322,-1.3256731886200563,-1.473292403998424,1.1867781741035004,-1.98117241915494,-0.47350106291835997,-1.921516532889237,2.513137815748722,-2.2737328501250555,4.404097232884191,-1.4361947387984857,-0.3947770936650771,-0.20075085060014458,0.38444510877733273,-1.8709027148056576,-2.1311094880421453,-1.3907636752533874,1.7400896192439386,-2.0068092262233677,0.3403526551663717,0.6195861531062765,-1.1132958157038804,1.075224615672043,-1.1450064035229122,0.11008295584200806,-1.783051667446122,1.4053946693839163,-1.880031362768672,-2.0467715544573606,-1.309172508107746,-2.226245941480536,2.4705588329907395,-0.9322073681662996,-2.083715544697945,-2.315583452296735,-1.3265681605122757,-1.1702228441036886,-0.5253520268886078,-1.9151420898547749,-0.502265427942056,-1.90974347304664,-0.8874879506889303,2.624892631235999,5.315562320106079,-2.277924094233172,0.04354389495969676,0.2599462297910539,1.5554773109336344,0.9684401889545795,3.3492030229143834,-0.9544086062446046,-1.060869959410128,-1.0084304212598565,-2.3697660896279955,-0.6914318453508975,-1.662552868791688,4.096314852717183,0.766845698505859,-2.2186967684318772,-0.34626181648252774,-2.0421799225191486,4.014482652113669,-1.3313003909652539,-2.0062545340081925,-1.5701851624459264,-1.4122370153068544,-2.009967002345832,3.2934477846906685,-0.38412216513748093,-1.622624804010333,-1.2650618784660348,-0.7549807459077611,-1.913869908262967,-1.8554703402934538,2.7463050818427446,2.48473673534758,1.885260934541996,0.06473839768752077,-1.8733138774531897,5.29692756302287,-0.8128558320429689,1.909414164633988,-2.010865792506156,1.0322528487266773,1.1815676370315866,2.249859650475221,-2.5528707132426547,2.200613213295168,1.7217484423689262,1.7671633745406843,1.1210495594656238,-0.8343200682832838,-2.9528855173645487,1.4014984526633567,-0.31209072950891054,-1.3360092116006073,-0.48986198953404786,3.345663039491151,0.9137274036672209,-2.3016321331163407,1.0838918055546138,-2.1467617803373447,1.6868043444387777,-1.5457406150042938,-1.21843676473028,-2.801780689035676,2.8002823464640976,2.7783924697384585,-0.8862189070331198,3.6155500664065277,-1.305612023027913,-1.1039209436094137,-2.399223079176644,2.68230346155028,-0.2101730375371445,-0.10583848081839013,1.564803058467852,-3.1056786881665537,6.390089024694756,0.03878845958867834,-1.5686081363448556,-1.4687323417771743,-0.6381707531826352,1.0698329617270321,-1.1313924863269984,2.9291151508375046,-1.5304859411252658,-1.469382071102538,-2.3661419662618615,2.9941844501532833,-1.1664305673030355,0.019491071563240807,3.7205129004122517,-1.3524035631613038,-1.6701351148458916,-0.07582862575756202,-0.6851297220846603,3.7453558818509554,-2.398420415559037,-0.5355113921445962,-1.3647699955094028,-1.4185274646322785,2.3779491572519458,-1.584207101909751,-1.943640698128022,-2.3911276881268058,1.2118124974570206,-0.4124165945052616,-2.2062264384760826,-1.0983824922739527,-2.579104817159069,-2.183863826328706,-1.4549433985512417,-2.7719870051387963,-2.190781227693957,5.425641901170991,0.5583489438823588,1.2630885777500238,-1.2979946081916967,4.343703602623494,1.4757688018257091,-0.8412314764950991,1.331522198624397,-0.24048966669926664,-0.21951001097015743,1.519299794547542,1.1801299524390836,-2.385466372346193,-1.0882564451346326,3.6148410502831583,2.7928184019991042,-0.839974256504133,4.8088746917477705,1.099612409909891,-1.773242990051798,-2.3265011762051375,-1.7590621671694424,-1.6853829924855321,-1.1753668876422971,-0.8703748811879916,-0.9073312571857426,3.293593120291408,1.2426523955343836,2.783512270705135,-2.175108797302895,-1.3703491088905368,1.1672730917509972,-0.26685064287012794,-1.4886021325933678,-2.2441942618825172,-0.18180848415615453,-2.89317095645183,2.0454148889864943,1.0759070485193671,-2.137262696966167,1.7317360405667521,0.7725389417024184,1.2647367469513562,1.139719649623477,-1.1117354897433445,-2.71069667080012,-1.0153991116497534,-0.23500039308078577,3.98049411671127,-1.0539854568143845,2.388454006065052,-0.37430945664452825,-0.9124731488149495,-0.40817701601683004,-0.93924475513797,-0.6265770104969551,1.3045457997527752,-1.9721217634654058,2.039582332927787,-1.553238266767074,2.700501590301126,-0.9820260436265544,-1.9839795746947106,-0.24335479101143787,-1.4476381319169151,-1.419445300491515,0.013617510476682767,-0.09494034701438356,2.7651555673199897,2.3250338546481686,-0.9836892053709609,0.27250632815275916,2.6739592733195594,2.771363878640608,0.23047825601199057,5.621347331858703,-2.177870116999177,1.5242630772294536,-0.6340501526164923,-1.63743693845154,-2.146613219652052,4.371043721609459,1.1415144486841682,0.013628495214066356,-0.7868960895573229,2.4407761080903776,-1.6088363745946708,2.1916681724720584,-2.2515918548568417,-1.045191605870653,-0.37625576974349867,3.793105812778231,1.7799943782477283,-0.8509651059922689,-1.848449739984502,-1.3981783212935242,-1.1864706671686926,1.8814991992111418,-0.975715918243987,-0.45825871659531126,-0.8500599978260804,-0.9227097748696619,-1.476016696167602,3.059889301319509,2.1578218409709655,1.877584993876047,2.476279223254172,-1.3779294199211014,-0.5914216689569765,2.593414279469629,2.1108726264272124,-1.2919971980167297,-1.4712942507914573,4.195552912260111,-2.030752591293275,-1.7670498332861626,-1.2941144623153285,-2.6852614845510443,-0.2537509854687725,3.1939850974046435,0.5536422901133751,3.1312139673581063,-0.001212445055485348,3.6390184902060394,-0.3675093291892353,-1.4800878588092308,-0.7586372330799159,-1.1145230363523235,-1.4630845233802205,2.2436271990426255,0.8008411488148844,2.999983334071095,-0.9941226242112409,0.4555218611329487,0.5868051370878321,-1.3064284127813999,-1.821683681489328,-1.20089318425098,1.0003603477680307,-0.5276260711752908,-2.0502788604693447,-2.707152393660703,-0.7633467345452865,-1.8240914902008505,-2.414481787220921,-1.7809602538489537,3.590801994064235,4.940830309682931,-0.866482353221708,-0.8926957411241819,-0.5362781488506796,-1.4004969670191532,1.3571663000087337,1.9140466839276844,-1.780616251513713,-1.2878829132307612,-1.7773253683274992,-1.9127047998502678,-1.197734494153776,0.8764813951311579,-2.03738432437158,2.1176537335952355,1.4706914798122537,-1.0527425392996388,1.9882386426465075,0.8076663156645496,-0.10574483371827237,-2.0366264757238848,-1.324207733131919,-0.40014210076551016,-2.3175548839937687,0.9364144384408031,-2.1830356383169547,-0.37878317963873315,-2.533939606470142,-2.271762145997415,2.8364682410729753,-2.8067881211068197,1.9584225700396984,0.3088503737846497,6.03849446780475,0.12486555628128598,0.02991472036669208,-1.4727934992078142,-2.4803310687584896,-0.10062990216100601,1.8180101146162304,4.2110089102558,-0.19673994090614744,1.7183190805107553,4.219211621737686,3.0909603019504397,-1.0536032013925527,-1.4320287192001888,-1.8555825990668702,0.7798021689239921,-1.776783301392803,1.4948980050072787,-1.062425026931237,-1.4958461134353473,-1.0480881062928828,-0.3858097923771546,-1.8981816643459843,1.1224551897874426,2.06348113963414,1.6455085108399679,-2.0670131864710806,-0.2751181614684249,3.8978314624107298,-1.250106198699999,1.7712311127029918,0.8600758215414732,-0.39376909154985595,-1.1428815932936807,-1.4098603846671232,-1.208627335907066,-1.0419424304287201,-1.8070430918392943,-0.6635192208634939,0.17666684695443943,0.39163479216887587,-0.8729378503582388,1.0490217545962666,-1.0844813808485407,-1.9296267843869503,2.9037966293714415,3.323595289557859,2.531316097970304,-1.8833729076151913,-0.21651601407567053,-2.6587045818630304],\"xaxis\":\"x\",\"y\":[0.21358333003559668,-1.64544787110199,-1.011817589316263,2.203546692305593,1.2692620003507862,-0.3180311365379233,1.5220312131107618,-0.9167357376708043,-1.4217227764105769,-1.1923958973448998,-1.5880173980037844,-0.923783853839208,-0.6913301386879274,-0.22620779189726076,-0.3855758163611236,0.17000481148522756,-1.266838715737334,-1.963003763865326,-1.2751607740360449,0.5225751080921621,-0.9062686328926519,-0.21558169793694434,-1.5480309973783746,1.1827190618161807,0.7107790049111244,-0.7821600325998637,-0.6901396660535235,0.8477532653407619,-1.833941793180213,0.030075944052254524,-0.35902456112083375,-0.24740452202793603,0.24913629714730426,1.133954048914113,4.135731232340709,1.5345850399527132,1.3299028098743941,0.22517632149455816,1.0377850402959714,-0.7683301083590854,1.3724234852179678,-0.8507973596595871,-0.14444137661144318,0.887253768774238,1.1682935845666076,-0.31482325114152365,1.169547424248708,0.4459809246987429,2.47933764607493,0.10651865454911733,0.4138830280736944,0.26247358267251336,-1.6390864044198394,-0.853036096346921,0.22580259349755555,4.785709273260358,0.3377111856558862,-0.15381679997539713,-1.0904233920284938,-0.6041822858428312,-1.0292745220909283,-0.3149521066269915,0.5070268972612961,-0.14741301362538242,1.545959682116804,0.03346721232497363,0.25802858238547177,-1.6737668513008142,0.9461486444299342,-0.9517347571090149,-0.8150158730750995,-0.8924579355131875,-1.1650804701227016,-1.2344511228289523,-0.45262007789474035,0.24078026786039666,-1.3690823147661741,-0.41444644380424456,-2.0379387380346077,1.9504908983115885,-0.4798083043390868,0.4985687803607434,-0.6170699585209349,-0.49611605084294463,0.8273545949390266,0.41688856834817656,-1.302510409765105,0.660588532712179,0.2042255299613189,-0.6040758716717246,-0.6721208679133057,1.2771296379100743,1.413599096475253,-0.11956531621366624,1.9092566771159685,0.7099265151276223,0.5506947006515438,0.6431368108512289,-1.0706785305995024,-0.7773734948119861,-0.5342883518779633,0.9405697527534722,-1.948102843916231,-0.7142494275914829,0.8361639821219653,1.9002995855501135,1.2641097206350305,-1.4518549902482214,0.37270727342466514,0.5269537464753449,0.18438975507540953,-0.3089306827005524,-0.9003591086260286,0.3685917817344623,0.5919854087349259,-0.6894944711029725,-0.5252137865839238,-0.22099663268669453,2.1322226603386665,2.77359087194757,-1.0196389600059617,-0.35393254411515246,-1.0571513261351668,-0.5406785666935718,1.502240657897667,1.2335235064765666,1.0589610192415206,0.2045434350622561,-0.057969637052973755,1.5303461410238972,0.5604346898799885,0.597084904596374,0.08493509657290897,0.42522671682133284,0.7827380012808159,0.5653171667587948,1.1292218749226457,-1.5644776745824622,1.5449792540404779,0.2474452361509928,-0.39750955949735195,-1.057298363440353,1.382834511804569,-1.6562996939036128,1.3835901570274307,0.3266378845732892,1.1496139683908955,0.7096132015563803,1.0769643600511287,-0.5448883821339763,0.4676066653654352,-2.6178874451018643,-1.4335013886331949,-1.11105691063901,0.23343263284488389,-1.2418019091335069,1.3149859729457773,-0.9180735560992744,-0.5035913319009906,2.3339411436631057,-2.5105130808461427,0.4436965450052669,0.4483936105262654,-2.1528205738374253,-0.8120652471113998,-2.1275795587634767,0.22794722391270167,-1.711494623965681,0.7716275885112566,0.44163816253777755,-2.017582348457114,1.8761786920666588,0.4208097550966167,0.26723946086410616,-0.501002280883864,-1.7156473088389141,0.614612018778004,0.47499461271745413,1.3516739990036613,1.8641003112009806,-2.622811850315104,-0.7260104997710843,0.47562341784710055,0.46345873827261386,-0.24155805078179482,-2.3948715751986303,-1.256138627871299,0.10497187744596945,1.3398431725699864,0.20135576637170194,-1.821548981485493,0.3684929335596737,-0.21144643824889378,0.981106133564628,-0.44585173799236094,0.5921817612590851,-0.12176310481584285,0.04006713991057295,-3.078773526515926,-0.8031578974477211,-1.1362092344432286,-1.1182759357980534,-1.6310876020664773,-1.0555692810994068,2.4722795533427866,-0.15148839549829093,-0.8930846523966448,-0.4316958415146579,-1.0237852155678087,-1.2557602398198482,0.1959776729733338,-0.6744158781461995,-0.17378621273727968,-0.021232746346354324,0.42006548087601836,-0.25350074376545406,2.1984445961864307,0.5395663166421032,0.6712985791305983,-0.39720791471244843,0.5383199691575831,-0.8252220025766733,-0.5259852279151441,1.7084571612096533,-0.6965886606810092,0.29646787935306057,0.13590522581245482,-1.05292200467597,0.2882527437043105,-0.724685229591918,-1.2390381173670766,0.8783136848506665,0.9756622735285995,1.261381035927468,-0.8162517103877416,-0.12968599533427727,1.287476980109473,-0.7262064801741234,0.7328746888181539,0.909390036227003,0.5092693503966229,2.1883919441102235,-0.7129046071812781,0.46027887068484347,-0.974102788989109,-0.4285898421105822,-1.3319046782697979,-0.08682052671605879,1.6873376490923506,1.0747843645390884,0.9194673999986199,0.449471803608511,-2.3650680346335196,1.1508076503137177,-0.12819294964698805,-1.6240747641419937,-1.5190513924116535,1.7503329383563533,0.6217258754455581,-2.3231868914161127,-1.2761377251900818,0.8273428883743016,0.3375772443633174,-0.27631107008507005,-0.3290177642721935,0.8820343733194106,-0.775820532627584,-1.363579922346983,-1.4426630058162853,2.0125038520914553,0.9158888681087657,1.2866718362345624,0.9463596241122665,-1.6431448244251747,0.7295580969630197,2.8291211609091373,-0.0703848468113838,-0.26853437265508984,2.4539871023247226,-0.8941694395502685,-0.1282680457843047,-3.746764042325315,0.2684909693488126,-1.2523338055736368,-0.8989488971228389,-1.7956168172580609,-0.1360487197173421,0.09782328431433131,-0.9264636713362944,-0.298930353470234,-0.2775314343054625,-0.7266495649680864,-1.1888384405100136,-1.6352503002590397,-1.7298872332838446,0.9940213632655297,-1.053996352753438,0.28300677174213423,-0.5264567746755934,-0.992500909822264,0.7721342818798508,-0.7094025980773316,0.3307040886531761,-1.5914319839716653,-0.6591348285983778,-1.0123972537975783,1.0574873790427504,1.1943683527440618,-0.3539715335489931,-0.4165836537298619,-0.12072956407713581,0.892469882975012,0.8002715568339666,2.877744963594964,0.3025943790674151,-1.8193078556292293,0.22990368111221837,1.749521878196667,-0.24297060449796865,0.2268069425779358,-0.025561875094057305,-0.7280906530184511,0.1407890984719988,1.3586887427927707,-1.5077060453071751,0.5706354148622353,0.01004967572150835,-0.5658168493631935,2.4623951332282306,-0.4490021495164944,0.3738023445269366,-0.5611440747262307,-1.2798455050912092,0.13071802466914562,-0.1411802723160792,1.6608181600510246,1.2995464301610238,1.5296697268916566,0.7935671483148988,0.32822288521294496,0.292164719207846,-0.9674988042309239,-1.0967703453998485,1.2455410274074554,0.31943278625668603,1.0888628097985884,0.28231316527573225,0.46723236400997326,0.5895755263456346,-0.2844779922092623,0.8438100742076516,-0.33373891088941593,-0.1134948681874527,0.1710658506544142,-1.352459562716003,-0.18752539107219682,-0.6874779622411658,-2.3440486941369967,-1.1797279298328365,0.9670450483634246,2.049108134282418,-0.06654869019771442,-1.7850598964372282,0.6521926586170729,-0.2954306808423235,-0.48896105844056226,0.41076788036301143,1.9820203985473506,-0.7178621064076929,0.311441476084374,1.205924302798766,-0.07300816497594356,0.3928300535888173,1.283125852045924,0.41508312315456125,-1.0689259853443167,-0.3739718123630372,0.4279260235875659,-0.8237523784512125,-0.03865413031186846,0.8655326899167818,1.298257968267283,-0.26376913742865243,1.577843910527916,-0.574196558096951,-0.32703528459186954,-1.0233854711003336,0.8837431110275072,1.573365988018749,-1.1540165769121244,-2.176898461555264,-0.061309179027005486,0.21659597560002503,1.2814417895365802,-0.491927481285249,-1.0432217268608914,-1.3028641725193537,-1.4680496965503083,2.4820021570806183,0.4176565962843171,-1.6960182257374494,-0.8696321391843957,-0.23673045459194073,-2.1044571068991016,1.5459887897477356,4.846226626284711,0.2539860957257806,0.4026035522207702,-1.9860197529893773,0.8343409967513663,0.18223361301709887,0.015715906943410803,0.13411192413499154,1.0133392745829488,0.9499802895780656,0.22989596128426604,-0.6122280093881544,0.7918529556063428,0.5129043936155203,0.009074581363666248,-0.318266444656,0.15353310154134256,0.19537779773138594,-1.1139803676738573,-0.7139018576078805,-0.9044925188749066,1.763898945879082,5.845958900652703,1.586397780059428,-1.288415928539089,1.4910247349103558,-0.6210269055592391,0.0473851468579854,1.3796142330173486,2.006659728664713,0.609451944173631,-0.513286149298325,-1.4557150812392392,0.21836997064532487,-0.18703316479977666,-0.44321973224220396,0.8486244260550656,0.00420552734688919,0.3849644457670602,-2.903231090546905,-1.6831615665788215,0.6943091269518853,-0.04535705952207397,-0.3231920668509721,0.7895583850981726,-0.38706569191034534,-0.48761159127271114,-0.54206980646723,1.065495247943272,1.7756890372234866,0.29104203318514693,-0.32910916639821597,-0.5915060629840441,-0.5882265820718017,0.23106538789167727,0.600668529821243,-0.9856208507434793,1.467862484634003,1.8627241146496056,-0.5391390635387023,0.10183326112153533,-0.13889389846481975,0.7597024851946592,-0.14482086418309942,-0.3609243458234136,-0.1581945626741842,0.7128753269889865,-3.3778259302349882,-1.3526612755004528,-3.5848208094144773,-0.5356658291763469,0.3486918253583076,1.0929137926741543,1.011850576831621,0.29757246948473426,0.8338709680578994,0.8028684740099069,1.4929258153897087,-0.32127881391018287,0.533817537418013,-0.5925836881347833,-0.2989364823291001,0.5481604477442149,0.810450548783436,0.40343443974805493,-0.330247826308263,0.054790071908601246,2.401068596261256,1.7050675245057003,-0.38718910786727445,0.20668278187829106,-0.5799217140431822,-1.3753559711621208,0.4844994213139885,-2.236366195658417,-0.29513961432244534,-1.1657020905488358,1.8798478535186685,0.23436583929115934,1.113614300495269,-1.1336402402083026,-0.9809336710250954,-0.2496946058174515,-0.04223554053336218,0.24535361920961113,-0.13567272408757633,-0.7433407306309042,0.23473030917386445,-0.8326124291795522,-0.5333392762474364,1.1733568560276246,-0.12064589104149669,-0.6371994185412554,-0.020934480867479992,0.09364451738238862,-1.3660835977560344,0.8777980186854301,0.4851382679883305,-0.09986011014270346,2.0368370162881,1.4209902223734325,-1.399659921285113,0.46648736042589606,-0.9133509268404265,-0.25695627941997246,-0.8977651912621056,-0.4454786671113824,-2.15368540056147,-1.2198223362363558,0.7923690870117001,1.4575072146707004,-0.9226178086407234,0.3680708174763571,-1.4915810710760493,0.4161834903639302,-1.147151751061717,-0.7255116722923463,-0.039562448959450935,2.1650226915650266,-0.25769641244818764,-1.2076838860508377,-0.3281997342486696,2.03125889231709,0.4149625736806244,0.7482982030527535,-1.5217219118013892,0.26187385166605165,0.5747076481030348,2.2605246891457216,-0.8309333023322554,1.2068251630878186,0.9686307505962656,1.7768078815817294,1.063272991174005,-0.020332313223118462,0.7359242261438667,-0.12993159190859524,1.3326189968570958,0.12641700063136463,-0.04972519202894052,0.6591339635319124,0.3669065516292426,1.3965341585457791,-0.014141335723352534,-0.3367053357742568,-1.102753819119701,0.9411948045346284,-0.6903212430740707,1.313808327081449,-0.16791005945000564,-0.2661416658297104,0.19515049421063732,1.9141178710590525,-1.3020568946492228,1.6697304937990634,0.2677140663743295,0.2107898450489902,3.084920627605233,-0.0031279860020379914,-1.663823651426438,0.9964938725387057,0.3901200253219044,-0.4162952953904069,-1.7265690220464387,0.1737328641801484,1.4847108371754945,-0.005040331335480818,-1.0378514066476234,1.6152730444626942,-0.9080311738658207,1.2577932983545619,-0.05452776390553482,1.649997006133905,-1.1976686596910047,-1.3170027367716333,-1.1397953747890843,1.5796724946742766,0.7565203902145626,0.48172518991322666,1.0280502840370134,0.0533774952950529,0.8602683095415995,1.3276901172158568,1.6213616501474288,1.2123315045981182,-1.8896229597202914,-0.6287777764025034,-0.3642697085409293,-0.2815907334980659,-0.5576248856139828,0.0699788419378479,-1.3820774019841404,-2.3028292979648377,0.06651435211605079,-1.3061728078321282,-0.8504876800181662,2.7560768320398608,-0.7281932791876938,0.5537202583491095,-1.6829432887120133,-1.272293620361664,-0.9641921414274924,-0.8190837336948104,-0.06275688752405037,-2.2831707551688245,-0.767410977596974,0.3699713957644792,-0.14208522789907904,-0.9058291180232194,2.3579761121431417,-0.810405674151283,0.718920207975327,-0.6842191450333381,1.3267096102778457,-1.7766748897768154,0.6189582373525638,0.4223748129159643,-1.2032314784270828,2.9159011458736437,-1.2532422828494267,1.3187072953257848,-0.1502052411641843,-0.7669880795737297,1.2321417683686813,0.04218713298234364,0.08350440581776439,-1.299900595876935,-0.5039204829812379,1.1166033040634071,-0.34466291856136105,-0.008791321301809065,-0.10051044030710363,-2.680938408886671,1.9784098833154018,-0.7727551691398338,-0.789484360621407,1.781605394043497,0.8706720072696806,0.10603319376578835,1.364267338862154,1.018204853724717,1.3969484241848598,0.4436221590646577,0.2543914015415868,0.374560628873375,-0.43131470235971925,2.0309000905858596,-1.5568016973263235,-0.25573277353458557,0.12013808512222006,-0.3751874361163683,-1.1930556167511248,0.6857478145140283,1.688768810741796,-1.218964614850783,1.9399358617184996,-1.198316383451253,0.384225126029199,0.7828319103165624,-1.8149972748226026,0.22537959675090713,-0.49135001498832853,-0.1610371312566128,2.016605484965611,-0.482569936005472,1.1707149347824617,-1.9047945887976778,0.1671272813569301,-0.049778451781884864,-1.280950745140682,-0.09475274588059893,1.3444890570139765,1.1898262156961144,0.705715754408445,0.7411698306700785,0.9414833150338366,0.8323034569882841,-1.4566478372753895,-0.1378792262895547,-0.6523245029426539,-2.0503881440742027,-1.6203164385539,-0.13748719139575544,1.2306121052148498,-0.5085955495365169,-0.02287461600498296,-0.3881279546559898,0.116030962400557,-0.6137639869815428,0.05376154328911696,-1.2763832429582083,-1.5317964754117204,-0.7206990019145875,0.0884573618662688,1.5492845660121466,1.3834536636750971,-0.36147146018849824,0.2519901128959786,-1.3710894520478731,1.4258974326035863,0.18633675003676903,-2.7584545813506542,0.24533928640264518,0.5194152489002253,-0.7142945535514154,0.5223185435116078,-0.7747242426288602,-0.7638051615555568,-0.6114836786453507,-0.7571313866807956,0.4117217299460235,0.8073819476316803,-0.5634136964917325,-1.0058953101212607,1.3016681520653837,0.5698360976942778,0.04506605294124945,1.3732513346848876,-0.6698925994524463,-1.9641586819664443,0.9853319793276354,-0.36945866550384737,0.7795258179170027,0.5030350565121385,-0.8956353866514327,0.08585109331165089,-0.3543126394385531,-0.7617605011642021,-0.3427357449906289,-3.3451181176010305,-1.548348062814157,0.8072162939795648,-1.3277522467123093,-1.0037148172253574,-0.4048569222664096,-0.4790999549779343,-0.9311055186084314,-1.1549758911852768,0.18939904399512397,0.5554905222107682,0.3171304361051923,-0.18221744879061366,-0.6473124470205387,-0.03697336174810776,-1.609592670480831,-0.6341020795056207,0.5583168183424401,0.7500042440048706,-0.9280617699123882,0.5623188351358767,0.05096379460488684,0.14727148083815628,0.3975429500029581,-2.1889702795046553,-0.8677324144705375,-2.211707351310865,-0.5819250400299907,-0.7890704887933802,0.5065682183131826,0.8922760071786888,1.2729533283804046,0.20981911492071678,-0.3957155955787016,0.8961793560003026,0.12154835450994884,-0.5665350938375432,0.47254609813149334,0.4072564121167699,-1.3621446800407495,-1.121088385218226,0.12164303951120312,1.153025173421483,-0.952862004622139,0.018380241138160797,3.379626417944831,0.42370733109758985,-1.0347465091655212,0.2176923170370565,-0.06994614239194862],\"yaxis\":\"y\",\"type\":\"scatter\"}],                        {\"template\":{\"data\":{\"barpolar\":[{\"marker\":{\"line\":{\"color\":\"white\",\"width\":0.5},\"pattern\":{\"fillmode\":\"overlay\",\"size\":10,\"solidity\":0.2}},\"type\":\"barpolar\"}],\"bar\":[{\"error_x\":{\"color\":\"#2a3f5f\"},\"error_y\":{\"color\":\"#2a3f5f\"},\"marker\":{\"line\":{\"color\":\"white\",\"width\":0.5},\"pattern\":{\"fillmode\":\"overlay\",\"size\":10,\"solidity\":0.2}},\"type\":\"bar\"}],\"carpet\":[{\"aaxis\":{\"endlinecolor\":\"#2a3f5f\",\"gridcolor\":\"#C8D4E3\",\"linecolor\":\"#C8D4E3\",\"minorgridcolor\":\"#C8D4E3\",\"startlinecolor\":\"#2a3f5f\"},\"baxis\":{\"endlinecolor\":\"#2a3f5f\",\"gridcolor\":\"#C8D4E3\",\"linecolor\":\"#C8D4E3\",\"minorgridcolor\":\"#C8D4E3\",\"startlinecolor\":\"#2a3f5f\"},\"type\":\"carpet\"}],\"choropleth\":[{\"colorbar\":{\"outlinewidth\":0,\"ticks\":\"\"},\"type\":\"choropleth\"}],\"contourcarpet\":[{\"colorbar\":{\"outlinewidth\":0,\"ticks\":\"\"},\"type\":\"contourcarpet\"}],\"contour\":[{\"colorbar\":{\"outlinewidth\":0,\"ticks\":\"\"},\"colorscale\":[[0.0,\"#0d0887\"],[0.1111111111111111,\"#46039f\"],[0.2222222222222222,\"#7201a8\"],[0.3333333333333333,\"#9c179e\"],[0.4444444444444444,\"#bd3786\"],[0.5555555555555556,\"#d8576b\"],[0.6666666666666666,\"#ed7953\"],[0.7777777777777778,\"#fb9f3a\"],[0.8888888888888888,\"#fdca26\"],[1.0,\"#f0f921\"]],\"type\":\"contour\"}],\"heatmapgl\":[{\"colorbar\":{\"outlinewidth\":0,\"ticks\":\"\"},\"colorscale\":[[0.0,\"#0d0887\"],[0.1111111111111111,\"#46039f\"],[0.2222222222222222,\"#7201a8\"],[0.3333333333333333,\"#9c179e\"],[0.4444444444444444,\"#bd3786\"],[0.5555555555555556,\"#d8576b\"],[0.6666666666666666,\"#ed7953\"],[0.7777777777777778,\"#fb9f3a\"],[0.8888888888888888,\"#fdca26\"],[1.0,\"#f0f921\"]],\"type\":\"heatmapgl\"}],\"heatmap\":[{\"colorbar\":{\"outlinewidth\":0,\"ticks\":\"\"},\"colorscale\":[[0.0,\"#0d0887\"],[0.1111111111111111,\"#46039f\"],[0.2222222222222222,\"#7201a8\"],[0.3333333333333333,\"#9c179e\"],[0.4444444444444444,\"#bd3786\"],[0.5555555555555556,\"#d8576b\"],[0.6666666666666666,\"#ed7953\"],[0.7777777777777778,\"#fb9f3a\"],[0.8888888888888888,\"#fdca26\"],[1.0,\"#f0f921\"]],\"type\":\"heatmap\"}],\"histogram2dcontour\":[{\"colorbar\":{\"outlinewidth\":0,\"ticks\":\"\"},\"colorscale\":[[0.0,\"#0d0887\"],[0.1111111111111111,\"#46039f\"],[0.2222222222222222,\"#7201a8\"],[0.3333333333333333,\"#9c179e\"],[0.4444444444444444,\"#bd3786\"],[0.5555555555555556,\"#d8576b\"],[0.6666666666666666,\"#ed7953\"],[0.7777777777777778,\"#fb9f3a\"],[0.8888888888888888,\"#fdca26\"],[1.0,\"#f0f921\"]],\"type\":\"histogram2dcontour\"}],\"histogram2d\":[{\"colorbar\":{\"outlinewidth\":0,\"ticks\":\"\"},\"colorscale\":[[0.0,\"#0d0887\"],[0.1111111111111111,\"#46039f\"],[0.2222222222222222,\"#7201a8\"],[0.3333333333333333,\"#9c179e\"],[0.4444444444444444,\"#bd3786\"],[0.5555555555555556,\"#d8576b\"],[0.6666666666666666,\"#ed7953\"],[0.7777777777777778,\"#fb9f3a\"],[0.8888888888888888,\"#fdca26\"],[1.0,\"#f0f921\"]],\"type\":\"histogram2d\"}],\"histogram\":[{\"marker\":{\"pattern\":{\"fillmode\":\"overlay\",\"size\":10,\"solidity\":0.2},\"line\":{\"width\":1}},\"type\":\"histogram\"}],\"mesh3d\":[{\"colorbar\":{\"outlinewidth\":0,\"ticks\":\"\"},\"type\":\"mesh3d\"}],\"parcoords\":[{\"line\":{\"colorbar\":{\"outlinewidth\":0,\"ticks\":\"\"}},\"type\":\"parcoords\"}],\"pie\":[{\"automargin\":true,\"type\":\"pie\"}],\"scatter3d\":[{\"line\":{\"colorbar\":{\"outlinewidth\":0,\"ticks\":\"\"}},\"marker\":{\"colorbar\":{\"outlinewidth\":0,\"ticks\":\"\"},\"opacity\":0.8},\"type\":\"scatter3d\"}],\"scattercarpet\":[{\"marker\":{\"colorbar\":{\"outlinewidth\":0,\"ticks\":\"\"}},\"type\":\"scattercarpet\"}],\"scattergeo\":[{\"marker\":{\"colorbar\":{\"outlinewidth\":0,\"ticks\":\"\"}},\"type\":\"scattergeo\"}],\"scattergl\":[{\"marker\":{\"colorbar\":{\"outlinewidth\":0,\"ticks\":\"\"}},\"type\":\"scattergl\"}],\"scattermapbox\":[{\"marker\":{\"colorbar\":{\"outlinewidth\":0,\"ticks\":\"\"}},\"type\":\"scattermapbox\"}],\"scatterpolargl\":[{\"marker\":{\"colorbar\":{\"outlinewidth\":0,\"ticks\":\"\"}},\"type\":\"scatterpolargl\"}],\"scatterpolar\":[{\"marker\":{\"colorbar\":{\"outlinewidth\":0,\"ticks\":\"\"}},\"type\":\"scatterpolar\"}],\"scatter\":[{\"marker\":{\"colorbar\":{\"outlinewidth\":0,\"ticks\":\"\"},\"opacity\":0.8},\"type\":\"scatter\"}],\"scatterternary\":[{\"marker\":{\"colorbar\":{\"outlinewidth\":0,\"ticks\":\"\"}},\"type\":\"scatterternary\"}],\"surface\":[{\"colorbar\":{\"outlinewidth\":0,\"ticks\":\"\"},\"colorscale\":[[0.0,\"#0d0887\"],[0.1111111111111111,\"#46039f\"],[0.2222222222222222,\"#7201a8\"],[0.3333333333333333,\"#9c179e\"],[0.4444444444444444,\"#bd3786\"],[0.5555555555555556,\"#d8576b\"],[0.6666666666666666,\"#ed7953\"],[0.7777777777777778,\"#fb9f3a\"],[0.8888888888888888,\"#fdca26\"],[1.0,\"#f0f921\"]],\"type\":\"surface\"}],\"table\":[{\"cells\":{\"fill\":{\"color\":\"#EBF0F8\"},\"line\":{\"color\":\"white\"}},\"header\":{\"fill\":{\"color\":\"#C8D4E3\"},\"line\":{\"color\":\"white\"}},\"type\":\"table\"}],\"box\":[{\"boxpoints\":\"outliers\",\"notched\":false,\"type\":\"box\"}]},\"layout\":{\"annotationdefaults\":{\"arrowcolor\":\"#2a3f5f\",\"arrowhead\":0,\"arrowwidth\":1},\"autotypenumbers\":\"strict\",\"coloraxis\":{\"colorbar\":{\"outlinewidth\":0,\"ticks\":\"\"}},\"colorscale\":{\"diverging\":[[0,\"#8e0152\"],[0.1,\"#c51b7d\"],[0.2,\"#de77ae\"],[0.3,\"#f1b6da\"],[0.4,\"#fde0ef\"],[0.5,\"#f7f7f7\"],[0.6,\"#e6f5d0\"],[0.7,\"#b8e186\"],[0.8,\"#7fbc41\"],[0.9,\"#4d9221\"],[1,\"#276419\"]],\"sequential\":[[0.0,\"#0d0887\"],[0.1111111111111111,\"#46039f\"],[0.2222222222222222,\"#7201a8\"],[0.3333333333333333,\"#9c179e\"],[0.4444444444444444,\"#bd3786\"],[0.5555555555555556,\"#d8576b\"],[0.6666666666666666,\"#ed7953\"],[0.7777777777777778,\"#fb9f3a\"],[0.8888888888888888,\"#fdca26\"],[1.0,\"#f0f921\"]],\"sequentialminus\":[[0.0,\"#0d0887\"],[0.1111111111111111,\"#46039f\"],[0.2222222222222222,\"#7201a8\"],[0.3333333333333333,\"#9c179e\"],[0.4444444444444444,\"#bd3786\"],[0.5555555555555556,\"#d8576b\"],[0.6666666666666666,\"#ed7953\"],[0.7777777777777778,\"#fb9f3a\"],[0.8888888888888888,\"#fdca26\"],[1.0,\"#f0f921\"]]},\"colorway\":[\"#636efa\",\"#EF553B\",\"#00cc96\",\"#ab63fa\",\"#FFA15A\",\"#19d3f3\",\"#FF6692\",\"#B6E880\",\"#FF97FF\",\"#FECB52\"],\"font\":{\"color\":\"#2a3f5f\"},\"geo\":{\"bgcolor\":\"white\",\"lakecolor\":\"white\",\"landcolor\":\"white\",\"showlakes\":true,\"showland\":true,\"subunitcolor\":\"#C8D4E3\"},\"hoverlabel\":{\"align\":\"left\"},\"hovermode\":\"closest\",\"mapbox\":{\"style\":\"light\"},\"paper_bgcolor\":\"white\",\"plot_bgcolor\":\"white\",\"polar\":{\"angularaxis\":{\"gridcolor\":\"#EBF0F8\",\"linecolor\":\"#EBF0F8\",\"ticks\":\"\"},\"bgcolor\":\"white\",\"radialaxis\":{\"gridcolor\":\"#EBF0F8\",\"linecolor\":\"#EBF0F8\",\"ticks\":\"\"}},\"scene\":{\"xaxis\":{\"backgroundcolor\":\"white\",\"gridcolor\":\"#DFE8F3\",\"gridwidth\":2,\"linecolor\":\"#EBF0F8\",\"showbackground\":true,\"ticks\":\"\",\"zerolinecolor\":\"#EBF0F8\"},\"yaxis\":{\"backgroundcolor\":\"white\",\"gridcolor\":\"#DFE8F3\",\"gridwidth\":2,\"linecolor\":\"#EBF0F8\",\"showbackground\":true,\"ticks\":\"\",\"zerolinecolor\":\"#EBF0F8\"},\"zaxis\":{\"backgroundcolor\":\"white\",\"gridcolor\":\"#DFE8F3\",\"gridwidth\":2,\"linecolor\":\"#EBF0F8\",\"showbackground\":true,\"ticks\":\"\",\"zerolinecolor\":\"#EBF0F8\"},\"camera\":{\"eye\":{\"x\":1.5,\"y\":1.5,\"z\":0.1}}},\"shapedefaults\":{\"line\":{\"color\":\"#2a3f5f\"}},\"ternary\":{\"aaxis\":{\"gridcolor\":\"#DFE8F3\",\"linecolor\":\"#A2B1C6\",\"ticks\":\"\"},\"baxis\":{\"gridcolor\":\"#DFE8F3\",\"linecolor\":\"#A2B1C6\",\"ticks\":\"\"},\"bgcolor\":\"white\",\"caxis\":{\"gridcolor\":\"#DFE8F3\",\"linecolor\":\"#A2B1C6\",\"ticks\":\"\"}},\"title\":{\"x\":0.5},\"xaxis\":{\"automargin\":true,\"gridcolor\":\"#EBF0F8\",\"linecolor\":\"#EBF0F8\",\"ticks\":\"\",\"title\":{\"standoff\":15},\"zerolinecolor\":\"#EBF0F8\",\"zerolinewidth\":2,\"linewidth\":2,\"showline\":true},\"yaxis\":{\"automargin\":true,\"gridcolor\":\"#EBF0F8\",\"linecolor\":\"#EBF0F8\",\"ticks\":\"\",\"title\":{\"standoff\":15},\"zerolinecolor\":\"#EBF0F8\",\"zerolinewidth\":2,\"linewidth\":2,\"showline\":true},\"height\":400,\"margin\":{\"b\":2,\"l\":2,\"r\":2,\"t\":30}}},\"xaxis\":{\"anchor\":\"y\",\"domain\":[0.0,1.0],\"title\":{\"text\":\"x\"}},\"yaxis\":{\"anchor\":\"x\",\"domain\":[0.0,1.0],\"title\":{\"text\":\"y\"}},\"coloraxis\":{\"colorbar\":{\"title\":{\"text\":\"cluster\"}},\"colorscale\":[[0.0,\"#0d0887\"],[0.1111111111111111,\"#46039f\"],[0.2222222222222222,\"#7201a8\"],[0.3333333333333333,\"#9c179e\"],[0.4444444444444444,\"#bd3786\"],[0.5555555555555556,\"#d8576b\"],[0.6666666666666666,\"#ed7953\"],[0.7777777777777778,\"#fb9f3a\"],[0.8888888888888888,\"#fdca26\"],[1.0,\"#f0f921\"]]},\"legend\":{\"tracegroupgap\":0}},                        {\"responsive\": true}                    ).then(function(){\n",
              "                            \n",
              "var gd = document.getElementById('568db518-b191-4edd-a79c-9e22fe8428d6');\n",
              "var x = new MutationObserver(function (mutations, observer) {{\n",
              "        var display = window.getComputedStyle(gd).display;\n",
              "        if (!display || display === 'none') {{\n",
              "            console.log([gd, 'removed!']);\n",
              "            Plotly.purge(gd);\n",
              "            observer.disconnect();\n",
              "        }}\n",
              "}});\n",
              "\n",
              "// Listen for the removal of the full notebook cells\n",
              "var notebookContainer = gd.closest('#notebook-container');\n",
              "if (notebookContainer) {{\n",
              "    x.observe(notebookContainer, {childList: true});\n",
              "}}\n",
              "\n",
              "// Listen for the clearing of the current output cell\n",
              "var outputEl = gd.closest('.output');\n",
              "if (outputEl) {{\n",
              "    x.observe(outputEl, {childList: true});\n",
              "}}\n",
              "\n",
              "                        })                };                            </script>        </div>\n",
              "</body>\n",
              "</html>"
            ]
          },
          "metadata": {}
        }
      ]
    },
    {
      "cell_type": "markdown",
      "source": [
        "## TRAINING"
      ],
      "metadata": {
        "id": "tkAMKdZCyvKh"
      }
    },
    {
      "cell_type": "markdown",
      "source": [
        "Our First step is to separate features from label, and then create a proper Train and Test dataframe. As we can see later, we get fair enough results with just a Logistic Regression, being this our main model. All the validation ratios as Accuracy, Precision, and Recall are over 0,90 which is a good sign of a proper model.\n",
        " On the other hand, the confusion matrix shows a very intense diagonal color, indicating that the test values are properly classified."
      ],
      "metadata": {
        "id": "MgzHwuR9RhM_"
      }
    },
    {
      "cell_type": "code",
      "source": [
        "X, y = df[['duration_s',\t'danceability',\t'energy',\t'loudness',\t'mode',\t'acousticness',\t'instrumentalness',\t'speechiness',\t'liveness',\t'valence','tempo']].values, df['label'].values\n",
        "\n",
        "from sklearn.model_selection import train_test_split\n",
        "X_train, X_test, y_train, y_test = train_test_split(X, y, test_size=0.30, random_state=1)\n",
        "\n",
        "print ('Training Set: %d rows\\nTest Set: %d rows' % (X_train.shape[0], X_test.shape[0]))"
      ],
      "metadata": {
        "colab": {
          "base_uri": "https://localhost:8080/"
        },
        "id": "Iqa-1fUjy21n",
        "outputId": "a515de98-eb33-431c-e9cd-e4f417bd399d"
      },
      "execution_count": null,
      "outputs": [
        {
          "output_type": "stream",
          "name": "stdout",
          "text": [
            "Training Set: 562 rows\n",
            "Test Set: 242 rows\n"
          ]
        }
      ]
    },
    {
      "cell_type": "code",
      "source": [
        "#Logistic Model\n",
        "\n",
        "\n",
        "from sklearn.linear_model import LogisticRegression\n",
        "from sklearn.preprocessing import StandardScaler\n",
        "from sklearn.compose import ColumnTransformer\n",
        "from sklearn.pipeline import Pipeline\n",
        "from sklearn.svm import SVC\n",
        "\n",
        "# Define preprocessing for numeric columns (scale them)\n",
        "feature_columns = [0,1,2,3,4,5,6,7,8,9,10]\n",
        "feature_transformer = Pipeline(steps=[\n",
        "    ('scaler', StandardScaler())\n",
        "    ])\n",
        "\n",
        "# Create preprocessing steps\n",
        "preprocessor = ColumnTransformer(\n",
        "    transformers=[\n",
        "        ('preprocess', feature_transformer, feature_columns)])\n",
        "\n",
        "# Create training pipeline\n",
        "pipeline = Pipeline(steps=[('preprocessor', preprocessor),\n",
        "                           ('regressor', LogisticRegression())])\n",
        "\n",
        "# fit the pipeline to train a linear regression model on the training set\n",
        "multi_model = pipeline.fit(X_train, y_train)\n",
        "print (multi_model)"
      ],
      "metadata": {
        "colab": {
          "base_uri": "https://localhost:8080/"
        },
        "id": "QB3YX2-K2WqF",
        "outputId": "c9486ac0-7beb-4343-ce39-11fbf17f5564"
      },
      "execution_count": null,
      "outputs": [
        {
          "output_type": "stream",
          "name": "stdout",
          "text": [
            "Pipeline(steps=[('preprocessor',\n",
            "                 ColumnTransformer(transformers=[('preprocess',\n",
            "                                                  Pipeline(steps=[('scaler',\n",
            "                                                                   StandardScaler())]),\n",
            "                                                  [0, 1, 2, 3, 4, 5, 6, 7, 8, 9,\n",
            "                                                   10])])),\n",
            "                ('regressor', LogisticRegression())])\n"
          ]
        }
      ]
    },
    {
      "cell_type": "code",
      "source": [
        "#LOGISTIC with preprocessing and predictions\n",
        "\n",
        "# Get predictions from test data\n",
        "predictions = multi_model.predict(X_test)\n",
        "predictions_prob = multi_model.predict_proba(X_test)\n",
        "\n",
        "# Overall metrics\n",
        "from sklearn.metrics import accuracy_score, precision_score, recall_score, roc_curve, roc_auc_score\n",
        "\n",
        "%matplotlib inline\n",
        "\n",
        "\n",
        "print(\"Overall Accuracy:\",accuracy_score(y_test, predictions))\n",
        "print(\"Overall Precision:\",precision_score(y_test, predictions, average='macro'))\n",
        "print(\"Overall Recall:\",recall_score(y_test, predictions, average='macro'))\n",
        "print('Average AUC:', roc_auc_score(y_test,predictions_prob[:,1]))\n",
        "\n",
        "#Confussion Matrix - Heat Map\n",
        "import matplotlib.pyplot as plt\n",
        "from sklearn.metrics import confusion_matrix\n",
        "\n",
        "mcm = confusion_matrix(y_test, predictions)\n",
        "plt.figure(figsize=(10,10)) \n",
        "plt.imshow(mcm, interpolation=\"nearest\", cmap=plt.cm.Blues)\n",
        "plt.colorbar()\n",
        "plt.title(\"Confussion Matrix with Prepros\", fontsize = 20)\n",
        "plt.xlabel(\"Prediction of df_SI / df_NO\")\n",
        "plt.ylabel(\"Real Values of df_SI / df_NO\")\n",
        "\n",
        "plt.show()"
      ],
      "metadata": {
        "colab": {
          "base_uri": "https://localhost:8080/",
          "height": 643
        },
        "id": "ImpUzvp73IbY",
        "outputId": "8b385829-6a99-4299-c041-694d86fd0cd7"
      },
      "execution_count": null,
      "outputs": [
        {
          "output_type": "stream",
          "name": "stdout",
          "text": [
            "Overall Accuracy: 0.9586776859504132\n",
            "Overall Precision: 0.9590450710022638\n",
            "Overall Recall: 0.9581650119821978\n",
            "Average AUC: 0.9941116056145156\n"
          ]
        },
        {
          "output_type": "display_data",
          "data": {
            "text/plain": [
              "<Figure size 720x720 with 2 Axes>"
            ],
            "image/png": "[encoded data removed]"
          },
          "metadata": {
            "needs_background": "light"
          }
        }
      ]
    },
    {
      "cell_type": "code",
      "source": [
        "#Export model\n",
        "import joblib\n",
        "\n",
        "filename = './spotify_recommender.pkl'\n",
        "joblib.dump(multi_model, filename)"
      ],
      "metadata": {
        "colab": {
          "base_uri": "https://localhost:8080/"
        },
        "id": "LUmAekR1IdtD",
        "outputId": "b2cc52df-6f13-40bc-f216-45ee8e933e81"
      },
      "execution_count": null,
      "outputs": [
        {
          "output_type": "execute_result",
          "data": {
            "text/plain": [
              "['./spotify_recommender.pkl']"
            ]
          },
          "metadata": {},
          "execution_count": 47
        }
      ]
    },
    {
      "cell_type": "markdown",
      "source": [
        "## PREDICTIONS"
      ],
      "metadata": {
        "id": "pYmK0Nxlsl8n"
      }
    },
    {
      "cell_type": "markdown",
      "source": [
        "Finally, it is time to test our model, so we select a Simple Minds' 1985 song, \"Alive and Kicking\", which is one my favourite and is not on the playlist and as a song that I do not like, we choose \"Dile\" by Don Omar. \n"
      ],
      "metadata": {
        "id": "ULdCLy_0sl8o"
      }
    },
    {
      "cell_type": "code",
      "source": [
        "artist= 'Simple Minds'\n",
        "track= 'Alive and Kicking'\n",
        "\n",
        "track_prueba = sp.search(q='artist:' + artist + ' track:' + track, type='track')\n",
        "track_prueba_URI = track_prueba['tracks']['items'][0]['id']\n",
        "track_prueba_duration = track_prueba['tracks']['items'][0]['duration_ms']\n",
        "track_prueba_audio_features=pd.DataFrame.from_dict(sp.audio_features(track_prueba_URI))\n",
        "track_prueba_df=track_prueba_audio_features.loc[[0],['danceability',\t'energy',\t'loudness',\t'mode',\t'acousticness',\t'instrumentalness',\t'speechiness',\t'liveness',\t'valence','tempo']]\n",
        "track_prueba_df.insert(0,'duration_s', track_prueba_duration/1000)\n",
        "track_prueba_df['loudness']=track_prueba_df['loudness']*-1\n",
        "track_prueba_df"
      ],
      "metadata": {
        "colab": {
          "base_uri": "https://localhost:8080/",
          "height": 145
        },
        "outputId": "d5b21143-7acf-477d-a81d-f4e7ff4f42a8",
        "id": "BcUa881wsl8o"
      },
      "execution_count": null,
      "outputs": [
        {
          "output_type": "execute_result",
          "data": {
            "text/plain": [
              "   duration_s  danceability  energy  loudness  mode  acousticness  \\\n",
              "0     289.453         0.572   0.913      4.26     1        0.0753   \n",
              "\n",
              "   instrumentalness  speechiness  liveness  valence    tempo  \n",
              "0          0.000015       0.0362     0.128    0.561  103.265  "
            ],
            "text/html": [
              "\n",
              "  <div id=\"df-fe1e9e63-e559-4650-9fcc-e83958f5e374\">\n",
              "    <div class=\"colab-df-container\">\n",
              "      <div>\n",
              "<style scoped>\n",
              "    .dataframe tbody tr th:only-of-type {\n",
              "        vertical-align: middle;\n",
              "    }\n",
              "\n",
              "    .dataframe tbody tr th {\n",
              "        vertical-align: top;\n",
              "    }\n",
              "\n",
              "    .dataframe thead th {\n",
              "        text-align: right;\n",
              "    }\n",
              "</style>\n",
              "<table border=\"1\" class=\"dataframe\">\n",
              "  <thead>\n",
              "    <tr style=\"text-align: right;\">\n",
              "      <th></th>\n",
              "      <th>duration_s</th>\n",
              "      <th>danceability</th>\n",
              "      <th>energy</th>\n",
              "      <th>loudness</th>\n",
              "      <th>mode</th>\n",
              "      <th>acousticness</th>\n",
              "      <th>instrumentalness</th>\n",
              "      <th>speechiness</th>\n",
              "      <th>liveness</th>\n",
              "      <th>valence</th>\n",
              "      <th>tempo</th>\n",
              "    </tr>\n",
              "  </thead>\n",
              "  <tbody>\n",
              "    <tr>\n",
              "      <th>0</th>\n",
              "      <td>289.453</td>\n",
              "      <td>0.572</td>\n",
              "      <td>0.913</td>\n",
              "      <td>4.26</td>\n",
              "      <td>1</td>\n",
              "      <td>0.0753</td>\n",
              "      <td>0.000015</td>\n",
              "      <td>0.0362</td>\n",
              "      <td>0.128</td>\n",
              "      <td>0.561</td>\n",
              "      <td>103.265</td>\n",
              "    </tr>\n",
              "  </tbody>\n",
              "</table>\n",
              "</div>\n",
              "      <button class=\"colab-df-convert\" onclick=\"convertToInteractive('df-fe1e9e63-e559-4650-9fcc-e83958f5e374')\"\n",
              "              title=\"Convert this dataframe to an interactive table.\"\n",
              "              style=\"display:none;\">\n",
              "        \n",
              "  <svg xmlns=\"http://www.w3.org/2000/svg\" height=\"24px\"viewBox=\"0 0 24 24\"\n",
              "       width=\"24px\">\n",
              "    <path d=\"M0 0h24v24H0V0z\" fill=\"none\"/>\n",
              "    <path d=\"M18.56 5.44l.94 2.06.94-2.06 2.06-.94-2.06-.94-.94-2.06-.94 2.06-2.06.94zm-11 1L8.5 8.5l.94-2.06 2.06-.94-2.06-.94L8.5 2.5l-.94 2.06-2.06.94zm10 10l.94 2.06.94-2.06 2.06-.94-2.06-.94-.94-2.06-.94 2.06-2.06.94z\"/><path d=\"M17.41 7.96l-1.37-1.37c-.4-.4-.92-.59-1.43-.59-.52 0-1.04.2-1.43.59L10.3 9.45l-7.72 7.72c-.78.78-.78 2.05 0 2.83L4 21.41c.39.39.9.59 1.41.59.51 0 1.02-.2 1.41-.59l7.78-7.78 2.81-2.81c.8-.78.8-2.07 0-2.86zM5.41 20L4 18.59l7.72-7.72 1.47 1.35L5.41 20z\"/>\n",
              "  </svg>\n",
              "      </button>\n",
              "      \n",
              "  <style>\n",
              "    .colab-df-container {\n",
              "      display:flex;\n",
              "      flex-wrap:wrap;\n",
              "      gap: 12px;\n",
              "    }\n",
              "\n",
              "    .colab-df-convert {\n",
              "      background-color: #E8F0FE;\n",
              "      border: none;\n",
              "      border-radius: 50%;\n",
              "      cursor: pointer;\n",
              "      display: none;\n",
              "      fill: #1967D2;\n",
              "      height: 32px;\n",
              "      padding: 0 0 0 0;\n",
              "      width: 32px;\n",
              "    }\n",
              "\n",
              "    .colab-df-convert:hover {\n",
              "      background-color: #E2EBFA;\n",
              "      box-shadow: 0px 1px 2px rgba(60, 64, 67, 0.3), 0px 1px 3px 1px rgba(60, 64, 67, 0.15);\n",
              "      fill: #174EA6;\n",
              "    }\n",
              "\n",
              "    [theme=dark] .colab-df-convert {\n",
              "      background-color: #3B4455;\n",
              "      fill: #D2E3FC;\n",
              "    }\n",
              "\n",
              "    [theme=dark] .colab-df-convert:hover {\n",
              "      background-color: #434B5C;\n",
              "      box-shadow: 0px 1px 3px 1px rgba(0, 0, 0, 0.15);\n",
              "      filter: drop-shadow(0px 1px 2px rgba(0, 0, 0, 0.3));\n",
              "      fill: #FFFFFF;\n",
              "    }\n",
              "  </style>\n",
              "\n",
              "      <script>\n",
              "        const buttonEl =\n",
              "          document.querySelector('#df-fe1e9e63-e559-4650-9fcc-e83958f5e374 button.colab-df-convert');\n",
              "        buttonEl.style.display =\n",
              "          google.colab.kernel.accessAllowed ? 'block' : 'none';\n",
              "\n",
              "        async function convertToInteractive(key) {\n",
              "          const element = document.querySelector('#df-fe1e9e63-e559-4650-9fcc-e83958f5e374');\n",
              "          const dataTable =\n",
              "            await google.colab.kernel.invokeFunction('convertToInteractive',\n",
              "                                                     [key], {});\n",
              "          if (!dataTable) return;\n",
              "\n",
              "          const docLinkHtml = 'Like what you see? Visit the ' +\n",
              "            '<a target=\"_blank\" href=https://colab.research.google.com/notebooks/data_table.ipynb>data table notebook</a>'\n",
              "            + ' to learn more about interactive tables.';\n",
              "          element.innerHTML = '';\n",
              "          dataTable['output_type'] = 'display_data';\n",
              "          await google.colab.output.renderOutput(dataTable, element);\n",
              "          const docLink = document.createElement('div');\n",
              "          docLink.innerHTML = docLinkHtml;\n",
              "          element.appendChild(docLink);\n",
              "        }\n",
              "      </script>\n",
              "    </div>\n",
              "  </div>\n",
              "  "
            ]
          },
          "metadata": {},
          "execution_count": 48
        }
      ]
    },
    {
      "cell_type": "code",
      "source": [
        "# Load the model from the file\n",
        "loaded_model = joblib.load(filename)\n",
        "\n",
        "# Create a numpy array containing a new observation (for example tomorrow's seasonal and weather forecast information)\n",
        "X_new = np.array(track_prueba_df).astype('float64')\n",
        "print ('New sample: {}'.format(list(X_new[0])))\n",
        "\n",
        "# Use the model to predict tomorrow's rentals\n",
        "results = loaded_model.predict(X_new)\n",
        "print('Predictions:')\n",
        "for prediction in results:\n",
        "    print(round(prediction,2))"
      ],
      "metadata": {
        "colab": {
          "base_uri": "https://localhost:8080/"
        },
        "outputId": "db5a1b4b-a9eb-440e-92a0-3a20cb3d3f76",
        "id": "aQnXNqXzsl8o"
      },
      "execution_count": null,
      "outputs": [
        {
          "output_type": "stream",
          "name": "stdout",
          "text": [
            "New sample: [289.453, 0.572, 0.913, 4.26, 1.0, 0.0753, 1.5e-05, 0.0362, 0.128, 0.561, 103.265]\n",
            "Predictions:\n",
            "1\n"
          ]
        }
      ]
    },
    {
      "cell_type": "code",
      "source": [
        "artist= 'Don Omar'\n",
        "track= 'Dile'\n",
        "\n",
        "track_prueba = sp.search(q='artist:' + artist + ' track:' + track, type='track')\n",
        "track_prueba_URI = track_prueba['tracks']['items'][0]['id']\n",
        "track_prueba_duration = track_prueba['tracks']['items'][0]['duration_ms']\n",
        "track_prueba_audio_features=pd.DataFrame.from_dict(sp.audio_features(track_prueba_URI))\n",
        "track_prueba_df=track_prueba_audio_features.loc[[0],['danceability',\t'energy',\t'loudness',\t'mode',\t'acousticness',\t'instrumentalness',\t'speechiness',\t'liveness',\t'valence','tempo']]\n",
        "track_prueba_df.insert(0,'duration_s', track_prueba_duration/1000)\n",
        "track_prueba_df['loudness']=track_prueba_df['loudness']*-1\n",
        "track_prueba_df"
      ],
      "metadata": {
        "colab": {
          "base_uri": "https://localhost:8080/",
          "height": 145
        },
        "id": "Sh6gqyjcX4SA",
        "outputId": "1b6b4928-06ff-4a5b-e265-f64f73e27bee"
      },
      "execution_count": null,
      "outputs": [
        {
          "output_type": "execute_result",
          "data": {
            "text/plain": [
              "   duration_s  danceability  energy  loudness  mode  acousticness  \\\n",
              "0       204.6         0.817   0.714     7.501     0         0.184   \n",
              "\n",
              "   instrumentalness  speechiness  liveness  valence   tempo  \n",
              "0          0.000132        0.141     0.042    0.714  94.001  "
            ],
            "text/html": [
              "\n",
              "  <div id=\"df-34ab8dba-8351-4336-8852-7ece2134bde7\">\n",
              "    <div class=\"colab-df-container\">\n",
              "      <div>\n",
              "<style scoped>\n",
              "    .dataframe tbody tr th:only-of-type {\n",
              "        vertical-align: middle;\n",
              "    }\n",
              "\n",
              "    .dataframe tbody tr th {\n",
              "        vertical-align: top;\n",
              "    }\n",
              "\n",
              "    .dataframe thead th {\n",
              "        text-align: right;\n",
              "    }\n",
              "</style>\n",
              "<table border=\"1\" class=\"dataframe\">\n",
              "  <thead>\n",
              "    <tr style=\"text-align: right;\">\n",
              "      <th></th>\n",
              "      <th>duration_s</th>\n",
              "      <th>danceability</th>\n",
              "      <th>energy</th>\n",
              "      <th>loudness</th>\n",
              "      <th>mode</th>\n",
              "      <th>acousticness</th>\n",
              "      <th>instrumentalness</th>\n",
              "      <th>speechiness</th>\n",
              "      <th>liveness</th>\n",
              "      <th>valence</th>\n",
              "      <th>tempo</th>\n",
              "    </tr>\n",
              "  </thead>\n",
              "  <tbody>\n",
              "    <tr>\n",
              "      <th>0</th>\n",
              "      <td>204.6</td>\n",
              "      <td>0.817</td>\n",
              "      <td>0.714</td>\n",
              "      <td>7.501</td>\n",
              "      <td>0</td>\n",
              "      <td>0.184</td>\n",
              "      <td>0.000132</td>\n",
              "      <td>0.141</td>\n",
              "      <td>0.042</td>\n",
              "      <td>0.714</td>\n",
              "      <td>94.001</td>\n",
              "    </tr>\n",
              "  </tbody>\n",
              "</table>\n",
              "</div>\n",
              "      <button class=\"colab-df-convert\" onclick=\"convertToInteractive('df-34ab8dba-8351-4336-8852-7ece2134bde7')\"\n",
              "              title=\"Convert this dataframe to an interactive table.\"\n",
              "              style=\"display:none;\">\n",
              "        \n",
              "  <svg xmlns=\"http://www.w3.org/2000/svg\" height=\"24px\"viewBox=\"0 0 24 24\"\n",
              "       width=\"24px\">\n",
              "    <path d=\"M0 0h24v24H0V0z\" fill=\"none\"/>\n",
              "    <path d=\"M18.56 5.44l.94 2.06.94-2.06 2.06-.94-2.06-.94-.94-2.06-.94 2.06-2.06.94zm-11 1L8.5 8.5l.94-2.06 2.06-.94-2.06-.94L8.5 2.5l-.94 2.06-2.06.94zm10 10l.94 2.06.94-2.06 2.06-.94-2.06-.94-.94-2.06-.94 2.06-2.06.94z\"/><path d=\"M17.41 7.96l-1.37-1.37c-.4-.4-.92-.59-1.43-.59-.52 0-1.04.2-1.43.59L10.3 9.45l-7.72 7.72c-.78.78-.78 2.05 0 2.83L4 21.41c.39.39.9.59 1.41.59.51 0 1.02-.2 1.41-.59l7.78-7.78 2.81-2.81c.8-.78.8-2.07 0-2.86zM5.41 20L4 18.59l7.72-7.72 1.47 1.35L5.41 20z\"/>\n",
              "  </svg>\n",
              "      </button>\n",
              "      \n",
              "  <style>\n",
              "    .colab-df-container {\n",
              "      display:flex;\n",
              "      flex-wrap:wrap;\n",
              "      gap: 12px;\n",
              "    }\n",
              "\n",
              "    .colab-df-convert {\n",
              "      background-color: #E8F0FE;\n",
              "      border: none;\n",
              "      border-radius: 50%;\n",
              "      cursor: pointer;\n",
              "      display: none;\n",
              "      fill: #1967D2;\n",
              "      height: 32px;\n",
              "      padding: 0 0 0 0;\n",
              "      width: 32px;\n",
              "    }\n",
              "\n",
              "    .colab-df-convert:hover {\n",
              "      background-color: #E2EBFA;\n",
              "      box-shadow: 0px 1px 2px rgba(60, 64, 67, 0.3), 0px 1px 3px 1px rgba(60, 64, 67, 0.15);\n",
              "      fill: #174EA6;\n",
              "    }\n",
              "\n",
              "    [theme=dark] .colab-df-convert {\n",
              "      background-color: #3B4455;\n",
              "      fill: #D2E3FC;\n",
              "    }\n",
              "\n",
              "    [theme=dark] .colab-df-convert:hover {\n",
              "      background-color: #434B5C;\n",
              "      box-shadow: 0px 1px 3px 1px rgba(0, 0, 0, 0.15);\n",
              "      filter: drop-shadow(0px 1px 2px rgba(0, 0, 0, 0.3));\n",
              "      fill: #FFFFFF;\n",
              "    }\n",
              "  </style>\n",
              "\n",
              "      <script>\n",
              "        const buttonEl =\n",
              "          document.querySelector('#df-34ab8dba-8351-4336-8852-7ece2134bde7 button.colab-df-convert');\n",
              "        buttonEl.style.display =\n",
              "          google.colab.kernel.accessAllowed ? 'block' : 'none';\n",
              "\n",
              "        async function convertToInteractive(key) {\n",
              "          const element = document.querySelector('#df-34ab8dba-8351-4336-8852-7ece2134bde7');\n",
              "          const dataTable =\n",
              "            await google.colab.kernel.invokeFunction('convertToInteractive',\n",
              "                                                     [key], {});\n",
              "          if (!dataTable) return;\n",
              "\n",
              "          const docLinkHtml = 'Like what you see? Visit the ' +\n",
              "            '<a target=\"_blank\" href=https://colab.research.google.com/notebooks/data_table.ipynb>data table notebook</a>'\n",
              "            + ' to learn more about interactive tables.';\n",
              "          element.innerHTML = '';\n",
              "          dataTable['output_type'] = 'display_data';\n",
              "          await google.colab.output.renderOutput(dataTable, element);\n",
              "          const docLink = document.createElement('div');\n",
              "          docLink.innerHTML = docLinkHtml;\n",
              "          element.appendChild(docLink);\n",
              "        }\n",
              "      </script>\n",
              "    </div>\n",
              "  </div>\n",
              "  "
            ]
          },
          "metadata": {},
          "execution_count": 50
        }
      ]
    },
    {
      "cell_type": "code",
      "source": [
        "# Load the model from the file\n",
        "loaded_model = joblib.load(filename)\n",
        "\n",
        "# Create a numpy array containing a new observation (for example tomorrow's seasonal and weather forecast information)\n",
        "X_new = np.array(track_prueba_df).astype('float64')\n",
        "print ('New sample: {}'.format(list(X_new[0])))\n",
        "\n",
        "# Use the model to predict tomorrow's rentals\n",
        "results = loaded_model.predict(X_new)\n",
        "print('Predictions:')\n",
        "for prediction in results:\n",
        "    print(round(prediction,2))"
      ],
      "metadata": {
        "colab": {
          "base_uri": "https://localhost:8080/"
        },
        "id": "9uT8ciMdX6RS",
        "outputId": "540b14dc-4406-44bc-aa78-a6b326322a5e"
      },
      "execution_count": null,
      "outputs": [
        {
          "output_type": "stream",
          "name": "stdout",
          "text": [
            "New sample: [204.6, 0.817, 0.714, 7.501, 0.0, 0.184, 0.000132, 0.141, 0.042, 0.714, 94.001]\n",
            "Predictions:\n",
            "0\n"
          ]
        }
      ]
    },
    {
      "cell_type": "markdown",
      "source": [
        "Gladly, the model (has been right) shows that it works (showing that according to) thanks to the inputted data, in other words, my music taste, and it confirms that I like Simple Minds' song and dislike Don Omar's. \n",
        "\n",
        "As a result, it is clear that to build a strong model, we need to start with much more data, but as an initial experiment, at least, we've succeeded in our objective.\n"
      ],
      "metadata": {
        "id": "93V2oo8Osl8o"
      }
    }
  ]
}